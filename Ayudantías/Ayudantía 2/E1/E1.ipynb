{
 "cells": [
  {
   "cell_type": "markdown",
   "metadata": {},
   "source": [
    "# Ejercicio Formativo 1 Capítulo 2"
   ]
  },
  {
   "cell_type": "markdown",
   "metadata": {},
   "source": [
    "## Importando librerías"
   ]
  },
  {
   "cell_type": "code",
   "execution_count": 1,
   "metadata": {},
   "outputs": [],
   "source": [
    "import pandas as pd\n",
    "import numpy as np\n",
    "import matplotlib.pyplot as plt\n",
    "from IPython.display import display #para mostrar más de un elemento por celda de Jupyter"
   ]
  },
  {
   "cell_type": "markdown",
   "metadata": {},
   "source": [
    "## Parte 3:"
   ]
  },
  {
   "cell_type": "markdown",
   "metadata": {},
   "source": [
    "Se utilizo el método `read_csv` de la librería `pandas`, la cual permite leer un archivo csv y convertirlo en un DataFrame, la sintaxys de esta función es:\n",
    "\n",
    "```python\n",
    "df = pd.read_csv('nombre_archivo.csv')\n",
    "```\n",
    "\n",
    "También se utilizo la función `head` de la librería `pandas`, la cual permite visualizar las `n` primeras filas de un DataFrame, la sintaxys de esta función es:\n",
    "\n",
    "```python\n",
    "df.head(n)\n",
    "```\n",
    "\n",
    "Y se utilizo la función `display` de la librería `IPython.display`, la cual permite mostrar un DataFrame en un formato más amigable, la sintaxys de esta función es:\n",
    "\n",
    "```python\n",
    "display(df)\n",
    "```"
   ]
  },
  {
   "cell_type": "code",
   "execution_count": 2,
   "metadata": {},
   "outputs": [
    {
     "data": {
      "text/html": [
       "<div>\n",
       "<style scoped>\n",
       "    .dataframe tbody tr th:only-of-type {\n",
       "        vertical-align: middle;\n",
       "    }\n",
       "\n",
       "    .dataframe tbody tr th {\n",
       "        vertical-align: top;\n",
       "    }\n",
       "\n",
       "    .dataframe thead th {\n",
       "        text-align: right;\n",
       "    }\n",
       "</style>\n",
       "<table border=\"1\" class=\"dataframe\">\n",
       "  <thead>\n",
       "    <tr style=\"text-align: right;\">\n",
       "      <th></th>\n",
       "      <th>X</th>\n",
       "      <th>Y</th>\n",
       "      <th>Set</th>\n",
       "    </tr>\n",
       "  </thead>\n",
       "  <tbody>\n",
       "    <tr>\n",
       "      <th>0</th>\n",
       "      <td>8</td>\n",
       "      <td>6.58</td>\n",
       "      <td>A</td>\n",
       "    </tr>\n",
       "    <tr>\n",
       "      <th>1</th>\n",
       "      <td>8</td>\n",
       "      <td>5.76</td>\n",
       "      <td>A</td>\n",
       "    </tr>\n",
       "    <tr>\n",
       "      <th>2</th>\n",
       "      <td>8</td>\n",
       "      <td>7.71</td>\n",
       "      <td>A</td>\n",
       "    </tr>\n",
       "    <tr>\n",
       "      <th>3</th>\n",
       "      <td>8</td>\n",
       "      <td>8.84</td>\n",
       "      <td>A</td>\n",
       "    </tr>\n",
       "    <tr>\n",
       "      <th>4</th>\n",
       "      <td>8</td>\n",
       "      <td>8.47</td>\n",
       "      <td>A</td>\n",
       "    </tr>\n",
       "    <tr>\n",
       "      <th>5</th>\n",
       "      <td>8</td>\n",
       "      <td>7.04</td>\n",
       "      <td>A</td>\n",
       "    </tr>\n",
       "    <tr>\n",
       "      <th>6</th>\n",
       "      <td>8</td>\n",
       "      <td>5.25</td>\n",
       "      <td>A</td>\n",
       "    </tr>\n",
       "    <tr>\n",
       "      <th>7</th>\n",
       "      <td>19</td>\n",
       "      <td>12.50</td>\n",
       "      <td>A</td>\n",
       "    </tr>\n",
       "    <tr>\n",
       "      <th>8</th>\n",
       "      <td>8</td>\n",
       "      <td>5.56</td>\n",
       "      <td>A</td>\n",
       "    </tr>\n",
       "    <tr>\n",
       "      <th>9</th>\n",
       "      <td>8</td>\n",
       "      <td>7.91</td>\n",
       "      <td>A</td>\n",
       "    </tr>\n",
       "  </tbody>\n",
       "</table>\n",
       "</div>"
      ],
      "text/plain": [
       "    X      Y Set\n",
       "0   8   6.58   A\n",
       "1   8   5.76   A\n",
       "2   8   7.71   A\n",
       "3   8   8.84   A\n",
       "4   8   8.47   A\n",
       "5   8   7.04   A\n",
       "6   8   5.25   A\n",
       "7  19  12.50   A\n",
       "8   8   5.56   A\n",
       "9   8   7.91   A"
      ]
     },
     "metadata": {},
     "output_type": "display_data"
    }
   ],
   "source": [
    "df = pd.read_csv(\"data_E1.csv\")\n",
    "display(df.head(10))"
   ]
  },
  {
   "cell_type": "markdown",
   "metadata": {},
   "source": [
    "## Parte 4:"
   ]
  },
  {
   "cell_type": "markdown",
   "metadata": {},
   "source": [
    "Se utilizará `group_by` de pandas para agrupar los datos, esta función tiene la siguiente sintaixs:\n",
    "\n",
    "```python\n",
    "DataFrame.groupby(by=None, axis=0, level=None, as_index=True, sort=True, group_keys=True, squeeze=False, observed=False, dropna=True)\n",
    "```\n",
    "\n",
    "Donde:\n",
    "- `by` es la columna o columnas por las que se agruparán los datos. También puede ser una función o un diccionario.\n",
    "- `axis` es el eje a lo largo del cual se agruparán los datos. Por defecto es 0, lo que significa que se agruparán por filas. Si se establece en 1, se agruparán por columnas.\n",
    "- `level` es el nivel de jerarquía en el que se agruparán los datos.\n",
    "- `as_index` es un booleano que indica si se debe devolver un DataFrame con el índice de grupo como índice o no.\n",
    "- `sort` es un booleano que indica si se deben ordenar los grupos.\n",
    "- `group_keys` es un booleano que indica si se deben mostrar las claves de grupo.\n",
    "- `squeeze` es un booleano que indica si se debe devolver un DataFrame con una sola columna si es posible.\n",
    "- `observed` es un booleano que indica si se deben mostrar todas las categorías, incluso si no están presentes en los datos.\n",
    "- `dropna` es un booleano que indica si se deben eliminar las filas con valores nulos.\n",
    "\n",
    "Para este ejercicio, solo se entregará el valor para el parametro `by`. Es decir la sintaxis será:\n",
    "\n",
    "```python\n",
    "DataFrame.groupby(by)\n",
    "```\n",
    "\n",
    "Los demás parámetros se mantendrán con sus valores por defecto. Y se pueden investogar más acerca de ellos en la documentación oficial de pandas."
   ]
  },
  {
   "cell_type": "code",
   "execution_count": 3,
   "metadata": {},
   "outputs": [],
   "source": [
    "dataframe_agrupado = df.groupby('Set')"
   ]
  },
  {
   "cell_type": "code",
   "execution_count": 4,
   "metadata": {},
   "outputs": [
    {
     "name": "stdout",
     "output_type": "stream",
     "text": [
      "<pandas.core.groupby.generic.DataFrameGroupBy object at 0x0000021BD3ECF6A0>\n"
     ]
    }
   ],
   "source": [
    "print(dataframe_agrupado)"
   ]
  },
  {
   "cell_type": "markdown",
   "metadata": {},
   "source": [
    "Como se puede ver al hacer `group_by` se obtiene un objeto de tipo `DataFrameGroupBy`, que es un objeto que contiene información sobre los grupos y permite realizar operaciones sobre ellos.\n"
   ]
  },
  {
   "cell_type": "markdown",
   "metadata": {},
   "source": [
    "Una función que se puede utilizar con un objeto `DataFrameGroupBy` es `groups`, que devuelve un diccionario con las claves de grupo y los índices de las filas que pertenecen a cada grupo."
   ]
  },
  {
   "cell_type": "code",
   "execution_count": 5,
   "metadata": {},
   "outputs": [
    {
     "name": "stdout",
     "output_type": "stream",
     "text": [
      "{'A': [0, 1, 2, 3, 4, 5, 6, 7, 8, 9, 10], 'B': [11, 12, 13, 14, 15, 16, 17, 18, 19, 20, 21], 'C': [22, 23, 24, 25, 26, 27, 28, 29, 30, 31, 32], 'D': [33, 34, 35, 36, 37, 38, 39, 40, 41, 42, 43]}\n"
     ]
    }
   ],
   "source": [
    "print(dataframe_agrupado.groups)"
   ]
  },
  {
   "cell_type": "markdown",
   "metadata": {},
   "source": [
    "Otra función que se puede utilizar con un objeto `DataFrameGroupBy` es `get_group`, que permite obtener un grupo específico."
   ]
  },
  {
   "cell_type": "code",
   "execution_count": 6,
   "metadata": {},
   "outputs": [
    {
     "name": "stdout",
     "output_type": "stream",
     "text": [
      "     X      Y Set\n",
      "0    8   6.58   A\n",
      "1    8   5.76   A\n",
      "2    8   7.71   A\n",
      "3    8   8.84   A\n",
      "4    8   8.47   A\n",
      "5    8   7.04   A\n",
      "6    8   5.25   A\n",
      "7   19  12.50   A\n",
      "8    8   5.56   A\n",
      "9    8   7.91   A\n",
      "10   8   6.89   A\n"
     ]
    }
   ],
   "source": [
    "print(dataframe_agrupado.get_group('A'))"
   ]
  },
  {
   "cell_type": "markdown",
   "metadata": {},
   "source": [
    "También posee otras funcionalidades que se pueden investigar en la documentación oficial de pandas."
   ]
  },
  {
   "cell_type": "markdown",
   "metadata": {},
   "source": [
    "Una característica importante de un objeto `DataFrameGroupBy` es que es posible iterar sobre él, lo que permite realizar operaciones sobre cada grupo. Cuando se itera sobre un objeto `DataFrameGroupBy`, se obtienen tuplas con la clave de grupo y el DataFrame correspondiente a ese grupo."
   ]
  },
  {
   "cell_type": "code",
   "execution_count": 7,
   "metadata": {},
   "outputs": [
    {
     "name": "stdout",
     "output_type": "stream",
     "text": [
      "A\n"
     ]
    },
    {
     "data": {
      "text/html": [
       "<div>\n",
       "<style scoped>\n",
       "    .dataframe tbody tr th:only-of-type {\n",
       "        vertical-align: middle;\n",
       "    }\n",
       "\n",
       "    .dataframe tbody tr th {\n",
       "        vertical-align: top;\n",
       "    }\n",
       "\n",
       "    .dataframe thead th {\n",
       "        text-align: right;\n",
       "    }\n",
       "</style>\n",
       "<table border=\"1\" class=\"dataframe\">\n",
       "  <thead>\n",
       "    <tr style=\"text-align: right;\">\n",
       "      <th></th>\n",
       "      <th>X</th>\n",
       "      <th>Y</th>\n",
       "      <th>Set</th>\n",
       "    </tr>\n",
       "  </thead>\n",
       "  <tbody>\n",
       "    <tr>\n",
       "      <th>0</th>\n",
       "      <td>8</td>\n",
       "      <td>6.58</td>\n",
       "      <td>A</td>\n",
       "    </tr>\n",
       "    <tr>\n",
       "      <th>1</th>\n",
       "      <td>8</td>\n",
       "      <td>5.76</td>\n",
       "      <td>A</td>\n",
       "    </tr>\n",
       "    <tr>\n",
       "      <th>2</th>\n",
       "      <td>8</td>\n",
       "      <td>7.71</td>\n",
       "      <td>A</td>\n",
       "    </tr>\n",
       "    <tr>\n",
       "      <th>3</th>\n",
       "      <td>8</td>\n",
       "      <td>8.84</td>\n",
       "      <td>A</td>\n",
       "    </tr>\n",
       "    <tr>\n",
       "      <th>4</th>\n",
       "      <td>8</td>\n",
       "      <td>8.47</td>\n",
       "      <td>A</td>\n",
       "    </tr>\n",
       "    <tr>\n",
       "      <th>5</th>\n",
       "      <td>8</td>\n",
       "      <td>7.04</td>\n",
       "      <td>A</td>\n",
       "    </tr>\n",
       "    <tr>\n",
       "      <th>6</th>\n",
       "      <td>8</td>\n",
       "      <td>5.25</td>\n",
       "      <td>A</td>\n",
       "    </tr>\n",
       "    <tr>\n",
       "      <th>7</th>\n",
       "      <td>19</td>\n",
       "      <td>12.50</td>\n",
       "      <td>A</td>\n",
       "    </tr>\n",
       "    <tr>\n",
       "      <th>8</th>\n",
       "      <td>8</td>\n",
       "      <td>5.56</td>\n",
       "      <td>A</td>\n",
       "    </tr>\n",
       "    <tr>\n",
       "      <th>9</th>\n",
       "      <td>8</td>\n",
       "      <td>7.91</td>\n",
       "      <td>A</td>\n",
       "    </tr>\n",
       "    <tr>\n",
       "      <th>10</th>\n",
       "      <td>8</td>\n",
       "      <td>6.89</td>\n",
       "      <td>A</td>\n",
       "    </tr>\n",
       "  </tbody>\n",
       "</table>\n",
       "</div>"
      ],
      "text/plain": [
       "     X      Y Set\n",
       "0    8   6.58   A\n",
       "1    8   5.76   A\n",
       "2    8   7.71   A\n",
       "3    8   8.84   A\n",
       "4    8   8.47   A\n",
       "5    8   7.04   A\n",
       "6    8   5.25   A\n",
       "7   19  12.50   A\n",
       "8    8   5.56   A\n",
       "9    8   7.91   A\n",
       "10   8   6.89   A"
      ]
     },
     "metadata": {},
     "output_type": "display_data"
    },
    {
     "name": "stdout",
     "output_type": "stream",
     "text": [
      "Longitud de A: 11\n",
      "\n",
      "\n",
      "B\n"
     ]
    },
    {
     "data": {
      "text/html": [
       "<div>\n",
       "<style scoped>\n",
       "    .dataframe tbody tr th:only-of-type {\n",
       "        vertical-align: middle;\n",
       "    }\n",
       "\n",
       "    .dataframe tbody tr th {\n",
       "        vertical-align: top;\n",
       "    }\n",
       "\n",
       "    .dataframe thead th {\n",
       "        text-align: right;\n",
       "    }\n",
       "</style>\n",
       "<table border=\"1\" class=\"dataframe\">\n",
       "  <thead>\n",
       "    <tr style=\"text-align: right;\">\n",
       "      <th></th>\n",
       "      <th>X</th>\n",
       "      <th>Y</th>\n",
       "      <th>Set</th>\n",
       "    </tr>\n",
       "  </thead>\n",
       "  <tbody>\n",
       "    <tr>\n",
       "      <th>11</th>\n",
       "      <td>10</td>\n",
       "      <td>9.14</td>\n",
       "      <td>B</td>\n",
       "    </tr>\n",
       "    <tr>\n",
       "      <th>12</th>\n",
       "      <td>8</td>\n",
       "      <td>8.14</td>\n",
       "      <td>B</td>\n",
       "    </tr>\n",
       "    <tr>\n",
       "      <th>13</th>\n",
       "      <td>13</td>\n",
       "      <td>8.74</td>\n",
       "      <td>B</td>\n",
       "    </tr>\n",
       "    <tr>\n",
       "      <th>14</th>\n",
       "      <td>9</td>\n",
       "      <td>8.77</td>\n",
       "      <td>B</td>\n",
       "    </tr>\n",
       "    <tr>\n",
       "      <th>15</th>\n",
       "      <td>11</td>\n",
       "      <td>9.26</td>\n",
       "      <td>B</td>\n",
       "    </tr>\n",
       "    <tr>\n",
       "      <th>16</th>\n",
       "      <td>14</td>\n",
       "      <td>8.10</td>\n",
       "      <td>B</td>\n",
       "    </tr>\n",
       "    <tr>\n",
       "      <th>17</th>\n",
       "      <td>6</td>\n",
       "      <td>6.13</td>\n",
       "      <td>B</td>\n",
       "    </tr>\n",
       "    <tr>\n",
       "      <th>18</th>\n",
       "      <td>4</td>\n",
       "      <td>3.10</td>\n",
       "      <td>B</td>\n",
       "    </tr>\n",
       "    <tr>\n",
       "      <th>19</th>\n",
       "      <td>12</td>\n",
       "      <td>9.13</td>\n",
       "      <td>B</td>\n",
       "    </tr>\n",
       "    <tr>\n",
       "      <th>20</th>\n",
       "      <td>7</td>\n",
       "      <td>7.26</td>\n",
       "      <td>B</td>\n",
       "    </tr>\n",
       "    <tr>\n",
       "      <th>21</th>\n",
       "      <td>5</td>\n",
       "      <td>4.74</td>\n",
       "      <td>B</td>\n",
       "    </tr>\n",
       "  </tbody>\n",
       "</table>\n",
       "</div>"
      ],
      "text/plain": [
       "     X     Y Set\n",
       "11  10  9.14   B\n",
       "12   8  8.14   B\n",
       "13  13  8.74   B\n",
       "14   9  8.77   B\n",
       "15  11  9.26   B\n",
       "16  14  8.10   B\n",
       "17   6  6.13   B\n",
       "18   4  3.10   B\n",
       "19  12  9.13   B\n",
       "20   7  7.26   B\n",
       "21   5  4.74   B"
      ]
     },
     "metadata": {},
     "output_type": "display_data"
    },
    {
     "name": "stdout",
     "output_type": "stream",
     "text": [
      "Longitud de B: 11\n",
      "\n",
      "\n",
      "C\n"
     ]
    },
    {
     "data": {
      "text/html": [
       "<div>\n",
       "<style scoped>\n",
       "    .dataframe tbody tr th:only-of-type {\n",
       "        vertical-align: middle;\n",
       "    }\n",
       "\n",
       "    .dataframe tbody tr th {\n",
       "        vertical-align: top;\n",
       "    }\n",
       "\n",
       "    .dataframe thead th {\n",
       "        text-align: right;\n",
       "    }\n",
       "</style>\n",
       "<table border=\"1\" class=\"dataframe\">\n",
       "  <thead>\n",
       "    <tr style=\"text-align: right;\">\n",
       "      <th></th>\n",
       "      <th>X</th>\n",
       "      <th>Y</th>\n",
       "      <th>Set</th>\n",
       "    </tr>\n",
       "  </thead>\n",
       "  <tbody>\n",
       "    <tr>\n",
       "      <th>22</th>\n",
       "      <td>10</td>\n",
       "      <td>7.46</td>\n",
       "      <td>C</td>\n",
       "    </tr>\n",
       "    <tr>\n",
       "      <th>23</th>\n",
       "      <td>8</td>\n",
       "      <td>6.77</td>\n",
       "      <td>C</td>\n",
       "    </tr>\n",
       "    <tr>\n",
       "      <th>24</th>\n",
       "      <td>13</td>\n",
       "      <td>12.74</td>\n",
       "      <td>C</td>\n",
       "    </tr>\n",
       "    <tr>\n",
       "      <th>25</th>\n",
       "      <td>9</td>\n",
       "      <td>7.11</td>\n",
       "      <td>C</td>\n",
       "    </tr>\n",
       "    <tr>\n",
       "      <th>26</th>\n",
       "      <td>11</td>\n",
       "      <td>7.81</td>\n",
       "      <td>C</td>\n",
       "    </tr>\n",
       "    <tr>\n",
       "      <th>27</th>\n",
       "      <td>14</td>\n",
       "      <td>8.84</td>\n",
       "      <td>C</td>\n",
       "    </tr>\n",
       "    <tr>\n",
       "      <th>28</th>\n",
       "      <td>6</td>\n",
       "      <td>6.08</td>\n",
       "      <td>C</td>\n",
       "    </tr>\n",
       "    <tr>\n",
       "      <th>29</th>\n",
       "      <td>4</td>\n",
       "      <td>5.39</td>\n",
       "      <td>C</td>\n",
       "    </tr>\n",
       "    <tr>\n",
       "      <th>30</th>\n",
       "      <td>12</td>\n",
       "      <td>8.15</td>\n",
       "      <td>C</td>\n",
       "    </tr>\n",
       "    <tr>\n",
       "      <th>31</th>\n",
       "      <td>7</td>\n",
       "      <td>6.42</td>\n",
       "      <td>C</td>\n",
       "    </tr>\n",
       "    <tr>\n",
       "      <th>32</th>\n",
       "      <td>5</td>\n",
       "      <td>5.73</td>\n",
       "      <td>C</td>\n",
       "    </tr>\n",
       "  </tbody>\n",
       "</table>\n",
       "</div>"
      ],
      "text/plain": [
       "     X      Y Set\n",
       "22  10   7.46   C\n",
       "23   8   6.77   C\n",
       "24  13  12.74   C\n",
       "25   9   7.11   C\n",
       "26  11   7.81   C\n",
       "27  14   8.84   C\n",
       "28   6   6.08   C\n",
       "29   4   5.39   C\n",
       "30  12   8.15   C\n",
       "31   7   6.42   C\n",
       "32   5   5.73   C"
      ]
     },
     "metadata": {},
     "output_type": "display_data"
    },
    {
     "name": "stdout",
     "output_type": "stream",
     "text": [
      "Longitud de C: 11\n",
      "\n",
      "\n",
      "D\n"
     ]
    },
    {
     "data": {
      "text/html": [
       "<div>\n",
       "<style scoped>\n",
       "    .dataframe tbody tr th:only-of-type {\n",
       "        vertical-align: middle;\n",
       "    }\n",
       "\n",
       "    .dataframe tbody tr th {\n",
       "        vertical-align: top;\n",
       "    }\n",
       "\n",
       "    .dataframe thead th {\n",
       "        text-align: right;\n",
       "    }\n",
       "</style>\n",
       "<table border=\"1\" class=\"dataframe\">\n",
       "  <thead>\n",
       "    <tr style=\"text-align: right;\">\n",
       "      <th></th>\n",
       "      <th>X</th>\n",
       "      <th>Y</th>\n",
       "      <th>Set</th>\n",
       "    </tr>\n",
       "  </thead>\n",
       "  <tbody>\n",
       "    <tr>\n",
       "      <th>33</th>\n",
       "      <td>10</td>\n",
       "      <td>8.04</td>\n",
       "      <td>D</td>\n",
       "    </tr>\n",
       "    <tr>\n",
       "      <th>34</th>\n",
       "      <td>8</td>\n",
       "      <td>6.95</td>\n",
       "      <td>D</td>\n",
       "    </tr>\n",
       "    <tr>\n",
       "      <th>35</th>\n",
       "      <td>13</td>\n",
       "      <td>7.58</td>\n",
       "      <td>D</td>\n",
       "    </tr>\n",
       "    <tr>\n",
       "      <th>36</th>\n",
       "      <td>9</td>\n",
       "      <td>8.81</td>\n",
       "      <td>D</td>\n",
       "    </tr>\n",
       "    <tr>\n",
       "      <th>37</th>\n",
       "      <td>11</td>\n",
       "      <td>8.33</td>\n",
       "      <td>D</td>\n",
       "    </tr>\n",
       "    <tr>\n",
       "      <th>38</th>\n",
       "      <td>14</td>\n",
       "      <td>9.96</td>\n",
       "      <td>D</td>\n",
       "    </tr>\n",
       "    <tr>\n",
       "      <th>39</th>\n",
       "      <td>6</td>\n",
       "      <td>7.24</td>\n",
       "      <td>D</td>\n",
       "    </tr>\n",
       "    <tr>\n",
       "      <th>40</th>\n",
       "      <td>4</td>\n",
       "      <td>4.26</td>\n",
       "      <td>D</td>\n",
       "    </tr>\n",
       "    <tr>\n",
       "      <th>41</th>\n",
       "      <td>12</td>\n",
       "      <td>10.84</td>\n",
       "      <td>D</td>\n",
       "    </tr>\n",
       "    <tr>\n",
       "      <th>42</th>\n",
       "      <td>7</td>\n",
       "      <td>4.82</td>\n",
       "      <td>D</td>\n",
       "    </tr>\n",
       "    <tr>\n",
       "      <th>43</th>\n",
       "      <td>5</td>\n",
       "      <td>5.68</td>\n",
       "      <td>D</td>\n",
       "    </tr>\n",
       "  </tbody>\n",
       "</table>\n",
       "</div>"
      ],
      "text/plain": [
       "     X      Y Set\n",
       "33  10   8.04   D\n",
       "34   8   6.95   D\n",
       "35  13   7.58   D\n",
       "36   9   8.81   D\n",
       "37  11   8.33   D\n",
       "38  14   9.96   D\n",
       "39   6   7.24   D\n",
       "40   4   4.26   D\n",
       "41  12  10.84   D\n",
       "42   7   4.82   D\n",
       "43   5   5.68   D"
      ]
     },
     "metadata": {},
     "output_type": "display_data"
    },
    {
     "name": "stdout",
     "output_type": "stream",
     "text": [
      "Longitud de D: 11\n",
      "\n",
      "\n"
     ]
    }
   ],
   "source": [
    "for name, group in df.groupby('Set'):\n",
    "    print(name)\n",
    "    display(group)\n",
    "    print(f\"Longitud de {name}: {len(group)}\")\n",
    "    print(\"\\n\")"
   ]
  },
  {
   "cell_type": "markdown",
   "metadata": {},
   "source": [
    "También se debe tener en cuenta que un objeto `DataFrameGroupBy` es posible acceder a las columnas del DataFrame original, lo que permite realizar operaciones sobre ellas. La diferencia es que las operaciones se realizarán sobre cada grupo en lugar de sobre todo el DataFrame. Se utiliza la misma sintaxys que en un Dataframe normal, la cual es:\n",
    "\n",
    "```python\n",
    "DataFrameGroupBy['columna']\n",
    "```"
   ]
  },
  {
   "cell_type": "code",
   "execution_count": 8,
   "metadata": {},
   "outputs": [
    {
     "data": {
      "text/html": [
       "<div>\n",
       "<style scoped>\n",
       "    .dataframe tbody tr th:only-of-type {\n",
       "        vertical-align: middle;\n",
       "    }\n",
       "\n",
       "    .dataframe tbody tr th {\n",
       "        vertical-align: top;\n",
       "    }\n",
       "\n",
       "    .dataframe thead th {\n",
       "        text-align: right;\n",
       "    }\n",
       "</style>\n",
       "<table border=\"1\" class=\"dataframe\">\n",
       "  <thead>\n",
       "    <tr style=\"text-align: right;\">\n",
       "      <th></th>\n",
       "      <th>count</th>\n",
       "      <th>mean</th>\n",
       "      <th>std</th>\n",
       "      <th>min</th>\n",
       "      <th>25%</th>\n",
       "      <th>50%</th>\n",
       "      <th>75%</th>\n",
       "      <th>max</th>\n",
       "    </tr>\n",
       "    <tr>\n",
       "      <th>Set</th>\n",
       "      <th></th>\n",
       "      <th></th>\n",
       "      <th></th>\n",
       "      <th></th>\n",
       "      <th></th>\n",
       "      <th></th>\n",
       "      <th></th>\n",
       "      <th></th>\n",
       "    </tr>\n",
       "  </thead>\n",
       "  <tbody>\n",
       "    <tr>\n",
       "      <th>A</th>\n",
       "      <td>11.0</td>\n",
       "      <td>9.0</td>\n",
       "      <td>3.316625</td>\n",
       "      <td>8.0</td>\n",
       "      <td>8.0</td>\n",
       "      <td>8.0</td>\n",
       "      <td>8.0</td>\n",
       "      <td>19.0</td>\n",
       "    </tr>\n",
       "    <tr>\n",
       "      <th>B</th>\n",
       "      <td>11.0</td>\n",
       "      <td>9.0</td>\n",
       "      <td>3.316625</td>\n",
       "      <td>4.0</td>\n",
       "      <td>6.5</td>\n",
       "      <td>9.0</td>\n",
       "      <td>11.5</td>\n",
       "      <td>14.0</td>\n",
       "    </tr>\n",
       "    <tr>\n",
       "      <th>C</th>\n",
       "      <td>11.0</td>\n",
       "      <td>9.0</td>\n",
       "      <td>3.316625</td>\n",
       "      <td>4.0</td>\n",
       "      <td>6.5</td>\n",
       "      <td>9.0</td>\n",
       "      <td>11.5</td>\n",
       "      <td>14.0</td>\n",
       "    </tr>\n",
       "    <tr>\n",
       "      <th>D</th>\n",
       "      <td>11.0</td>\n",
       "      <td>9.0</td>\n",
       "      <td>3.316625</td>\n",
       "      <td>4.0</td>\n",
       "      <td>6.5</td>\n",
       "      <td>9.0</td>\n",
       "      <td>11.5</td>\n",
       "      <td>14.0</td>\n",
       "    </tr>\n",
       "  </tbody>\n",
       "</table>\n",
       "</div>"
      ],
      "text/plain": [
       "     count  mean       std  min  25%  50%   75%   max\n",
       "Set                                                  \n",
       "A     11.0   9.0  3.316625  8.0  8.0  8.0   8.0  19.0\n",
       "B     11.0   9.0  3.316625  4.0  6.5  9.0  11.5  14.0\n",
       "C     11.0   9.0  3.316625  4.0  6.5  9.0  11.5  14.0\n",
       "D     11.0   9.0  3.316625  4.0  6.5  9.0  11.5  14.0"
      ]
     },
     "execution_count": 8,
     "metadata": {},
     "output_type": "execute_result"
    }
   ],
   "source": [
    "df.groupby('Set')['X'].describe()"
   ]
  },
  {
   "cell_type": "code",
   "execution_count": 9,
   "metadata": {},
   "outputs": [
    {
     "data": {
      "text/html": [
       "<div>\n",
       "<style scoped>\n",
       "    .dataframe tbody tr th:only-of-type {\n",
       "        vertical-align: middle;\n",
       "    }\n",
       "\n",
       "    .dataframe tbody tr th {\n",
       "        vertical-align: top;\n",
       "    }\n",
       "\n",
       "    .dataframe thead th {\n",
       "        text-align: right;\n",
       "    }\n",
       "</style>\n",
       "<table border=\"1\" class=\"dataframe\">\n",
       "  <thead>\n",
       "    <tr style=\"text-align: right;\">\n",
       "      <th></th>\n",
       "      <th>count</th>\n",
       "      <th>mean</th>\n",
       "      <th>std</th>\n",
       "      <th>min</th>\n",
       "      <th>25%</th>\n",
       "      <th>50%</th>\n",
       "      <th>75%</th>\n",
       "      <th>max</th>\n",
       "    </tr>\n",
       "    <tr>\n",
       "      <th>Set</th>\n",
       "      <th></th>\n",
       "      <th></th>\n",
       "      <th></th>\n",
       "      <th></th>\n",
       "      <th></th>\n",
       "      <th></th>\n",
       "      <th></th>\n",
       "      <th></th>\n",
       "    </tr>\n",
       "  </thead>\n",
       "  <tbody>\n",
       "    <tr>\n",
       "      <th>A</th>\n",
       "      <td>11.0</td>\n",
       "      <td>7.500909</td>\n",
       "      <td>2.030579</td>\n",
       "      <td>5.25</td>\n",
       "      <td>6.170</td>\n",
       "      <td>7.04</td>\n",
       "      <td>8.19</td>\n",
       "      <td>12.50</td>\n",
       "    </tr>\n",
       "    <tr>\n",
       "      <th>B</th>\n",
       "      <td>11.0</td>\n",
       "      <td>7.500909</td>\n",
       "      <td>2.031657</td>\n",
       "      <td>3.10</td>\n",
       "      <td>6.695</td>\n",
       "      <td>8.14</td>\n",
       "      <td>8.95</td>\n",
       "      <td>9.26</td>\n",
       "    </tr>\n",
       "    <tr>\n",
       "      <th>C</th>\n",
       "      <td>11.0</td>\n",
       "      <td>7.500000</td>\n",
       "      <td>2.030424</td>\n",
       "      <td>5.39</td>\n",
       "      <td>6.250</td>\n",
       "      <td>7.11</td>\n",
       "      <td>7.98</td>\n",
       "      <td>12.74</td>\n",
       "    </tr>\n",
       "    <tr>\n",
       "      <th>D</th>\n",
       "      <td>11.0</td>\n",
       "      <td>7.500909</td>\n",
       "      <td>2.031568</td>\n",
       "      <td>4.26</td>\n",
       "      <td>6.315</td>\n",
       "      <td>7.58</td>\n",
       "      <td>8.57</td>\n",
       "      <td>10.84</td>\n",
       "    </tr>\n",
       "  </tbody>\n",
       "</table>\n",
       "</div>"
      ],
      "text/plain": [
       "     count      mean       std   min    25%   50%   75%    max\n",
       "Set                                                           \n",
       "A     11.0  7.500909  2.030579  5.25  6.170  7.04  8.19  12.50\n",
       "B     11.0  7.500909  2.031657  3.10  6.695  8.14  8.95   9.26\n",
       "C     11.0  7.500000  2.030424  5.39  6.250  7.11  7.98  12.74\n",
       "D     11.0  7.500909  2.031568  4.26  6.315  7.58  8.57  10.84"
      ]
     },
     "execution_count": 9,
     "metadata": {},
     "output_type": "execute_result"
    }
   ],
   "source": [
    "df.groupby('Set')['Y'].describe()"
   ]
  },
  {
   "cell_type": "markdown",
   "metadata": {},
   "source": [
    "El simil de esto en un DataFrame normal sería:"
   ]
  },
  {
   "cell_type": "code",
   "execution_count": 10,
   "metadata": {},
   "outputs": [
    {
     "data": {
      "text/plain": [
       "count    44.000000\n",
       "mean      9.000000\n",
       "std       3.198837\n",
       "min       4.000000\n",
       "25%       7.000000\n",
       "50%       8.000000\n",
       "75%      11.000000\n",
       "max      19.000000\n",
       "Name: X, dtype: float64"
      ]
     },
     "execution_count": 10,
     "metadata": {},
     "output_type": "execute_result"
    }
   ],
   "source": [
    "df['X'].describe()"
   ]
  },
  {
   "cell_type": "code",
   "execution_count": 11,
   "metadata": {},
   "outputs": [
    {
     "data": {
      "text/plain": [
       "count    44.000000\n",
       "mean      7.500682\n",
       "std       1.958925\n",
       "min       3.100000\n",
       "25%       6.117500\n",
       "50%       7.520000\n",
       "75%       8.747500\n",
       "max      12.740000\n",
       "Name: Y, dtype: float64"
      ]
     },
     "execution_count": 11,
     "metadata": {},
     "output_type": "execute_result"
    }
   ],
   "source": [
    "df['Y'].describe()"
   ]
  },
  {
   "cell_type": "markdown",
   "metadata": {},
   "source": [
    "En el enunciado también se nos solicita la correlación entre las variables `X` e `Y` para cada grupo. Para esto se puede utilizar la función `corr` de pandas, que calcula la correlación entre las columnas de un DataFrame."
   ]
  },
  {
   "cell_type": "code",
   "execution_count": 12,
   "metadata": {},
   "outputs": [
    {
     "data": {
      "text/plain": [
       "Set\n",
       "A    0.816521\n",
       "B    0.816237\n",
       "C    0.816287\n",
       "D    0.816421\n",
       "Name: X, dtype: float64"
      ]
     },
     "execution_count": 12,
     "metadata": {},
     "output_type": "execute_result"
    }
   ],
   "source": [
    "df.groupby('Set')['X'].corr(df['Y'])"
   ]
  },
  {
   "cell_type": "markdown",
   "metadata": {},
   "source": [
    "Se debe recordar que la correlación indica la fuerza y la dirección de una relación lineal entre dos variables, es decir, si la correlación es positiva, significa que las variables están positivamente relacionadas cuando una aumenta, la otra también lo hace. Si la correlación es negativa, significa que las variables están negativamente relacionadas cuando una aumenta, la otra disminuye. Si la correlación es cero, significa que no hay relación lineal entre las variables. La correlación esta en el rango de -1 a 1."
   ]
  },
  {
   "cell_type": "markdown",
   "metadata": {},
   "source": [
    "Los datos que se obtuvieron fue que la correlación para cada es de 0.81 aproximadamente para cada grupo, esto significa que hay una relación positiva entre las variables `X` e `Y` en cada grupo."
   ]
  },
  {
   "cell_type": "markdown",
   "metadata": {},
   "source": [
    "También se nos pidió calcular la curtosis para cada grupo de `X` e `Y`, para lograr esto se uso la función `kurtosis` de pandas, que calcula la curtosis de las columnas de un DataFrame."
   ]
  },
  {
   "cell_type": "markdown",
   "metadata": {},
   "source": [
    "Es posible obtener la curtosis iterando sobre un objeto `DataFrameGroupBy` y aplicando la función `kurtosis` a cada grupo."
   ]
  },
  {
   "cell_type": "code",
   "execution_count": 13,
   "metadata": {},
   "outputs": [
    {
     "name": "stdout",
     "output_type": "stream",
     "text": [
      "La curtosis de A para X es: 11.0\n",
      "La curtosis de A para Y es: 3.151314922962853\n",
      "La curtosis de B para X es: -1.2000000000000002\n",
      "La curtosis de B para Y es: 0.8461232328218724\n",
      "La curtosis de C para X es: -1.2000000000000002\n",
      "La curtosis de C para Y es: 4.384088613065109\n",
      "La curtosis de D para X es: -1.2000000000000002\n",
      "La curtosis de D para Y es: -0.534897734372739\n"
     ]
    }
   ],
   "source": [
    "for name, group in df.groupby('Set'):\n",
    "    print(f\"La curtosis de {name} para X es: {group['X'].kurtosis()}\")\n",
    "    print(f\"La curtosis de {name} para Y es: {group['Y'].kurtosis()}\")"
   ]
  },
  {
   "cell_type": "markdown",
   "metadata": {},
   "source": [
    "Hay otra manera de lograrlo la cual es haciendo uso de la función `apply` de pandas, para un Dataframe normal la sintaxys es:\n",
    "\n",
    "```python\n",
    "DataFrame.apply(func, axis=0, raw=False, result_type=None, args=(), **kwds)\n",
    "```\n",
    "\n",
    "Donde:\n",
    "- `func` es la función que se aplicará a cada columna o fila.\n",
    "- `axis` es el eje a lo largo del cual se aplicará la función. Por defecto es 0, lo que significa que se aplicará a cada columna. Si se establece en 1, se aplicará a cada fila.\n",
    "- `raw` es un booleano que indica si se deben pasar las columnas o filas como Series a la función.\n",
    "- `result_type` es el tipo de resultado que se devolverá. Puede ser 'expand', 'reduce' o 'broadcast'.\n",
    "- `args` es una tupla de argumentos adicionales que se pasarán a la función.\n",
    "- `**kwds` son argumentos adicionales que se pasarán a la función.\n",
    "\n",
    "Para un objeto `DataFrameGroupBy` la sintaxys es:\n",
    "\n",
    "```python\n",
    "DataFrameGroupBy.apply(func, *args, **kwargs)\n",
    "```\n",
    "\n",
    "Donde:\n",
    "- `func` es la función que se aplicará a cada grupo.\n",
    "- `*args` son argumentos adicionales que se pasarán a la función.\n",
    "- `**kwargs` son argumentos adicionales que se pasarán a la función.\n",
    "\n",
    "En este caso se le aplicará una función `lamba` a cada grupo, la cual es:\n",
    "    \n",
    "```python\n",
    "lambda x: x.kurtosis()\n",
    "```\n"
   ]
  },
  {
   "cell_type": "code",
   "execution_count": 14,
   "metadata": {},
   "outputs": [
    {
     "data": {
      "text/html": [
       "<div>\n",
       "<style scoped>\n",
       "    .dataframe tbody tr th:only-of-type {\n",
       "        vertical-align: middle;\n",
       "    }\n",
       "\n",
       "    .dataframe tbody tr th {\n",
       "        vertical-align: top;\n",
       "    }\n",
       "\n",
       "    .dataframe thead th {\n",
       "        text-align: right;\n",
       "    }\n",
       "</style>\n",
       "<table border=\"1\" class=\"dataframe\">\n",
       "  <thead>\n",
       "    <tr style=\"text-align: right;\">\n",
       "      <th></th>\n",
       "      <th>X</th>\n",
       "      <th>Y</th>\n",
       "    </tr>\n",
       "    <tr>\n",
       "      <th>Set</th>\n",
       "      <th></th>\n",
       "      <th></th>\n",
       "    </tr>\n",
       "  </thead>\n",
       "  <tbody>\n",
       "    <tr>\n",
       "      <th>A</th>\n",
       "      <td>11.0</td>\n",
       "      <td>3.151315</td>\n",
       "    </tr>\n",
       "    <tr>\n",
       "      <th>B</th>\n",
       "      <td>-1.2</td>\n",
       "      <td>0.846123</td>\n",
       "    </tr>\n",
       "    <tr>\n",
       "      <th>C</th>\n",
       "      <td>-1.2</td>\n",
       "      <td>4.384089</td>\n",
       "    </tr>\n",
       "    <tr>\n",
       "      <th>D</th>\n",
       "      <td>-1.2</td>\n",
       "      <td>-0.534898</td>\n",
       "    </tr>\n",
       "  </tbody>\n",
       "</table>\n",
       "</div>"
      ],
      "text/plain": [
       "        X         Y\n",
       "Set                \n",
       "A    11.0  3.151315\n",
       "B    -1.2  0.846123\n",
       "C    -1.2  4.384089\n",
       "D    -1.2 -0.534898"
      ]
     },
     "execution_count": 14,
     "metadata": {},
     "output_type": "execute_result"
    }
   ],
   "source": [
    "df.groupby('Set').apply(lambda x: x.kurtosis())"
   ]
  },
  {
   "cell_type": "markdown",
   "metadata": {},
   "source": [
    "## Parte 6"
   ]
  },
  {
   "cell_type": "markdown",
   "metadata": {},
   "source": [
    "De la `Parte 4` se obtuvo lo siguiente:\n",
    "\n",
    "- Para los datos de `X` se obtuvo que la media y la desviación estándar son las mismas para cada grupo. Respecto al mínimo, el máximo y la curtosis son los mismos pero solo para los grupos `B`, `C` y `D`.\n",
    "\n",
    "- Para los datos de `Y` se obtuvo que la media y la desviación estándar son las mismas para cada grupo con algunas diferencias en los decimales. Respecto al mínimo, el máximo y la curtosis dieron resultados distinto para cada grupo."
   ]
  },
  {
   "cell_type": "code",
   "execution_count": 15,
   "metadata": {},
   "outputs": [
    {
     "name": "stderr",
     "output_type": "stream",
     "text": [
      "c:\\Users\\Ronaldo Sosa\\AppData\\Local\\Programs\\Python\\Python310\\lib\\site-packages\\pandas\\plotting\\_matplotlib\\core.py:1345: UserWarning: No data for colormapping provided via 'c'. Parameters 'cmap' will be ignored\n",
      "  scatter = ax.scatter(\n",
      "c:\\Users\\Ronaldo Sosa\\AppData\\Local\\Programs\\Python\\Python310\\lib\\site-packages\\pandas\\plotting\\_matplotlib\\core.py:1345: UserWarning: No data for colormapping provided via 'c'. Parameters 'cmap' will be ignored\n",
      "  scatter = ax.scatter(\n",
      "c:\\Users\\Ronaldo Sosa\\AppData\\Local\\Programs\\Python\\Python310\\lib\\site-packages\\pandas\\plotting\\_matplotlib\\core.py:1345: UserWarning: No data for colormapping provided via 'c'. Parameters 'cmap' will be ignored\n",
      "  scatter = ax.scatter(\n",
      "c:\\Users\\Ronaldo Sosa\\AppData\\Local\\Programs\\Python\\Python310\\lib\\site-packages\\pandas\\plotting\\_matplotlib\\core.py:1345: UserWarning: No data for colormapping provided via 'c'. Parameters 'cmap' will be ignored\n",
      "  scatter = ax.scatter(\n"
     ]
    },
    {
     "data": {
      "image/png": "[encoded data removed]",
      "text/plain": [
       "<Figure size 640x480 with 1 Axes>"
      ]
     },
     "metadata": {},
     "output_type": "display_data"
    },
    {
     "data": {
      "image/png": "[encoded data removed]",
      "text/plain": [
       "<Figure size 640x480 with 1 Axes>"
      ]
     },
     "metadata": {},
     "output_type": "display_data"
    },
    {
     "data": {
      "image/png": "[encoded data removed]",
      "text/plain": [
       "<Figure size 640x480 with 1 Axes>"
      ]
     },
     "metadata": {},
     "output_type": "display_data"
    },
    {
     "data": {
      "image/png": "[encoded data removed]",
      "text/plain": [
       "<Figure size 640x480 with 1 Axes>"
      ]
     },
     "metadata": {},
     "output_type": "display_data"
    }
   ],
   "source": [
    "for name, group in df.groupby('Set'):\n",
    "    group.plot.scatter(x='X', y='Y', colormap='viridis', title=f\"Gráfico para grupo {name}\")"
   ]
  },
  {
   "cell_type": "markdown",
   "metadata": {},
   "source": [
    "## Parte 7"
   ]
  },
  {
   "cell_type": "markdown",
   "metadata": {},
   "source": [
    "Para esta parte se creo una función llamada `redefiniendo_dataframe`, la cual recibe un DataFrame y retorna un nuevo Dataframe en el cual a cada grupo se le elimino el 10% aleatoriamente y se reemplazo por la media de cada grupo en esa columna (coordenada). Los pasos que se siguieron para lograr esto fueron los siguientes\n",
    "\n",
    "1. Se creo una lista vacía llamada `datos_nuevo_df`.\n",
    "2. Se itero sobre el objeto `DataFrameGroupBy` que se obtuvo al agrupar los datos por la columna `Set`.\n",
    "3. Se calculo el 10% de las filas de cada grupo. Esto indicaria la cantidad de filas que se eliminaran.\n",
    "4. Se obtuvieron las filas que se eliminaran de cada grupo de forma aleatoria, para ello se utilizo la función `choice` de la librería `random` de `numpy`. La cual tiene la siguiente sintaxys:\n",
    "\n",
    "    ```python\n",
    "    numpy.random.choice(a, size=None, replace=True, p=None)\n",
    "    ```\n",
    "\n",
    "    Donde:\n",
    "    - `a` es el array del cual se seleccionarán los elementos.\n",
    "    - `size` es el tamaño de la muestra.\n",
    "    - `replace` es un booleano que indica si se deben reemplazar los elementos seleccionados.\n",
    "\n",
    "    También se utilizo el método `index` de un DataFrame para obtener los índices de las filas que posee un grupo en especifico. La sintaxys de este método es:\n",
    "\n",
    "    ```python\n",
    "    DataFrame.index\n",
    "    ```\n",
    "\n",
    "    Entoces la manera en la que se seleccionaron aleatoriamente las filas a eliminar fue:\n",
    "\n",
    "    ```python\n",
    "    np.random.choice(df.index, size=filas_eliminar)\n",
    "    ```\n",
    "\n",
    "    Por ejemplo para el grupo `A` que consta de 11 elementos y se quiere eliminar el 10% de ellos, se obtendría:\n",
    "\n",
    "    ```python\n",
    "    np.random.choice([0, 1, 2, 3, 4, 5, 6, 7, 8, 9, 10], size=1)\n",
    "    ```\n",
    "5. Se eliminaron las filas de cada grupo que se obtuvieron en el paso anterior. Para llevar esto a cabo se utilizo el método `drop` de un DataFrame, la cual tiene la siguiente sintaxys:\n",
    "\n",
    "    ```python\n",
    "    DataFrame.drop(labels=None, axis=0, index=None, columns=None, level=None, inplace=False, errors='raise')\n",
    "    ```\n",
    "\n",
    "    Donde:\n",
    "\n",
    "    - `labels` es el índice o los índices de las filas o columnas que se eliminarán.\n",
    "    - `axis` es el eje a lo largo del cual se eliminarán las filas o columnas. Por defecto es 0, lo que significa que se eliminarán las filas. Si se establece en 1, se eliminarán las columnas.\n",
    "    - `index` es un alias de `labels`.\n",
    "    - `columns` es un alias de `labels`.\n",
    "    - `level` es el nivel de jerarquía en el que se eliminarán las filas o columnas.\n",
    "    - `inplace` es un booleano que indica si se modificará el DataFrame original o no.\n",
    "    - `errors` es una cadena que indica cómo manejar los errores. Puede ser 'raise', 'ignore' o 'coerce'.\n",
    "\n",
    "    Este método retorna un nuevo DataFrame con las filas o columnas eliminadas.\n",
    "\n",
    "6. Se calculo la media para cada grupo en cada columna. Para esto se utilizo el método `mean` de un DataFrame.\n",
    "7. Se crea un nuevo DataFrame con la misma cantidad de filas que fueron eliminadas, pero cuyo valor en las columnas será la media de cada grupo en esa columna.\n",
    "8. Se concatenaron los DataFrames obtenidos en los pasos 5 y 7. Para esto se utilizo la función `concat` de pandas.\n",
    "9. Se agrego el DataFrame obtenido en el paso anterior a la lista `datos_nuevo_df`.\n",
    "10. Una vez que se termino de iterar sobre el objeto `DataFrameGroupBy`, se creo un nuevo DataFrame con los datos obtenidos en la lista `datos_nuevo_df`. Para esto se utilizo el método `concat` de pandas."
   ]
  },
  {
   "cell_type": "code",
   "execution_count": 16,
   "metadata": {},
   "outputs": [],
   "source": [
    "def redefiniendo_dataframe(df):\n",
    "    # Paso 1\n",
    "    datos_nuevo_df = []\n",
    "    # Paso 2\n",
    "    for nombre, grupo in df.groupby('Set'):\n",
    "        print(f\"Los indices de las filas de este grupo son: {grupo.index}\")\n",
    "        # Paso 3\n",
    "        num_filas_eliminar = int(len(grupo) * 0.1)\n",
    "        # Paso 4\n",
    "        filas_eliminar = np.random.choice(grupo.index, num_filas_eliminar)\n",
    "        # Paso 5\n",
    "        grupo = grupo.drop(filas_eliminar)\n",
    "        print(f\"Se eliminaron {num_filas_eliminar} filas de {nombre}\")\n",
    "        print(f\"Las filas eliminadas fueron: {filas_eliminar}\")\n",
    "        # Paso 6\n",
    "        x_media = group['X'].mean()\n",
    "        y_media = group['Y'].mean()\n",
    "        # Paso 7\n",
    "        nuevas_filas = pd.DataFrame({\n",
    "            \"Set\": [nombre] * num_filas_eliminar,\n",
    "            \"X\": [x_media] * num_filas_eliminar, \n",
    "            \"Y\": [y_media] * num_filas_eliminar\n",
    "        })\n",
    "        # Paso 8\n",
    "        grupo = pd.concat([grupo, nuevas_filas])\n",
    "        # Paso 9\n",
    "        datos_nuevo_df.append(grupo)\n",
    "    # Paso 10\n",
    "    return pd.concat(datos_nuevo_df)\n",
    "        "
   ]
  },
  {
   "cell_type": "code",
   "execution_count": 17,
   "metadata": {},
   "outputs": [
    {
     "name": "stdout",
     "output_type": "stream",
     "text": [
      "Los indices de las filas de este grupo son: Index([0, 1, 2, 3, 4, 5, 6, 7, 8, 9, 10], dtype='int64')\n",
      "Se eliminaron 1 filas de A\n",
      "Las filas eliminadas fueron: [6]\n",
      "Los indices de las filas de este grupo son: Index([11, 12, 13, 14, 15, 16, 17, 18, 19, 20, 21], dtype='int64')\n",
      "Se eliminaron 1 filas de B\n",
      "Las filas eliminadas fueron: [12]\n",
      "Los indices de las filas de este grupo son: Index([22, 23, 24, 25, 26, 27, 28, 29, 30, 31, 32], dtype='int64')\n",
      "Se eliminaron 1 filas de C\n",
      "Las filas eliminadas fueron: [29]\n",
      "Los indices de las filas de este grupo son: Index([33, 34, 35, 36, 37, 38, 39, 40, 41, 42, 43], dtype='int64')\n",
      "Se eliminaron 1 filas de D\n",
      "Las filas eliminadas fueron: [38]\n"
     ]
    }
   ],
   "source": [
    "nuevo_df = redefiniendo_dataframe(df)"
   ]
  },
  {
   "cell_type": "code",
   "execution_count": 19,
   "metadata": {},
   "outputs": [
    {
     "data": {
      "text/html": [
       "<div>\n",
       "<style scoped>\n",
       "    .dataframe tbody tr th:only-of-type {\n",
       "        vertical-align: middle;\n",
       "    }\n",
       "\n",
       "    .dataframe tbody tr th {\n",
       "        vertical-align: top;\n",
       "    }\n",
       "\n",
       "    .dataframe thead th {\n",
       "        text-align: right;\n",
       "    }\n",
       "</style>\n",
       "<table border=\"1\" class=\"dataframe\">\n",
       "  <thead>\n",
       "    <tr style=\"text-align: right;\">\n",
       "      <th></th>\n",
       "      <th>X</th>\n",
       "      <th>Y</th>\n",
       "      <th>Set</th>\n",
       "    </tr>\n",
       "  </thead>\n",
       "  <tbody>\n",
       "    <tr>\n",
       "      <th>0</th>\n",
       "      <td>8</td>\n",
       "      <td>6.58</td>\n",
       "      <td>A</td>\n",
       "    </tr>\n",
       "    <tr>\n",
       "      <th>1</th>\n",
       "      <td>8</td>\n",
       "      <td>5.76</td>\n",
       "      <td>A</td>\n",
       "    </tr>\n",
       "    <tr>\n",
       "      <th>2</th>\n",
       "      <td>8</td>\n",
       "      <td>7.71</td>\n",
       "      <td>A</td>\n",
       "    </tr>\n",
       "    <tr>\n",
       "      <th>3</th>\n",
       "      <td>8</td>\n",
       "      <td>8.84</td>\n",
       "      <td>A</td>\n",
       "    </tr>\n",
       "    <tr>\n",
       "      <th>4</th>\n",
       "      <td>8</td>\n",
       "      <td>8.47</td>\n",
       "      <td>A</td>\n",
       "    </tr>\n",
       "    <tr>\n",
       "      <th>5</th>\n",
       "      <td>8</td>\n",
       "      <td>7.04</td>\n",
       "      <td>A</td>\n",
       "    </tr>\n",
       "    <tr>\n",
       "      <th>6</th>\n",
       "      <td>8</td>\n",
       "      <td>5.25</td>\n",
       "      <td>A</td>\n",
       "    </tr>\n",
       "    <tr>\n",
       "      <th>7</th>\n",
       "      <td>19</td>\n",
       "      <td>12.50</td>\n",
       "      <td>A</td>\n",
       "    </tr>\n",
       "    <tr>\n",
       "      <th>8</th>\n",
       "      <td>8</td>\n",
       "      <td>5.56</td>\n",
       "      <td>A</td>\n",
       "    </tr>\n",
       "    <tr>\n",
       "      <th>9</th>\n",
       "      <td>8</td>\n",
       "      <td>7.91</td>\n",
       "      <td>A</td>\n",
       "    </tr>\n",
       "    <tr>\n",
       "      <th>10</th>\n",
       "      <td>8</td>\n",
       "      <td>6.89</td>\n",
       "      <td>A</td>\n",
       "    </tr>\n",
       "  </tbody>\n",
       "</table>\n",
       "</div>"
      ],
      "text/plain": [
       "     X      Y Set\n",
       "0    8   6.58   A\n",
       "1    8   5.76   A\n",
       "2    8   7.71   A\n",
       "3    8   8.84   A\n",
       "4    8   8.47   A\n",
       "5    8   7.04   A\n",
       "6    8   5.25   A\n",
       "7   19  12.50   A\n",
       "8    8   5.56   A\n",
       "9    8   7.91   A\n",
       "10   8   6.89   A"
      ]
     },
     "execution_count": 19,
     "metadata": {},
     "output_type": "execute_result"
    }
   ],
   "source": [
    "df.groupby('Set').get_group('A')"
   ]
  },
  {
   "cell_type": "code",
   "execution_count": 20,
   "metadata": {},
   "outputs": [
    {
     "data": {
      "text/html": [
       "<div>\n",
       "<style scoped>\n",
       "    .dataframe tbody tr th:only-of-type {\n",
       "        vertical-align: middle;\n",
       "    }\n",
       "\n",
       "    .dataframe tbody tr th {\n",
       "        vertical-align: top;\n",
       "    }\n",
       "\n",
       "    .dataframe thead th {\n",
       "        text-align: right;\n",
       "    }\n",
       "</style>\n",
       "<table border=\"1\" class=\"dataframe\">\n",
       "  <thead>\n",
       "    <tr style=\"text-align: right;\">\n",
       "      <th></th>\n",
       "      <th>X</th>\n",
       "      <th>Y</th>\n",
       "      <th>Set</th>\n",
       "    </tr>\n",
       "  </thead>\n",
       "  <tbody>\n",
       "    <tr>\n",
       "      <th>0</th>\n",
       "      <td>8.0</td>\n",
       "      <td>6.580000</td>\n",
       "      <td>A</td>\n",
       "    </tr>\n",
       "    <tr>\n",
       "      <th>1</th>\n",
       "      <td>8.0</td>\n",
       "      <td>5.760000</td>\n",
       "      <td>A</td>\n",
       "    </tr>\n",
       "    <tr>\n",
       "      <th>2</th>\n",
       "      <td>8.0</td>\n",
       "      <td>7.710000</td>\n",
       "      <td>A</td>\n",
       "    </tr>\n",
       "    <tr>\n",
       "      <th>3</th>\n",
       "      <td>8.0</td>\n",
       "      <td>8.840000</td>\n",
       "      <td>A</td>\n",
       "    </tr>\n",
       "    <tr>\n",
       "      <th>4</th>\n",
       "      <td>8.0</td>\n",
       "      <td>8.470000</td>\n",
       "      <td>A</td>\n",
       "    </tr>\n",
       "    <tr>\n",
       "      <th>5</th>\n",
       "      <td>8.0</td>\n",
       "      <td>7.040000</td>\n",
       "      <td>A</td>\n",
       "    </tr>\n",
       "    <tr>\n",
       "      <th>7</th>\n",
       "      <td>19.0</td>\n",
       "      <td>12.500000</td>\n",
       "      <td>A</td>\n",
       "    </tr>\n",
       "    <tr>\n",
       "      <th>8</th>\n",
       "      <td>8.0</td>\n",
       "      <td>5.560000</td>\n",
       "      <td>A</td>\n",
       "    </tr>\n",
       "    <tr>\n",
       "      <th>9</th>\n",
       "      <td>8.0</td>\n",
       "      <td>7.910000</td>\n",
       "      <td>A</td>\n",
       "    </tr>\n",
       "    <tr>\n",
       "      <th>10</th>\n",
       "      <td>8.0</td>\n",
       "      <td>6.890000</td>\n",
       "      <td>A</td>\n",
       "    </tr>\n",
       "    <tr>\n",
       "      <th>0</th>\n",
       "      <td>9.0</td>\n",
       "      <td>7.500909</td>\n",
       "      <td>A</td>\n",
       "    </tr>\n",
       "  </tbody>\n",
       "</table>\n",
       "</div>"
      ],
      "text/plain": [
       "       X          Y Set\n",
       "0    8.0   6.580000   A\n",
       "1    8.0   5.760000   A\n",
       "2    8.0   7.710000   A\n",
       "3    8.0   8.840000   A\n",
       "4    8.0   8.470000   A\n",
       "5    8.0   7.040000   A\n",
       "7   19.0  12.500000   A\n",
       "8    8.0   5.560000   A\n",
       "9    8.0   7.910000   A\n",
       "10   8.0   6.890000   A\n",
       "0    9.0   7.500909   A"
      ]
     },
     "execution_count": 20,
     "metadata": {},
     "output_type": "execute_result"
    }
   ],
   "source": [
    "nuevo_df.groupby('Set').get_group('A')"
   ]
  },
  {
   "cell_type": "markdown",
   "metadata": {},
   "source": [
    "Como se puede para el caso del grupo `A` se elimino una fila, en concreto fue la fila con indice 6 y se reemplazo por la media de cada grupo en esa columna y fue algo similar para cada grupo, lo siguiente para esta parte sería replicar lo hecho hasta ahora y realizar una análisis adecuado."
   ]
  }
 ],
 "metadata": {
  "kernelspec": {
   "display_name": "Python 3",
   "language": "python",
   "name": "python3"
  },
  "language_info": {
   "codemirror_mode": {
    "name": "ipython",
    "version": 3
   },
   "file_extension": ".py",
   "mimetype": "text/x-python",
   "name": "python",
   "nbconvert_exporter": "python",
   "pygments_lexer": "ipython3",
   "version": "3.10.11"
  }
 },
 "nbformat": 4,
 "nbformat_minor": 2
}
