{
 "cells": [
  {
   "cell_type": "markdown",
   "metadata": {},
   "source": [
    "# Ejercicio Formativo 1 Capítulo 7"
   ]
  },
  {
   "cell_type": "markdown",
   "metadata": {},
   "source": [
    "## Importando librerías"
   ]
  },
  {
   "cell_type": "code",
   "execution_count": 1,
   "metadata": {},
   "outputs": [],
   "source": [
    "import sqlite3"
   ]
  },
  {
   "cell_type": "markdown",
   "metadata": {},
   "source": [
    "## Revisando la base de datos"
   ]
  },
  {
   "cell_type": "markdown",
   "metadata": {},
   "source": [
    "Antes de empezar con el desarrollo de las consultas es recomendable revisar la base de datos para conocer las tablas y columnas con las que se va a trabajar. Para ello, se puede reutilizar el código visto en clase:"
   ]
  },
  {
   "cell_type": "code",
   "execution_count": 2,
   "metadata": {},
   "outputs": [
    {
     "name": "stdout",
     "output_type": "stream",
     "text": [
      "Tablas:\n",
      "\n",
      "Proveedores\n",
      "[(0, 'pid', 'INTEGER', 0, None, 1), (1, 'nombre', 'TEXT', 0, None, 0), (2, 'direccion', 'TEXT', 0, None, 0)]\n",
      "\n",
      "Partes\n",
      "[(0, 'paid', 'INTEGER', 0, None, 1), (1, 'nombre', 'INTEGER', 0, None, 0), (2, 'color', 'TEXT', 0, None, 0)]\n",
      "\n",
      "Catalogo\n",
      "[(0, 'pid', 'INTEGER', 0, None, 1), (1, 'paid', 'INTEGER', 0, None, 2), (2, 'valor', 'REAL', 0, None, 0)]\n",
      "\n"
     ]
    }
   ],
   "source": [
    "connection = sqlite3.connect('sales.db')\n",
    "cursor = connection.cursor()\n",
    "\n",
    "cursor.execute(\"SELECT name FROM sqlite_master WHERE type='table';\")\n",
    "print(\"Tablas:\\n\")\n",
    "for table in cursor.fetchall():\n",
    "    print(table[0])\n",
    "    cursor.execute(f'PRAGMA table_info([{table[0]}])')\n",
    "    print(cursor.fetchall())\n",
    "    print()\n",
    "connection.close()"
   ]
  },
  {
   "cell_type": "code",
   "execution_count": 3,
   "metadata": {},
   "outputs": [],
   "source": [
    "connection = sqlite3.connect('sales.db')\n",
    "cursor = connection.cursor()"
   ]
  },
  {
   "cell_type": "code",
   "execution_count": 4,
   "metadata": {},
   "outputs": [
    {
     "name": "stdout",
     "output_type": "stream",
     "text": [
      "(1, 'Acme Widget Suppliers', '1 Grub St., Potemkin Village, IL 61801')\n",
      "(2, 'Big Red Tool and Die', '4 My Way, Bermuda Shorts, OR 90305')\n",
      "(3, 'Perfunctory Parts', '99999 Short Pier, Terra Del Fuego, TX 41299')\n",
      "(4, 'Alien Aircaft Inc.', '2 Groom Lake, Rachel, NV 51902')\n"
     ]
    }
   ],
   "source": [
    "sql = \"SELECT * FROM Proveedores\"\n",
    "cursor.execute(sql)\n",
    "for r in cursor:\n",
    "    print(r)"
   ]
  },
  {
   "cell_type": "code",
   "execution_count": 5,
   "metadata": {},
   "outputs": [
    {
     "name": "stdout",
     "output_type": "stream",
     "text": [
      "(1, 'Left Handed Bacon Stretcher Cover', 'Red')\n",
      "(2, 'Smoke Shifter End', 'Black')\n",
      "(3, 'Acme Widget Washer', 'Red')\n",
      "(4, 'Acme Widget Washer', 'Silver')\n",
      "(5, 'I Brake for Crop Circles Sticker', 'Translucent')\n",
      "(6, 'Anti-Gravity Turbine Generator', 'Cyan')\n",
      "(7, 'Anti-Gravity Turbine Generator', 'Magenta')\n",
      "(8, 'Fire Hydrant Cap', 'Red')\n",
      "(9, '7 Segment Display', 'Green')\n"
     ]
    }
   ],
   "source": [
    "sql = \"SELECT * FROM Partes\"\n",
    "cursor.execute(sql)\n",
    "for r in cursor:\n",
    "    print(r)"
   ]
  },
  {
   "cell_type": "code",
   "execution_count": 6,
   "metadata": {},
   "outputs": [
    {
     "name": "stdout",
     "output_type": "stream",
     "text": [
      "(1, 3, 0.5)\n",
      "(1, 4, 0.5)\n",
      "(1, 8, 11.7)\n",
      "(2, 3, 0.55)\n",
      "(2, 8, 7.95)\n",
      "(2, 1, 16.5)\n",
      "(3, 8, 12.5)\n",
      "(3, 9, 1.0)\n",
      "(4, 5, 2.2)\n",
      "(4, 6, 1247548.23)\n",
      "(4, 7, 1247548.23)\n"
     ]
    }
   ],
   "source": [
    "sql = \"SELECT * FROM Catalogo\"\n",
    "cursor.execute(sql)\n",
    "for r in cursor:\n",
    "    print(r)"
   ]
  },
  {
   "cell_type": "code",
   "execution_count": 7,
   "metadata": {},
   "outputs": [],
   "source": [
    "connection.close()"
   ]
  },
  {
   "cell_type": "markdown",
   "metadata": {},
   "source": [
    "## Consultas"
   ]
  },
  {
   "cell_type": "markdown",
   "metadata": {},
   "source": [
    "### Consulta 1: Encuentre los nombres de los proveedores que que venden todas las partes que son de color rojo"
   ]
  },
  {
   "cell_type": "code",
   "execution_count": 8,
   "metadata": {},
   "outputs": [
    {
     "name": "stdout",
     "output_type": "stream",
     "text": [
      "Acme Widget Suppliers\n",
      "Big Red Tool and Die\n",
      "Perfunctory Parts\n"
     ]
    }
   ],
   "source": [
    "connection = sqlite3.connect(\"sales.db\")\n",
    "cursor = connection.cursor()\n",
    "cursor.execute(\n",
    "    \"SELECT DISTINCT P.nombre \\\n",
    "      FROM Proveedores P, Partes R, Catalogo C \\\n",
    "      WHERE P.pid = C.pid AND R.paid = C.paid AND R.color = 'Red'\"\n",
    ")\n",
    "for r in cursor:\n",
    "    print(r[0])\n",
    "connection.close()"
   ]
  },
  {
   "cell_type": "markdown",
   "metadata": {},
   "source": [
    "#### Explicación"
   ]
  },
  {
   "cell_type": "markdown",
   "metadata": {},
   "source": [
    "En esta consulta nos solicitan encontrar los nombres de los proveedores que venden todas las partes que son de color rojo. Para ello, se realizan consultas entre tablas (JOIN), para Proveedores, Partes y Catalogo, haciendo coincidir sus identificadores y filtrando por el color de las partes, en este caso, rojo. Además, dado que un mismo proveedor puede vender varias partes, se señala que los nombres de estos proveedores deben aparecer una sola vez en la respuesta, por lo que se utiliza la cláusula DISTINCT."
   ]
  },
  {
   "cell_type": "markdown",
   "metadata": {},
   "source": [
    "### Consulta 2: Encuentre los nombres de las partes que son solo vendidas por una empresa cuyo nombre contiene el string ACME."
   ]
  },
  {
   "cell_type": "code",
   "execution_count": 9,
   "metadata": {},
   "outputs": [
    {
     "name": "stdout",
     "output_type": "stream",
     "text": [
      "(4, 'Acme Widget Washer', 'Silver')\n"
     ]
    }
   ],
   "source": [
    "connection = sqlite3.connect(\"sales.db\")\n",
    "cursor = connection.cursor()\n",
    "cursor.execute(\n",
    "    \"SELECT DISTINCT R.paid, R.nombre, R.color \\\n",
    "      FROM Proveedores P, Partes R, Catalogo C \\\n",
    "      WHERE P.pid = C.pid AND R.paid = C.paid AND P.nombre LIKE '%ACME%' \\\n",
    "      AND R.paid NOT IN (SELECT R2.paid \\\n",
    "      FROM Proveedores P2, Partes R2, Catalogo C2 \\\n",
    "      WHERE P2.pid = C2.pid AND R2.paid = C2.paid AND P2.nombre NOT LIKE '%ACME%')\"\n",
    ")\n",
    "for r in cursor:\n",
    "    print(r)\n",
    "connection.close()"
   ]
  },
  {
   "cell_type": "markdown",
   "metadata": {},
   "source": [
    "#### Explicación"
   ]
  },
  {
   "cell_type": "markdown",
   "metadata": {},
   "source": [
    "Al igual que para la consulta anterior se utilizan consultas entre tablas (JOIN), para Proveedores, Partes y Catalogo, haciendo coincidir sus identificadores. En este caso, se filtra por el nombre de la empresa proveedora, buscando aquellas que contengan el string ACME. Esto se logra hasta esta parte de la consulta:\n",
    "\n",
    "```sql\n",
    "SELECT DISTINCT R.paid, R.nombre, R.color \\\n",
    "FROM Proveedores P, Partes R, Catalogo C \\\n",
    "WHERE P.pid = C.pid AND R.paid = C.paid AND P.nombre LIKE '%ACME%'\n",
    "```\n",
    "Sin embargo, nos indican que se deben encontrar las partes que son solo vendidas por una empresa cuyo nombre contiene el string ACME. Para ello, se debe verificar que no existan otras empresas que vendan la misma parte y que no contengan el string ACME en su nombre. Esto se logra con la siguiente parte de la consulta:\n",
    "\n",
    "```sql\n",
    "... AND R.paid NOT IN (SELECT R2.paid \\\n",
    "    FROM Proveedores P2, Partes R2, Catalogo C2 \\\n",
    "    WHERE P2.pid = C2.pid AND R2.paid = C2.paid AND P2.nombre NOT LIKE '%ACME%')\n",
    "```"
   ]
  },
  {
   "cell_type": "markdown",
   "metadata": {},
   "source": [
    "Se imprimen más datos de los solicitados, para que se puede diferenciar a que parte corresponde ya que hay dos partes con el mismo nombre."
   ]
  },
  {
   "cell_type": "markdown",
   "metadata": {},
   "source": [
    "### Consulta 3: Encuentre los nombres de los proveedores que cobran por alguna parte más que el precio promedio de esta (calculado sobre todos los proveedores que la venden)."
   ]
  },
  {
   "cell_type": "code",
   "execution_count": 20,
   "metadata": {},
   "outputs": [
    {
     "name": "stdout",
     "output_type": "stream",
     "text": [
      "Acme Widget Suppliers\n",
      "Big Red Tool and Die\n",
      "Perfunctory Parts\n"
     ]
    }
   ],
   "source": [
    "connection = sqlite3.connect(\"sales.db\")\n",
    "cursor = connection.cursor()\n",
    "cursor.execute(\n",
    "    \"SELECT P.nombre FROM Proveedores P, Partes R, Catalogo C \\\n",
    "        WHERE P.pid = C.pid AND R.paid = C.paid AND \\\n",
    "        C.valor > (SELECT AVG(C2.valor)\\\n",
    "      FROM Partes R2, Catalogo C2 \\\n",
    "      WHERE R2.paid = C2.paid AND R.paid = R2.paid\\\n",
    "      GROUP BY R2.paid)\"\n",
    ")\n",
    "for r in cursor:\n",
    "    print(r[0])\n",
    "connection.close()"
   ]
  },
  {
   "cell_type": "markdown",
   "metadata": {},
   "source": [
    "#### Explicación"
   ]
  },
  {
   "cell_type": "markdown",
   "metadata": {},
   "source": [
    "Esta consulta viene siendo ya un poco más compleja, ya que se requiere calcular el precio promedio de cada parte y compararlo con el precio de cada parte vendida por los proveedores. Para ello, se pueden utilizar subconsultas, en este caso lo que se hizo fue calcular el precio promedio de cada parte, a fin de exlicar mejor la consulta, veamos que nos devuelve esta subconsulta por si sola:"
   ]
  },
  {
   "cell_type": "code",
   "execution_count": 16,
   "metadata": {},
   "outputs": [
    {
     "name": "stdout",
     "output_type": "stream",
     "text": [
      "(1, 'Left Handed Bacon Stretcher Cover', 16.5)\n",
      "(3, 'Acme Widget Washer', 0.525)\n",
      "(4, 'Acme Widget Washer', 0.5)\n",
      "(5, 'I Brake for Crop Circles Sticker', 2.2)\n",
      "(6, 'Anti-Gravity Turbine Generator', 1247548.23)\n",
      "(7, 'Anti-Gravity Turbine Generator', 1247548.23)\n",
      "(8, 'Fire Hydrant Cap', 10.716666666666667)\n",
      "(9, '7 Segment Display', 1.0)\n"
     ]
    }
   ],
   "source": [
    "connection = sqlite3.connect(\"sales.db\")\n",
    "cursor = connection.cursor()\n",
    "cursor.execute(\n",
    "    \"SELECT R2.paid, R2.nombre, AVG(C2.valor)\\\n",
    "      FROM Partes R2, Catalogo C2 \\\n",
    "      WHERE R2.paid = C2.paid \\\n",
    "      GROUP BY R2.paid\"\n",
    ")\n",
    "for r in cursor:\n",
    "    print(r)\n",
    "connection.close()"
   ]
  },
  {
   "cell_type": "markdown",
   "metadata": {},
   "source": [
    "Como se puede ver lo que nos devuelve es el precio promedio de cada parte, y luego se compara con el precio de cada parte vendida por los proveedores, para ver cual de ellos supera el precio promedio de la parte, esto se logra al hacer la siguiente comparación:\n",
    "\n",
    "```sql\n",
    "... AND \\\n",
    "C.valor > (SELECT AVG(C2.valor)\\\n",
    "FROM Partes R2, Catalogo C2 \\\n",
    "WHERE R2.paid = C2.paid AND R.paid = R2.paid\\\n",
    "GROUP BY R2.paid)\n",
    "```\n",
    "\n",
    "En esta parte se indica que se debe cumplir que el valor asociado a la parte debe superar el promedio de los valores de la parte, calculado sobre todos los proveedores que la venden, para asegurarse que se refiere a la misma parte se hace la comparación de los identificadores de las partes entre las consulta principal y la subconsulta, esto:\n",
    "    \n",
    "```sql\n",
    "R.paid = R2.paid\n",
    "```"
   ]
  },
  {
   "cell_type": "markdown",
   "metadata": {},
   "source": [
    "#### Cláusula WITH"
   ]
  },
  {
   "cell_type": "markdown",
   "metadata": {},
   "source": [
    "Un punto a señalar es que algunas veces las consultas terminar siendo muy largas y complejas, por lo que uno mismo puede terminarse perdiento en su propio código, para evitar esto se puede utilizar la cláusula WITH, que permite definir subconsultas que se pueden reutilizar en la consulta principal, esto hace que el código sea más legible y fácil de entender, por ejemplo la consulta 3 se puede reescribir de la siguiente manera:"
   ]
  },
  {
   "cell_type": "code",
   "execution_count": 21,
   "metadata": {},
   "outputs": [
    {
     "name": "stdout",
     "output_type": "stream",
     "text": [
      "Acme Widget Suppliers\n",
      "Big Red Tool and Die\n",
      "Perfunctory Parts\n"
     ]
    }
   ],
   "source": [
    "connection = sqlite3.connect(\"sales.db\")\n",
    "cursor = connection.cursor()\n",
    "cursor.execute(\n",
    "    \"WITH PromedioPartes AS \\\n",
    "      (SELECT R.paid as paid, AVG(C.valor) as  avg_valor\\\n",
    "      FROM Partes R, Catalogo C \\\n",
    "      WHERE R.paid = C.paid \\\n",
    "      GROUP BY R.paid) \\\n",
    "          SELECT P.nombre FROM Proveedores P, Partes R, Catalogo C, PromedioPartes PP \\\n",
    "      WHERE P.pid = C.pid AND R.paid = C.paid AND  R.paid = PP.paid AND C.valor > PP.avg_valor\"\n",
    ")\n",
    "for r in cursor:\n",
    "    print(r[0])\n",
    "connection.close()"
   ]
  },
  {
   "cell_type": "markdown",
   "metadata": {},
   "source": [
    "Como pueden ver se obtuvo el mismo resultado, ahora descompgamos un poco esta nueva consulta. En primer luagr, la manera de usar esta claúsula es la siguiente:\n",
    "\n",
    "```sql\n",
    "WITH NombreSubconsulta AS (\n",
    "    SELECT ...\n",
    "    FROM ...\n",
    "    WHERE ...\n",
    ")\n",
    "SELECT ...\n",
    "FROM ...\n",
    "WHERE ...\n",
    "```\n",
    "En la parte de *NombreSubconsulta* se debe colocar el nombre que se le quiere dar a la subconsulta, y para utilizarla se usa la misma sintaxis si estuvieramos utilizando una tabla ya creada en la base de datos. Ahora veamoslo a más detalle para la consulta 3:\n",
    "\n",
    "```sql\n",
    "WITH PromedioPartes AS \\\n",
    "      (SELECT R.paid as paid, AVG(C.valor) as  avg_valor\\\n",
    "      FROM Partes R, Catalogo C \\\n",
    "      WHERE R.paid = C.paid \\\n",
    "      GROUP BY R.paid)\\\n",
    "```\n",
    "En esta parte se calcula el precio promedio de cada parte, y se le asigna el nombre de *PromedioPartes*, que es la misma subconsulta que se había hecho anteriormente. Luego se utiliza esta subconsulta en la consulta principal de la siguiente manera:\n",
    "\n",
    "```sql\n",
    "... SELECT P.nombre FROM Proveedores P, Partes R, Catalogo C, PromedioPartes PP \\\n",
    "      WHERE P.pid = C.pid AND R.paid = C.paid AND  R.paid = PP.paid AND C.valor > PP.avg_valor\n",
    "```\n",
    "Donde se realiza JOIN entre las tablas Proveedores, Partes, Catalogo y la subconsulta PromedioPartes, y se filtra por los proveedores que venden partes cuyo valor supera el promedio de las partes."
   ]
  },
  {
   "cell_type": "markdown",
   "metadata": {},
   "source": [
    "### Consulta 4: Para cada proveedor que vende partes verdes y rojas, encuentre el nombre y precio de la parte más cara que vende."
   ]
  },
  {
   "cell_type": "code",
   "execution_count": 23,
   "metadata": {},
   "outputs": [
    {
     "name": "stdout",
     "output_type": "stream",
     "text": [
      "('Perfunctory Parts', 'Fire Hydrant Cap', 12.5)\n"
     ]
    }
   ],
   "source": [
    "connection = sqlite3.connect(\"sales.db\")\n",
    "cursor = connection.cursor()\n",
    "cursor.execute(\n",
    "    \"SELECT P.nombre, R.nombre, MAX(C.valor) FROM Proveedores P, Partes R, Catalogo C WHERE P.pid = C.pid AND R.paid = C.paid \\\n",
    "      AND P.pid IN (SELECT P.pid FROM Proveedores P, Partes R, Catalogo C \\\n",
    "      WHERE P.pid = C.pid AND R.paid = C.paid AND R.color = 'Green') \\\n",
    "      AND P.pid IN (SELECT P.pid FROM Proveedores P, Partes R, Catalogo C \\\n",
    "      WHERE P.pid = C.pid AND R.paid = C.paid AND R.color = 'Red') GROUP BY P.pid\"\n",
    ")\n",
    "for r in cursor:\n",
    "    print(r)\n",
    "connection.close()"
   ]
  },
  {
   "cell_type": "markdown",
   "metadata": {},
   "source": [
    "#### Explicación"
   ]
  },
  {
   "cell_type": "markdown",
   "metadata": {},
   "source": [
    "Para esta consulta en primer lugar se debe determinar que proveedores venden partes verdes y rojas, para ello se puede utilizar la siguiente consulta:\n",
    "\n",
    "```sql\n",
    "SELECT P.pid FROM Proveedores P, Partes R, Catalogo C \\\n",
    "      WHERE P.pid = C.pid AND R.paid = C.paid AND R.color = COLOR\n",
    "```\n",
    "Un punto importante a señalar es que el enunciado nos solicita que el vendedor venda tanto partes verdes como rojas por lo cual se hizo una subconsulta para cada color y luego se buscaba los proveedores que estuvieran en ambas subconsultas. Ahora armando la consulta principal, lo que se hace es hacer JOIN de las tablas Proveedores, Partes y Catalogo, y se filtra por los proveedores que venden partes verdes y rojas, esto haciendo:\n",
    "\n",
    "```sql\n",
    "...AND P.pid IN (SELECT P.pid FROM Proveedores P, Partes R, Catalogo C \\\n",
    "      WHERE P.pid = C.pid AND R.paid = C.paid AND R.color = 'Green') \\\n",
    "      AND P.pid IN (SELECT P.pid FROM Proveedores P, Partes R, Catalogo C \\\n",
    "      WHERE P.pid = C.pid AND R.paid = C.paid AND R.color = 'Red')\n",
    "```\n",
    "Luego como se pide encontrar el nombre y precio de la parte más cara que vende cada proveedor, para ello se agrupa por el identificador del proveedor y se utiliza la función MAX para encontrar el precio más alto, esto se logra con la siguiente parte en la consulta principal:\n",
    "\n",
    "```sql\n",
    "SELECT R.nombre, MAX(C.valor) FROM Proveedores P, Partes R, Catalogo C WHERE P.pid = C.pid AND R.paid = C.paid \\\n",
    "... (Verifico que el proveedor venda partes verdes y rojas) \\\n",
    "GROUP BY P.pid\n",
    "```\n"
   ]
  }
 ],
 "metadata": {
  "kernelspec": {
   "display_name": "Python 3",
   "language": "python",
   "name": "python3"
  },
  "language_info": {
   "codemirror_mode": {
    "name": "ipython",
    "version": 3
   },
   "file_extension": ".py",
   "mimetype": "text/x-python",
   "name": "python",
   "nbconvert_exporter": "python",
   "pygments_lexer": "ipython3",
   "version": "3.10.11"
  }
 },
 "nbformat": 4,
 "nbformat_minor": 2
}
