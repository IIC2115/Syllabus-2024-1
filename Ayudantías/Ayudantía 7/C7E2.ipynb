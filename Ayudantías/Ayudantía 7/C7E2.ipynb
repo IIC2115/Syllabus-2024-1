{
 "cells": [
  {
   "cell_type": "markdown",
   "metadata": {},
   "source": [
    "# Ejercicio Formativo 2 Capítulo 7"
   ]
  },
  {
   "cell_type": "markdown",
   "metadata": {},
   "source": [
    "## Importando librerías"
   ]
  },
  {
   "cell_type": "code",
   "execution_count": 40,
   "metadata": {},
   "outputs": [],
   "source": [
    "import sqlite3"
   ]
  },
  {
   "cell_type": "markdown",
   "metadata": {},
   "source": [
    "## Base de datos de fútbol europeo"
   ]
  },
  {
   "cell_type": "markdown",
   "metadata": {},
   "source": [
    "### Revisando la base de datos"
   ]
  },
  {
   "cell_type": "code",
   "execution_count": 41,
   "metadata": {},
   "outputs": [
    {
     "name": "stdout",
     "output_type": "stream",
     "text": [
      "Tablas:\n",
      "\n",
      "Equipos\n",
      "[(0, 'eid', 'INTEGER', 0, None, 1), (1, 'nombre', 'TEXT', 0, None, 0)]\n",
      "\n",
      "Temporadas\n",
      "[(0, 'tid', 'INTEGER', 0, None, 1), (1, 'ano', 'INTEGER', 0, None, 0)]\n",
      "\n",
      "Ligas\n",
      "[(0, 'lid', 'INTEGER', 0, None, 1), (1, 'nombre', 'TEXT', 0, None, 0)]\n",
      "\n",
      "Partidos\n",
      "[(0, 'pid', 'INTEGER', 0, None, 1), (1, 'liga', 'INTEGER', 0, None, 0), (2, 'temporada', 'INTEGER', 0, None, 0), (3, 'fecha', 'DATE', 0, None, 0), (4, 'equipo', 'INTEGER', 0, None, 0), (5, 'localidad', 'TEXT', 0, None, 0), (6, 'resultado', 'TEXT', 0, None, 0), (7, 'puntos', 'INTEGER', 0, None, 0), (8, 'goles', 'INTEGER', 0, None, 0), (9, 'goles_perdidos', 'INTEGER', 0, None, 0), (10, 'pases_profundos', 'INTEGER', 0, None, 0), (11, 'pases_profundos_permitidos', 'INTEGER', 0, None, 0), (12, 'ppda', 'REAL', 0, None, 0), (13, 'oppda', 'REAL', 0, None, 0)]\n",
      "\n"
     ]
    }
   ],
   "source": [
    "connection = sqlite3.connect('football_results.db')\n",
    "cursor = connection.cursor()\n",
    "\n",
    "cursor.execute(\"SELECT name FROM sqlite_master WHERE type='table';\")\n",
    "print(\"Tablas:\\n\")\n",
    "for table in cursor.fetchall():\n",
    "    print(table[0])\n",
    "    cursor.execute(f'PRAGMA table_info([{table[0]}])')\n",
    "    print(cursor.fetchall())\n",
    "    print()\n",
    "connection.close()"
   ]
  },
  {
   "cell_type": "code",
   "execution_count": 42,
   "metadata": {},
   "outputs": [],
   "source": [
    "connection = sqlite3.connect('football_results.db')\n",
    "cursor = connection.cursor()"
   ]
  },
  {
   "cell_type": "code",
   "execution_count": 43,
   "metadata": {},
   "outputs": [
    {
     "name": "stdout",
     "output_type": "stream",
     "text": [
      "(1, 'Bundesliga')\n",
      "(2, 'EPL')\n",
      "(3, 'La_liga')\n",
      "(4, 'Ligue_1')\n",
      "(5, 'RFPL')\n",
      "(6, 'Serie_A')\n"
     ]
    }
   ],
   "source": [
    "sql = \"SELECT * FROM Ligas\"\n",
    "cursor.execute(sql)\n",
    "for r in cursor:\n",
    "    print(r)"
   ]
  },
  {
   "cell_type": "code",
   "execution_count": 44,
   "metadata": {},
   "outputs": [
    {
     "name": "stdout",
     "output_type": "stream",
     "text": [
      "(1, 2014)\n",
      "(2, 2015)\n",
      "(3, 2016)\n",
      "(4, 2017)\n",
      "(5, 2018)\n",
      "(6, 2019)\n"
     ]
    }
   ],
   "source": [
    "sql = \"SELECT * FROM Temporadas\"\n",
    "cursor.execute(sql)\n",
    "for r in cursor:\n",
    "    print(r)"
   ]
  },
  {
   "cell_type": "markdown",
   "metadata": {},
   "source": [
    "### Consultas"
   ]
  },
  {
   "cell_type": "markdown",
   "metadata": {},
   "source": [
    "#### Consulta 1: Encuentre para cada liga, la cantidad de equipos distintos que han participado en ella."
   ]
  },
  {
   "cell_type": "code",
   "execution_count": 45,
   "metadata": {},
   "outputs": [
    {
     "name": "stdout",
     "output_type": "stream",
     "text": [
      "('Bundesliga', 24)\n",
      "('EPL', 30)\n",
      "('La_liga', 30)\n",
      "('Ligue_1', 29)\n",
      "('RFPL', 25)\n",
      "('Serie_A', 30)\n"
     ]
    }
   ],
   "source": [
    "connection = sqlite3.connect(\"football_results.db\")\n",
    "cursor = connection.cursor()\n",
    "cursor.execute(\n",
    "    \"SELECT L.nombre, COUNT(DISTINCT P.equipo) \\\n",
    "     FROM Ligas L, Partidos P WHERE L.lid = P.liga \\\n",
    "     GROUP BY P.liga\"\n",
    ")\n",
    "for r in cursor:\n",
    "    print(r)\n",
    "connection.close()"
   ]
  },
  {
   "cell_type": "markdown",
   "metadata": {},
   "source": [
    "#### Explicación"
   ]
  },
  {
   "cell_type": "markdown",
   "metadata": {},
   "source": [
    "Para el desarrollo de esta consulta lo que se realizo fue una agrupación utilizando GROUP BY para la liga y luego se contó la cantidad de equipos distintos que han participado en ella, para esto se utiliza COUNT y DISTINCT para contar los equipos distintos."
   ]
  },
  {
   "cell_type": "markdown",
   "metadata": {},
   "source": [
    "#### Consulta 2: Encuentre el nombre del equipo que tiene mejor diferencia entre goles anotados y goles perdidos a lo largo de los años."
   ]
  },
  {
   "cell_type": "code",
   "execution_count": 46,
   "metadata": {},
   "outputs": [
    {
     "name": "stdout",
     "output_type": "stream",
     "text": [
      "('Barcelona', 423)\n"
     ]
    }
   ],
   "source": [
    "connection = sqlite3.connect(\"football_results.db\")\n",
    "cursor = connection.cursor()\n",
    "cursor.execute(\n",
    "    \"SELECT E.nombre, SUM(P.goles) - SUM(P.goles_perdidos) as diferencia\\\n",
    "     FROM Equipos E, Partidos P WHERE E.eid = P.equipo GROUP BY P.equipo \\\n",
    "         ORDER BY diferencia DESC LIMIT 1\"\n",
    ")\n",
    "for r in cursor:\n",
    "    print(r)\n",
    "connection.close()"
   ]
  },
  {
   "cell_type": "markdown",
   "metadata": {},
   "source": [
    "#### Explicación"
   ]
  },
  {
   "cell_type": "markdown",
   "metadata": {},
   "source": [
    "Para el desarrollo de esta consulta lo que se realizo fue una agrupación utilizando GROUP BY para el equipo, de esta manera se obtiene de forma agregada la información de los equipos, por ello al hacer SUM(P.goles) lo que se obtiene es la suma de los goles anotados y lo mismo para los goles perdidos, por ende al realizar la diferencia entre estos valores se obtiene la diferencia entre goles anotados y goles perdidos a lo largo de los años, luego se ordena de forma descendente y se limita a 1 para obtener el equipo con la mejor diferencia."
   ]
  },
  {
   "cell_type": "markdown",
   "metadata": {},
   "source": [
    "#### Consulta 3: Para cada liga, encuentre la temporada donde hubo mayor diferencia de puntaje entre el primer y último lugar, e indique esta diferencia."
   ]
  },
  {
   "cell_type": "code",
   "execution_count": 47,
   "metadata": {},
   "outputs": [
    {
     "name": "stdout",
     "output_type": "stream",
     "text": [
      "('Bundesliga', 2, 63)\n",
      "('EPL', 5, 82)\n",
      "('La_liga', 1, 74)\n",
      "('Ligue_1', 2, 78)\n",
      "('RFPL', 3, 55)\n",
      "('Serie_A', 3, 76)\n"
     ]
    }
   ],
   "source": [
    "connection = sqlite3.connect(\"football_results.db\")\n",
    "cursor = connection.cursor()\n",
    "cursor.execute(\n",
    "    \"SELECT L.nombre, DPUL.temporada, MAX(DPUL.diferencia) \\\n",
    "     FROM Ligas L, (\\\n",
    "     SELECT PETL.liga, PETL.temporada, MAX(PETL.puntos_totales) - MIN(PETL.puntos_totales) AS diferencia \\\n",
    "     FROM (SELECT P.liga, P.temporada, P.equipo, SUM(P.puntos) AS puntos_totales \\\n",
    "     FROM Partidos P GROUP BY P.liga, P.temporada, P.equipo) AS PETL GROUP BY PETL.liga, PETL.temporada) \\\n",
    "     AS DPUL WHERE L.lid = DPUL.liga GROUP BY DPUL.liga\"\n",
    ")\n",
    "for r in cursor:\n",
    "    print(r)\n",
    "connection.close()"
   ]
  },
  {
   "cell_type": "markdown",
   "metadata": {},
   "source": [
    "#### Explicación"
   ]
  },
  {
   "cell_type": "markdown",
   "metadata": {},
   "source": [
    "Antes de empezar con la explicación, se debe tener en cuenta que las subconsultas no se utilizan solo para comparar valores, sino que también se pueden utilizar para obtener una serie de datos que se necesitan para realizar una consulta más compleja, algo que se puede ver en esta consulta. Para lograr esto lo único que se hace es insertar la subconsulta dentro del FROM de la consulta que la contiene como si fuera una tabla más, de esta manera se puede utilizar la información que se obtiene de la subconsulta para realizar la consulta principal, además es recomendable asignarle un alias a la subconsulta para poder referenciarla de forma más sencilla."
   ]
  },
  {
   "cell_type": "markdown",
   "metadata": {},
   "source": [
    "Para el desarrollo de esta consulta se realizaron varias subconsultas para explicarlas de mejor manera veamos que hace cada una de estas por separado, desde la más interna a la más externa:\n",
    "\n",
    "```sql\n",
    "SELECT P.liga, P.temporada, P.equipo, SUM(P.puntos) AS puntos_totales \\\n",
    "     FROM Partidos P GROUP BY P.liga, P.temporada, P.equipo\n",
    "```\n",
    "\n",
    "En esta subconsulta lo que se realiza es una agrupación por liga, temporada y equipo, de esta manera se obtiene la suma de los puntos obtenidos por cada equipo en cada temporada, esta subconsulta se le asigna el alias de PETL en la subconsulta que la contiene.\n",
    "\n",
    "Otra subconsulta, que engloba la anterior es la siguiente:\n",
    "\n",
    "```sql\n",
    "SELECT PETL.liga, PETL.temporada, MAX(PETL.puntos_totales) - MIN(PETL.puntos_totales) AS diferencia \\\n",
    "     FROM (SELECT P.liga, P.temporada, P.equipo, SUM(P.puntos) AS puntos_totales \\\n",
    "     FROM Partidos P GROUP BY P.liga, P.temporada, P.equipo) AS PETL GROUP BY PETL.liga, PETL.temporada\n",
    "```\n",
    "\n",
    "En esta subconsulta lo que se realiza es una agrupación por liga y temporada, de esta manera se obtiene la diferencia entre el primer y el último lugar, ya que el primer lugar sería el que tuvo la mayor cantidad de puntos y el último lugar el que tuvo la menor cantidad de puntos, esta subconsulta se le asigna el alias de DPUL en la subconsulta que la contiene que vendría siendo la consulta principal.\n",
    "\n",
    "Finalmente la consulta principal es la siguiente:\n",
    "\n",
    "```sql\n",
    "SELECT L.nombre, DPUL.temporada, MAX(DPUL.diferencia) \\\n",
    "FROM Ligas L, (\\\n",
    "SELECT PETL.liga, PETL.temporada, MAX(PETL.puntos_totales) - MIN(PETL.puntos_totales) AS diferencia \\\n",
    "FROM (SELECT P.liga, P.temporada, P.equipo, SUM(P.puntos) AS puntos_totales \\\n",
    "FROM Partidos P GROUP BY P.liga, P.temporada, P.equipo) AS PETL GROUP BY PETL.liga, PETL.temporada) \\\n",
    "AS DPUL WHERE L.lid = DPUL.liga GROUP BY DPUL.liga\n",
    "```\n",
    "\n",
    "Lo que hace esta consulta es un JOIN entre la tabla de Ligas y la subconsulta DPUL, de esta manera se obtiene el nombre de la liga, la temporada y la diferencia entre el primer y último lugar, luego se agrupa por liga para obtener la temporada donde hubo mayor diferencia de puntaje entre el primer y último lugar."
   ]
  },
  {
   "cell_type": "markdown",
   "metadata": {},
   "source": [
    "#### Versión con WITH"
   ]
  },
  {
   "cell_type": "code",
   "execution_count": 48,
   "metadata": {},
   "outputs": [
    {
     "name": "stdout",
     "output_type": "stream",
     "text": [
      "('Bundesliga', 2, 63)\n",
      "('EPL', 5, 82)\n",
      "('La_liga', 1, 74)\n",
      "('Ligue_1', 2, 78)\n",
      "('RFPL', 3, 55)\n",
      "('Serie_A', 3, 76)\n"
     ]
    }
   ],
   "source": [
    "connection = sqlite3.connect(\"football_results.db\")\n",
    "cursor = connection.cursor()\n",
    "cursor.execute(\n",
    "    \"WITH PuntosEquipoTemporadaLiga AS \\\n",
    "     (SELECT P.liga as liga, P.temporada as temporada, P.equipo as equipo, SUM(P.puntos) as puntos_totales\\\n",
    "      FROM Partidos P \\\n",
    "      GROUP BY P.liga, P.temporada, P.equipo), \\\n",
    "      DiferenciaPrimerUltimoLugar AS \\\n",
    "      (SELECT PETL.liga as liga, PETL.temporada as temporada, MAX(PETL.puntos_totales) - MIN(PETL.puntos_totales) as diferencia \\\n",
    "      FROM PuntosEquipoTemporadaLiga PETL \\\n",
    "      GROUP BY PETL.liga, PETL.temporada)\\\n",
    "      SELECT L.nombre, DPUL.temporada, MAX(DPUL.diferencia) \\\n",
    "      FROM Ligas L, DiferenciaPrimerUltimoLugar DPUL WHERE L.lid = DPUL.liga\\\n",
    "      GROUP BY DPUL.liga\"\n",
    ")\n",
    "for r in cursor:\n",
    "    print(r)\n",
    "connection.close()"
   ]
  },
  {
   "cell_type": "markdown",
   "metadata": {},
   "source": [
    "Se muestra una versión de la consulta anterior utilizando WITH  a fin de mostrar una versión más ordenada, las subconsultas son las mismas que se explicaron anteriormente. Lo más destacable en esta ocasión es que al igual que para la versión de la consulta sin WITH, una subconsulta hecha con WITH puede utilizar otra subconsulta hecha con WITH."
   ]
  },
  {
   "cell_type": "markdown",
   "metadata": {},
   "source": [
    "## Base de datos de basketball estadounidense"
   ]
  },
  {
   "cell_type": "markdown",
   "metadata": {},
   "source": [
    "Esta parte del ejercicio reutiliza la información vista para el Laboratorio 2."
   ]
  },
  {
   "cell_type": "markdown",
   "metadata": {},
   "source": [
    "### Revisando la base de datos"
   ]
  },
  {
   "cell_type": "code",
   "execution_count": 49,
   "metadata": {},
   "outputs": [
    {
     "name": "stdout",
     "output_type": "stream",
     "text": [
      "Tablas:\n",
      "\n",
      "Salaries\n",
      "[(0, 'Player', 'TEXT', 0, None, 0), (1, 'Team', 'TEXT', 0, None, 0), (2, 'Salary', 'REAL', 0, None, 0)]\n",
      "\n",
      "Stats\n",
      "[(0, 'Year', 'REAL', 0, None, 0), (1, 'Player', 'TEXT', 0, None, 0), (2, 'Position', 'TEXT', 0, None, 0), (3, 'Age', 'REAL', 0, None, 0), (4, 'Team', 'TEXT', 0, None, 0), (5, 'Games', 'REAL', 0, None, 0), (6, 'GamesStarted', 'INTEGER', 0, None, 0), (7, 'MinutesPlayed', 'REAL', 0, None, 0), (8, '3Points', 'INTEGER', 0, None, 0), (9, '3PAttempts', 'INTEGER', 0, None, 0), (10, '2Points', 'REAL', 0, None, 0), (11, '2PAttempts', 'REAL', 0, None, 0), (12, 'FreeThrows', 'REAL', 0, None, 0), (13, 'FTAttempts', 'REAL', 0, None, 0), (14, 'Fouls', 'REAL', 0, None, 0), (15, 'Points', 'REAL', 0, None, 0)]\n",
      "\n"
     ]
    }
   ],
   "source": [
    "connection = sqlite3.connect('nba.sqlite')\n",
    "cursor = connection.cursor()\n",
    "\n",
    "cursor.execute(\"SELECT name FROM sqlite_master WHERE type='table';\")\n",
    "print(\"Tablas:\\n\")\n",
    "for table in cursor.fetchall():\n",
    "    print(table[0])\n",
    "    cursor.execute(f'PRAGMA table_info([{table[0]}])')\n",
    "    print(cursor.fetchall())\n",
    "    print()\n",
    "connection.close()"
   ]
  },
  {
   "cell_type": "markdown",
   "metadata": {},
   "source": [
    "### Consultas"
   ]
  },
  {
   "cell_type": "markdown",
   "metadata": {},
   "source": [
    "#### Consulta 1: Complete los valores faltantes para la columna 3Points, cuando sea posible inferirlos a partir del resto de las columnas."
   ]
  },
  {
   "cell_type": "code",
   "execution_count": 50,
   "metadata": {},
   "outputs": [],
   "source": [
    "connection = sqlite3.connect(\"nba.sqlite\")\n",
    "cursor = connection.cursor()\n",
    "cursor.execute(\n",
    "    'SELECT \"3Points\", \"2Points\", FreeThrows, Points FROM Stats S WHERE \"3Points\" IS NULL'\n",
    ")\n",
    "for r in cursor:\n",
    "    print(r)\n",
    "connection.close()"
   ]
  },
  {
   "cell_type": "markdown",
   "metadata": {},
   "source": [
    "Esta consulta es solo para revisar los valores faltantes en la columna 3Points. Aquí pueden ver que no muestra ningún resultado pero esto es debido a que al ejecutar el código por segunda vez en adelante, los valores faltantes ya han sido completados."
   ]
  },
  {
   "cell_type": "code",
   "execution_count": 51,
   "metadata": {},
   "outputs": [],
   "source": [
    "connection = sqlite3.connect(\"nba.sqlite\")\n",
    "cursor = connection.cursor()\n",
    "cursor.execute(\n",
    "    'UPDATE Stats SET \"3Points\" = (Points - ((2*\"2Points\") + FreeThrows))/3 WHERE \"3Points\" IS NULL AND \"2Points\" IS NOT NULL \\\n",
    "        AND FreeThrows IS NOT NULL AND Points IS NOT NULL'\n",
    ")\n",
    "connection.commit()\n",
    "connection.close()"
   ]
  },
  {
   "cell_type": "markdown",
   "metadata": {},
   "source": [
    "#### Explicación"
   ]
  },
  {
   "cell_type": "markdown",
   "metadata": {},
   "source": [
    "Para completar los valores faltantes en la columna 3Points, se tuvo en cuenta que el total de puntos, indicado por la columna Points, sería equivalente a los puntos logrados por tiros de 3 puntos, tiros de 2 puntos y tiros libres. Por lo tanto, se calculó la cantidad de puntos que se obtendrían por tiros de 2 puntos y tiros libres, y se restó este valor al total de puntos para obtener los puntos obtenidos por tiros de 3 puntos y se dividió por 3 para obtener la cantidad de tiros de 3 puntos realizados.\n",
    "\n",
    "Para lograr actualizar estos datos se utilizo UPDATE y SET para actualizar los valores de la columna 3Points, además se utilizo WHERE para indicar que se actualicen solo los valores que son nulos cuando los valores de las columnas 2Points, FreeThrows y Points no son nulos. La sintaxis para utilizar UPDATE es la siguiente:\n",
    "\n",
    "```sql\n",
    "UPDATE nombre_tabla SET columna1 = valor1, columna2 = valor2, ... WHERE condicion;\n",
    "```"
   ]
  },
  {
   "cell_type": "code",
   "execution_count": 52,
   "metadata": {},
   "outputs": [],
   "source": [
    "connection = sqlite3.connect(\"nba.sqlite\")\n",
    "cursor = connection.cursor()\n",
    "cursor.execute(\n",
    "    'SELECT * FROM Stats S WHERE \"3Points\" IS NULL'\n",
    ")\n",
    "for r in cursor:\n",
    "    print(r)\n",
    "connection.close()"
   ]
  },
  {
   "cell_type": "markdown",
   "metadata": {},
   "source": [
    "Esta consulta se utiliza para verificar que los datos ya fueron completados"
   ]
  },
  {
   "cell_type": "markdown",
   "metadata": {},
   "source": [
    "#### Consulta 2: Encuentre los 5 equipos de la NBA para los que sus 5 jugadores más veteranos cometieron más fouls. Para cada equipo, imprima además la cantidad de fouls agregada que realizaron estos jugadores. Ordene los resultados de manera ascendente en base a los fouls."
   ]
  },
  {
   "cell_type": "code",
   "execution_count": 53,
   "metadata": {},
   "outputs": [
    {
     "name": "stdout",
     "output_type": "stream",
     "text": [
      "('MEM', 698.0)\n",
      "('BOS', 686.0)\n",
      "('POR', 661.0)\n",
      "('NYK', 588.0)\n",
      "('TOR', 576.0)\n"
     ]
    }
   ],
   "source": [
    "connection = sqlite3.connect(\"nba.sqlite\")\n",
    "cursor = connection.cursor()\n",
    "cursor.execute(\n",
    "    \"WITH RankingJugadoresVeteranosEquipo AS \\\n",
    "     (SELECT S.Team as Team, S.Player as Player, ROW_NUMBER() OVER(PARTITION BY S.Team ORDER BY S.Age DESC) AS \\\n",
    "     ranking_edad FROM Stats S), \\\n",
    "     FoulsTotalesJugador AS \\\n",
    "     (SELECT S.Team as Team, S.Player as Player, SUM(S.Fouls) as total_fouls FROM Stats S GROUP BY S.Team, S.Player), \\\n",
    "     Top5VeteranosFoulsTotales AS \\\n",
    "     (SELECT RJVE.Team as Team, RJVE.Player as Player, FTJ.total_fouls as total_fouls \\\n",
    "      FROM RankingJugadoresVeteranosEquipo RJVE, FoulsTotalesJugador FTJ \\\n",
    "      WHERE RJVE.Team = FTJ.Team AND RJVE.Player = FTJ.Player AND ranking_edad <= 5) \\\n",
    "      SELECT T5VFT.Team, SUM(T5VFT.total_fouls) as total_fouls_agregada FROM Top5VeteranosFoulsTotales T5VFT \\\n",
    "      GROUP BY T5VFT.Team ORDER BY total_fouls_agregada DESC LIMIT 5\"\n",
    ")\n",
    "for r in cursor:\n",
    "    print(r)\n",
    "connection.close()"
   ]
  },
  {
   "cell_type": "markdown",
   "metadata": {},
   "source": [
    "#### Explicación"
   ]
  },
  {
   "cell_type": "markdown",
   "metadata": {},
   "source": [
    "Antes de empezar se explicará la función ROW_NUMBER() que se utilizó en esta consulta, esta función asigna un número a cada fila de un conjunto de resultados, comenzando en 1 para la primera fila de cada partición. Se puede utilizar para clasificar un conjunto de resultados por una columna o para asignar un número de fila a cada fila. La sintaxis de esta función es la siguiente:\n",
    "\n",
    "```sql\n",
    "ROW_NUMBER() OVER ( [PARTITION BY columna1, columna2, ...] ORDER BY columna1, columna2, ... ) AS alias\n",
    "```\n",
    "\n",
    "Para el desarrollo de esta consulta se utilizaron varias consultas hechas con WITH, la primera de ellas es la siguiente:\n",
    "\n",
    "```sql\n",
    "RankingJugadoresVeteranosEquipo AS \\\n",
    "(SELECT S.Team as Team, S.Player as Player, ROW_NUMBER() OVER(PARTITION BY S.Team ORDER BY S.Age DESC) AS \\\n",
    "ranking_edad FROM Stats S)\n",
    "```\n",
    "\n",
    "En esta consulta lo que se realiza es una partición por equipo y se ordena de forma descendente por la edad de los jugadores, de esta manera se obtiene el ranking de los jugadores más veteranos de cada equipo, el ranking se señala por el valor de la columna ranking_edad.\n",
    "\n",
    "```sql\n",
    "FoulsTotalesJugador AS \\\n",
    "(SELECT S.Team as Team, S.Player as Player, SUM(S.Fouls) as total_fouls FROM Stats S GROUP BY S.Team, S.Player)\n",
    "```\n",
    "\n",
    "En esta consulta lo que se realiza es una agrupación por equipo y jugador, de esta manera se obtiene la suma de los fouls realizados por cada jugador de cada equipo, el total de fouls se señala por el valor de la columna total_fouls.\n",
    "\n",
    "```sql\n",
    "Top5VeteranosFoulsTotales AS \\\n",
    "(SELECT RJVE.Team as Team, RJVE.Player as Player, FTJ.total_fouls as total_fouls \\\n",
    "FROM RankingJugadoresVeteranosEquipo RJVE, FoulsTotalesJugador FTJ \\\n",
    "WHERE RJVE.Team = FTJ.Team AND RJVE.Player = FTJ.Player AND ranking_edad <= 5)\n",
    "```\n",
    "\n",
    "En esta consulta lo que se realiza es un JOIN entre las consultas RankingJugadoresVeteranosEquipo y FoulsTotalesJugador, de esta manera se obtiene una nueva tabla con los jugadores con su respectivo ranking y total de fouls, además se filtra para obtener solo los 5 jugadores más veteranos de cada equipo.\n",
    "\n",
    "Finalmente la consulta principal es la siguiente:\n",
    "\n",
    "```sql\n",
    "SELECT T5VFT.Team, SUM(T5VFT.total_fouls) as total_fouls_agregada FROM Top5VeteranosFoulsTotales T5VFT \\\n",
    "GROUP BY T5VFT.Team ORDER BY total_fouls_agregada DESC LIMIT 5\n",
    "```\n",
    "\n",
    "Lo que hace esta consulta es un agrupar por equipo a la tabla Top5VeteranosFoulsTotales, de esta manera se obtiene la suma de los fouls realizados por los 5 jugadores más veteranos de cada equipo, luego se ordena de forma descendente y se limita a 5 para obtener los 5 equipos de la NBA para los que sus 5 jugadores más veteranos cometieron más fouls."
   ]
  },
  {
   "cell_type": "markdown",
   "metadata": {},
   "source": [
    "#### Consulta 3: Encuentre los 10 jugadores más costosos de la NBA de acuerdo a la cantidad de dinero que les pagaron por cada punto que convirtieron. Para cada jugador, imprima además su sueldo total en la temporada. Ordene los resultados de manera descendente, de acuerdo al sueldo total."
   ]
  },
  {
   "cell_type": "code",
   "execution_count": 54,
   "metadata": {},
   "outputs": [
    {
     "name": "stdout",
     "output_type": "stream",
     "text": [
      "('Chandler Parsons', 23112004.0)\n",
      "('Joakim Noah', 17765000.0)\n",
      "('Ian Mahinmi', 16661641.0)\n",
      "('Jerryd Bayless', 9000000.0)\n",
      "('Lance Stephenson', 4180000.0)\n",
      "('Udonis Haslem', 2328652.0)\n",
      "('Chris McCullough', 1471382.0)\n",
      "('Josh Huestis', 1471382.0)\n",
      "('Chinanu Onuaku', 1312611.0)\n",
      "('Michael Gbinije', 500000.0)\n"
     ]
    }
   ],
   "source": [
    "connection = sqlite3.connect(\"nba.sqlite\")\n",
    "cursor = connection.cursor()\n",
    "cursor.execute(\n",
    "    \"SELECT Player, salario_total \\\n",
    "     FROM (SELECT S.Player as Player, SUM(A.Salary) as salario_total, SUM(A.Salary)/SUM(S.Points) as salario_punto \\\n",
    "     FROM Stats S, Salaries A WHERE S.Player = A.Player AND S.Team = A.Team\\\n",
    "     GROUP BY S.Player ORDER BY salario_punto DESC LIMIT 10) ORDER BY salario_total DESC\"\n",
    ")\n",
    "for r in cursor:\n",
    "    print(r)\n",
    "connection.close()"
   ]
  },
  {
   "cell_type": "markdown",
   "metadata": {},
   "source": [
    "#### Explicación"
   ]
  },
  {
   "cell_type": "markdown",
   "metadata": {},
   "source": [
    "Nuevamente se explicará lo que hace cada subconsulta antes de explicar la consulta principal, aunque en esta ocasión solo hay una subconsulta.\n",
    "\n",
    "```sql\n",
    "SELECT S.Player as Player, SUM(A.Salary) as salario_total, SUM(A.Salary)/SUM(S.Points) as salario_punto \\\n",
    "FROM Stats S, Salaries A WHERE S.Player = A.Player AND S.Team = A.Team\\\n",
    "GROUP BY S.Player ORDER BY salario_punto DESC LIMIT 10\n",
    "```\n",
    "\n",
    "Lo que hace esta consulta es un JOIN entre las tablas Stats y Salaries, se agrupa por jugador y se obtiene la suma del salario total y el salario por punto, luego se ordena de forma descendente y se limita a 10 para obtener los 10 jugadores más costosos de la NBA de acuerdo a la cantidad de dinero que les pagaron por cada punto que convirtieron.\n",
    "\n",
    "Luego en la consulta principal:\n",
    "\n",
    "```sql\n",
    "SELECT Player, salario_total \\\n",
    "FROM (SELECT S.Player as Player, SUM(A.Salary) as salario_total, SUM(A.Salary)/SUM(S.Points) as salario_punto \\\n",
    "FROM Stats S, Salaries A WHERE S.Player = A.Player AND S.Team = A.Team\\\n",
    "GROUP BY S.Player ORDER BY salario_punto DESC LIMIT 10) ORDER BY salario_total DESC\n",
    "```\n",
    "Lo que hace esta consulta es un SELECT de la subconsulta anterior, de esta manera se obtiene el nombre del jugador y su salario total en la temporada, luego se ordena de forma descendente de acuerdo al salario total."
   ]
  },
  {
   "cell_type": "markdown",
   "metadata": {},
   "source": [
    "#### Consulta 4: Para los jugadores que fueron parte de 2 o más equipos distintos durante la temporada, encuentre aquel que tuvo la mejora más significativa en cuanto a puntos convertidos por partido."
   ]
  },
  {
   "cell_type": "code",
   "execution_count": 55,
   "metadata": {},
   "outputs": [
    {
     "name": "stdout",
     "output_type": "stream",
     "text": [
      "('DeMarcus Cousins', 1528.0)\n"
     ]
    }
   ],
   "source": [
    "connection = sqlite3.connect(\"nba.sqlite\")\n",
    "cursor = connection.cursor()\n",
    "cursor.execute(\n",
    "    \"SELECT PPJ1.Player, MAX(PPJ1.avg_points - PPJ2.avg_points) AS max_mejora \\\n",
    "     FROM \\\n",
    "     (SELECT S.Team as Team, S.Player as Player, AVG(S.Points) as avg_points \\\n",
    "     FROM Stats S WHERE S.Player IN (SELECT S.Player FROM Stats S GROUP BY S.Player \\\n",
    "     HAVING COUNT(DISTINCT S.Team) >= 2) GROUP BY S.Team, S.Player \\\n",
    "     ) AS PPJ1, \\\n",
    "    (SELECT S.Team as Team, S.Player as Player, AVG(S.Points) as avg_points \\\n",
    "     FROM Stats S WHERE S.Player IN (SELECT S.Player FROM Stats S GROUP BY S.Player \\\n",
    "     HAVING COUNT(DISTINCT S.Team) >= 2) GROUP BY S.Team, S.Player \\\n",
    "     ) AS PPJ2 \\\n",
    "     WHERE PPJ1.Player = PPJ2.Player AND PPJ1.Team <> PPJ2.Team \\\n",
    "     GROUP BY PPJ1.Player \\\n",
    "     ORDER BY max_mejora DESC \\\n",
    "     LIMIT 1\"\n",
    ")\n",
    "for r in cursor:\n",
    "    print(r)\n",
    "connection.close()\n"
   ]
  },
  {
   "cell_type": "markdown",
   "metadata": {},
   "source": [
    "#### Explicación"
   ]
  },
  {
   "cell_type": "markdown",
   "metadata": {},
   "source": [
    "Para esta consulta también se utilizan varias subconsultas, se procederá a analizar cada una de ellas por separado:\n",
    "    \n",
    "```sql\n",
    "SELECT S.Player FROM Stats S GROUP BY S.Player \\\n",
    "     HAVING COUNT(DISTINCT S.Team) >= 2\n",
    "```\n",
    "\n",
    "Esta subconsulta lo que hace es una agrupación por jugador, y utilizando HAVING se filtra para obtener solo los jugadores que fueron parte de 2 o más equipos distintos durante la temporada.\n",
    "\n",
    "```sql\n",
    "SELECT S.Team as Team, S.Player as Player, AVG(S.Points) as avg_points \\\n",
    "     FROM Stats S WHERE S.Player IN (SELECT S.Player FROM Stats S GROUP BY S.Player \\\n",
    "     HAVING COUNT(DISTINCT S.Team) >= 2) GROUP BY S.Team, S.Player\n",
    "```\n",
    "\n",
    "Esta subconsulta lo que hace es agrupar por equipo y por jugador, de esta manera se obtiene el promedio de puntos convertidos por partido de cada jugador en cada equipo, además se filtra para obtener solo los jugadores que fueron parte de 2 o más equipos distintos durante la temporada.\n",
    "\n",
    "Luego en la consulta principal se hace lo siguiente:\n",
    "\n",
    "```sql\n",
    "SELECT PPJ1.Player, MAX(PPJ1.avg_points - PPJ2.avg_points) AS max_mejora \\\n",
    "FROM \\\n",
    "(SELECT S.Team as Team, S.Player as Player, AVG(S.Points) as avg_points \\\n",
    "FROM Stats S WHERE S.Player IN (SELECT S.Player FROM Stats S GROUP BY S.Player \\\n",
    "HAVING COUNT(DISTINCT S.Team) >= 2) GROUP BY S.Team, S.Player \\\n",
    ") AS PPJ1, \\\n",
    "(SELECT S.Team as Team, S.Player as Player, AVG(S.Points) as avg_points \\\n",
    "FROM Stats S WHERE S.Player IN (SELECT S.Player FROM Stats S GROUP BY S.Player \\\n",
    "HAVING COUNT(DISTINCT S.Team) >= 2) GROUP BY S.Team, S.Player \\\n",
    ") AS PPJ2 \\\n",
    "WHERE PPJ1.Player = PPJ2.Player AND PPJ1.Team <> PPJ2.Team \\\n",
    "GROUP BY PPJ1.Player \\\n",
    "ORDER BY max_mejora DESC \\\n",
    "LIMIT 1\n",
    "```\n",
    "\n",
    "Como pueden ver se hace uso un JOIN de la misma tabla(subconsulta), de esta ,manera se obtiene las posibles comparaciones entre el cambio de puntos por partido de un jugador al pasar de un equipo a otro, luego se agrupa por jugador y se calcula la mejora más significativa en cuanto a puntos convertidos por partido al cambiarse de equipo de entre todas las que tuvo el jugador, finalmente se ordena de forma descendente respecto a esta máxima mejora y se limita a 1 para obtener el jugador que tuvo la mejora más significativa en cuanto a puntos convertidos por partido.\n"
   ]
  },
  {
   "cell_type": "markdown",
   "metadata": {},
   "source": [
    "#### Versión con WITH"
   ]
  },
  {
   "cell_type": "code",
   "execution_count": 56,
   "metadata": {},
   "outputs": [
    {
     "name": "stdout",
     "output_type": "stream",
     "text": [
      "('DeMarcus Cousins', 1528.0)\n"
     ]
    }
   ],
   "source": [
    "connection = sqlite3.connect(\"nba.sqlite\")\n",
    "cursor = connection.cursor()\n",
    "cursor.execute(\n",
    "    \"WITH JugadorParticipoVariosEquipos AS \\\n",
    "     (SELECT S.Player as Player FROM Stats S GROUP BY S.Player HAVING COUNT (DISTINCT S.Team) >= 2), \\\n",
    "      PromedioPuntosJugador AS \\\n",
    "      (SELECT S.Team as Team, S.Player as Player, AVG(S.Points) as avg_points FROM Stats S WHERE S.Player IN \\\n",
    "      (SELECT JPVE.Player FROM JugadorParticipoVariosEquipos JPVE) \\\n",
    "       GROUP BY S.Team, S.Player), \\\n",
    "       JugadoresMejorasEntreEquipos AS ( \\\n",
    "       SELECT PPJ1.Player, MAX(PPJ1.avg_points - PPJ2.avg_points) AS max_mejora \\\n",
    "       FROM PromedioPuntosJugador PPJ1, PromedioPuntosJugador PPJ2 \\\n",
    "       WHERE PPJ1.Player = PPJ2.Player AND PPJ1.Team <> PPJ2.Team \\\n",
    "       GROUP BY PPJ1.Player) \\\n",
    "        SELECT * FROM JugadoresMejorasEntreEquipos ORDER BY max_mejora DESC LIMIT 1\"\n",
    ")\n",
    "for r in cursor:\n",
    "    print(r)\n",
    "connection.close()"
   ]
  },
  {
   "cell_type": "markdown",
   "metadata": {},
   "source": [
    "Se deja una versión utilizando WITH para mostrar una versión más ordenada de la consulta anterior, las subconsultas son las mismas que se explicaron anteriormente."
   ]
  }
 ],
 "metadata": {
  "kernelspec": {
   "display_name": "Python 3",
   "language": "python",
   "name": "python3"
  },
  "language_info": {
   "codemirror_mode": {
    "name": "ipython",
    "version": 3
   },
   "file_extension": ".py",
   "mimetype": "text/x-python",
   "name": "python",
   "nbconvert_exporter": "python",
   "pygments_lexer": "ipython3",
   "version": "3.10.11"
  }
 },
 "nbformat": 4,
 "nbformat_minor": 2
}
