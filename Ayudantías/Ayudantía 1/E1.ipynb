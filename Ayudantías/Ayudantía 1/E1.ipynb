{
 "cells": [
  {
   "cell_type": "markdown",
   "metadata": {},
   "source": [
    "# Ejercicio Formativo 1 Capítulo 1"
   ]
  },
  {
   "cell_type": "markdown",
   "metadata": {},
   "source": [
    "### Tema seleccionado: Organizaciones"
   ]
  },
  {
   "cell_type": "markdown",
   "metadata": {},
   "source": [
    "![E1 (2).jpg](<attachment:E1 (2).jpg>)"
   ]
  },
  {
   "cell_type": "code",
   "execution_count": 1,
   "metadata": {},
   "outputs": [],
   "source": [
    "import time\n",
    "from abc import ABCMeta, abstractmethod"
   ]
  },
  {
   "cell_type": "code",
   "execution_count": 2,
   "metadata": {},
   "outputs": [],
   "source": [
    "class Organizacion(metaclass=ABCMeta):\n",
    "    def __init__(self, nombre, trabajadores, activos, pasivos, patrimonio):\n",
    "        self.nombre = nombre\n",
    "        self.__trabajadores = trabajadores\n",
    "        self.activos = activos\n",
    "        self.pasivos = pasivos\n",
    "        self.patrimonio = patrimonio\n",
    "\n",
    "    @abstractmethod\n",
    "    def calcular_valor(self):\n",
    "        pass\n",
    "\n",
    "    @abstractmethod\n",
    "    def __str__(self):\n",
    "        pass\n",
    "\n",
    "\n",
    "class OrganizacionPublica(Organizacion):\n",
    "    def __init__(\n",
    "        self, nombre, trabajadores, activos, pasivos, patrimonio, impacto_social\n",
    "    ):\n",
    "        super().__init__(nombre, trabajadores, activos, pasivos, patrimonio)\n",
    "        self.impacto_social = impacto_social\n",
    "\n",
    "    def calcular_valor(self):\n",
    "        valor_organizacion = self.activos + self.patrimonio - self.pasivos\n",
    "        if self.impacto_social == \"alto\":\n",
    "            valor_organizacion += 100\n",
    "        elif self.impacto_social == \"medio\":\n",
    "            valor_organizacion += 50\n",
    "        else:\n",
    "            valor_organizacion += 10\n",
    "        return valor_organizacion\n",
    "\n",
    "    def __str__(self):\n",
    "        return f\"Organización Pública: {self.nombre}\"\n",
    "\n",
    "\n",
    "class OrganizacionPrivada(Organizacion):\n",
    "    def __init__(\n",
    "        self, nombre, trabajadores, activos, pasivos, patrimonio, diferenciacion\n",
    "    ):\n",
    "        super().__init__(nombre, trabajadores, activos, pasivos, patrimonio)\n",
    "        self.diferenciacion = diferenciacion\n",
    "\n",
    "    def calcular_valor(self):\n",
    "        valor_organizacion = self.activos + self.patrimonio - self.pasivos\n",
    "        if self.diferenciacion:\n",
    "            valor_organizacion += 100\n",
    "        return valor_organizacion\n",
    "\n",
    "    def __str__(self):\n",
    "        return f\"Organización Privada: {self.nombre}\"\n",
    "\n",
    "\n",
    "class Persona(metaclass=ABCMeta):\n",
    "    def __init__(self, nombre, apellido, rut):\n",
    "        self.nombre = nombre\n",
    "        self.apellido = apellido\n",
    "        self.rut = rut\n",
    "\n",
    "    @abstractmethod\n",
    "    def generar_nombre_completo(self):\n",
    "        pass\n",
    "\n",
    "\n",
    "class Trabajador(Persona):\n",
    "    def __init__(self, nombre, apellido, rut, salario):\n",
    "        super().__init__(nombre, apellido, rut)\n",
    "        self.salario = salario\n",
    "    \n",
    "    def generar_nombre_completo(self):\n",
    "        return f\"Trabajador {self.nombre} {self.apellido}\""
   ]
  },
  {
   "cell_type": "markdown",
   "metadata": {},
   "source": [
    "Se crean instancias de los trabajadores:"
   ]
  },
  {
   "cell_type": "code",
   "execution_count": 3,
   "metadata": {},
   "outputs": [],
   "source": [
    "trabajador_1 = Trabajador(\"Juan\", \"Perez\", \"12345678-9\", 1000000)\n",
    "trabajador_2 = Trabajador(\"Maria\", \"Lopez\", \"12345678-0\", 1000000)\n",
    "trabajador_3 = Trabajador(\"Pedro\", \"Gonzalez\", \"12345678-1\", 1000000)\n",
    "trabajador_4 = Trabajador(\"Ana\", \"Gutierrez\", \"12345678-2\", 1000000)\n",
    "trabajador_5 = Trabajador(\"Jose\", \"Rodriguez\", \"12345678-3\", 1000000)\n",
    "trabajador_6 = Trabajador(\"Luis\", \"Diaz\", \"12345678-4\", 1000000)\n",
    "trabajador_7 = Trabajador(\"Carlos\", \"Martinez\", \"12345678-5\", 1000000)\n",
    "trabajador_8 = Trabajador(\"Fernanda\", \"Perez\", \"12345678-6\", 1000000)\n",
    "trabajador_9 = Trabajador(\"Miguel\", \"Lopez\", \"12345678-7\", 1000000)\n",
    "trabajador_10 = Trabajador(\"Sofia\", \"Gonzalez\", \"12345678-8\", 1000000)"
   ]
  },
  {
   "cell_type": "markdown",
   "metadata": {},
   "source": [
    "Se crean listas de trabajadores"
   ]
  },
  {
   "cell_type": "code",
   "execution_count": 4,
   "metadata": {},
   "outputs": [],
   "source": [
    "lista_1 = [trabajador_1, trabajador_2]\n",
    "lista_2 = [trabajador_3, trabajador_4]\n",
    "lista_3 = [trabajador_5, trabajador_6]\n",
    "lista_4 = [trabajador_7, trabajador_8]\n",
    "lista_5 = [trabajador_9, trabajador_10]"
   ]
  },
  {
   "cell_type": "markdown",
   "metadata": {},
   "source": [
    "Se crean instancias de organizaciones públicas"
   ]
  },
  {
   "cell_type": "code",
   "execution_count": 5,
   "metadata": {},
   "outputs": [],
   "source": [
    "ministerio_salud_chile = OrganizacionPublica(\"Ministerio de Salud\", lista_1, 100000000, 10000000, 100000000, \"alto\")\n",
    "conaf = OrganizacionPublica(\"CONAF\", lista_2, 100000000, 10000000, 100000000, \"medio\")\n",
    "ministerio_educacion_chile = OrganizacionPublica(\"Ministerio de Educación\", lista_3, 100000000, 10000000, 100000000, \"bajo\")\n",
    "ministerio_energia_chile = OrganizacionPublica(\"Ministerio de Energía\", lista_4, 100000000, 10000000, 100000000, \"alto\")\n",
    "ministerio_justicia_chile = OrganizacionPublica(\"Ministerio de Justicia\", lista_5, 100000000, 10000000, 100000000, \"alto\")\n",
    "servicio_de_aduanas = OrganizacionPublica(\"Servicio de Aduanas\", lista_1, 100000000, 10000000, 100000000, \"alto\")\n",
    "servicio_de_impuestos_internos = OrganizacionPublica(\"Servicio de Impuestos Internos\", lista_2, 100000000, 10000000, 100000000, \"medio\")\n",
    "servicio_nacional_del_consumidor = OrganizacionPublica(\"Servicio Nacional del Consumidor\", lista_3, 100000000, 10000000, 100000000, \"medio\")\n",
    "servicio_nacional_de_la_discapacidad = OrganizacionPublica(\"Servicio Nacional de la Discapacidad\", lista_4, 100000000, 10000000, 100000000, \"medio\")\n",
    "servicio_nacional_de_la_mujer = OrganizacionPublica(\"Servicio Nacional de la Mujer\", lista_5, 100000000, 10000000, 100000000, \"alto\")"
   ]
  },
  {
   "cell_type": "markdown",
   "metadata": {},
   "source": [
    "Se crean instancias de organizaciones privadas"
   ]
  },
  {
   "cell_type": "code",
   "execution_count": 6,
   "metadata": {},
   "outputs": [],
   "source": [
    "banco_de_chile = OrganizacionPrivada(\"Banco de Chile\", lista_1, 100000000, 10000000, 100000000, True)\n",
    "entel = OrganizacionPrivada(\"Entel\", lista_2, 100000000, 10000000, 100000000, True)\n",
    "cencosud = OrganizacionPrivada(\"Cencosud\", lista_3, 100000000, 10000000, 100000000, True)\n",
    "latam = OrganizacionPrivada(\"Latam\", lista_4, 100000000, 10000000, 100000000, True)\n",
    "falabella = OrganizacionPrivada(\"Falabella\", lista_5, 100000000, 10000000, 100000000, True)\n",
    "ripley = OrganizacionPrivada(\"Ripley\", lista_1, 100000000, 10000000, 100000000, True)\n",
    "santander = OrganizacionPrivada(\"Santander\", lista_2, 100000000, 10000000, 100000000, True)\n",
    "bci = OrganizacionPrivada(\"BCI\", lista_3, 100000000, 10000000, 100000000, True)\n",
    "bice = OrganizacionPrivada(\"BICE\", lista_4, 100000000, 10000000, 100000000, True)\n",
    "itau = OrganizacionPrivada(\"Itau\", lista_5, 100000000, 10000000, 100000000, True)\n",
    "codelco = OrganizacionPrivada(\"Codelco\", lista_1, 100000000, 10000000, 100000000, False)\n",
    "enel = OrganizacionPrivada(\"Enel\", lista_2, 100000000, 10000000, 100000000, False)\n",
    "aes_gener = OrganizacionPrivada(\"AES Gener\", lista_3, 100000000, 10000000, 100000000, False)\n",
    "colbun = OrganizacionPrivada(\"Colbun\", lista_4, 100000000, 10000000, 100000000, False)\n",
    "latam = OrganizacionPrivada(\"Latam\", lista_5, 100000000, 10000000, 100000000, False)\n"
   ]
  },
  {
   "cell_type": "markdown",
   "metadata": {},
   "source": [
    "Almacenando en lista:"
   ]
  },
  {
   "cell_type": "code",
   "execution_count": 7,
   "metadata": {},
   "outputs": [],
   "source": [
    "lista_organizaciones = [ministerio_salud_chile, conaf, ministerio_educacion_chile, ministerio_energia_chile, ministerio_justicia_chile, servicio_de_aduanas, servicio_de_impuestos_internos, servicio_nacional_del_consumidor, servicio_nacional_de_la_discapacidad, servicio_nacional_de_la_mujer, banco_de_chile, entel, cencosud, latam, falabella, ripley, santander, bci, bice, itau, codelco, enel, aes_gener, colbun, latam]"
   ]
  },
  {
   "cell_type": "markdown",
   "metadata": {},
   "source": [
    "Almacenando en diccionario:"
   ]
  },
  {
   "cell_type": "code",
   "execution_count": 8,
   "metadata": {},
   "outputs": [],
   "source": [
    "diccionario_organizaciones = {ministerio_salud_chile.nombre: ministerio_salud_chile, conaf.nombre: conaf, ministerio_educacion_chile.nombre: ministerio_educacion_chile, ministerio_energia_chile.nombre: ministerio_energia_chile, ministerio_justicia_chile.nombre: ministerio_justicia_chile, servicio_de_aduanas.nombre: servicio_de_aduanas, servicio_de_impuestos_internos.nombre: servicio_de_impuestos_internos, servicio_nacional_del_consumidor.nombre: servicio_nacional_del_consumidor, servicio_nacional_de_la_discapacidad.nombre: servicio_nacional_de_la_discapacidad, servicio_nacional_de_la_mujer.nombre: servicio_nacional_de_la_mujer, banco_de_chile.nombre: banco_de_chile, entel.nombre: entel, cencosud.nombre: cencosud, latam.nombre: latam, falabella.nombre: falabella, ripley.nombre: ripley, santander.nombre: santander, bci.nombre: bci, bice.nombre: bice, itau.nombre: itau, codelco.nombre: codelco, enel.nombre: enel, aes_gener.nombre: aes_gener, colbun.nombre: colbun, latam.nombre: latam}"
   ]
  },
  {
   "cell_type": "markdown",
   "metadata": {},
   "source": [
    "Midiendo tiempo de búsqueda con lista:"
   ]
  },
  {
   "cell_type": "code",
   "execution_count": 18,
   "metadata": {},
   "outputs": [
    {
     "name": "stdout",
     "output_type": "stream",
     "text": [
      "0.0009989738464355469\n"
     ]
    }
   ],
   "source": [
    "inicio = time.time()\n",
    "\n",
    "for organizacion in lista_organizaciones:\n",
    "    if organizacion.nombre == \"Santander\":\n",
    "        break\n",
    "\n",
    "fin = time.time()\n",
    "print(fin-inicio)"
   ]
  },
  {
   "cell_type": "markdown",
   "metadata": {},
   "source": [
    "Midiendo tiempo de búsqueda con diccionario: "
   ]
  },
  {
   "cell_type": "code",
   "execution_count": 49,
   "metadata": {},
   "outputs": [
    {
     "name": "stdout",
     "output_type": "stream",
     "text": [
      "6.580352783203125e-05\n"
     ]
    }
   ],
   "source": [
    "inicio = time.time()\n",
    "\n",
    "organizacion_santander = diccionario_organizaciones[\"Santander\"]\n",
    "\n",
    "fin = time.time()\n",
    "print(fin-inicio)"
   ]
  }
 ],
 "metadata": {
  "kernelspec": {
   "display_name": "Python 3",
   "language": "python",
   "name": "python3"
  },
  "language_info": {
   "codemirror_mode": {
    "name": "ipython",
    "version": 3
   },
   "file_extension": ".py",
   "mimetype": "text/x-python",
   "name": "python",
   "nbconvert_exporter": "python",
   "pygments_lexer": "ipython3",
   "version": "3.10.11"
  }
 },
 "nbformat": 4,
 "nbformat_minor": 2
}
