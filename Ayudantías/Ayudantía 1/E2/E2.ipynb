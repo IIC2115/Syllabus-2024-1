{
 "cells": [
  {
   "cell_type": "markdown",
   "metadata": {},
   "source": [
    "# Ejercicio Formativo 2 Capítulo 1"
   ]
  },
  {
   "cell_type": "code",
   "execution_count": 1,
   "metadata": {},
   "outputs": [],
   "source": [
    "import json\n",
    "from abc import ABCMeta, abstractmethod"
   ]
  },
  {
   "cell_type": "code",
   "execution_count": 2,
   "metadata": {},
   "outputs": [],
   "source": [
    "class Movie:\n",
    "    def __init__(self, title, year, cast, genres):\n",
    "        self.title = title\n",
    "        self.year = year\n",
    "        self.cast = cast\n",
    "        self.genres = genres\n",
    "        self.add_info()\n",
    "\n",
    "    def add_info(self):\n",
    "        for actor in self.cast:\n",
    "            actor.n_movies += 1\n",
    "        for genre in self.genres:\n",
    "            genre.n_movies += 1\n",
    "\n",
    "\n",
    "class Person(metaclass=ABCMeta):\n",
    "    def __init__(self, full_name):\n",
    "        self.full_name = full_name\n",
    "\n",
    "\n",
    "class Actor(Person):\n",
    "    def __init__(self, full_name, start_career):\n",
    "        super().__init__(full_name)\n",
    "        self.n_movies = 0\n",
    "        self.start_career = start_career\n",
    "        self.end_career = start_career\n",
    "\n",
    "    def update_track_record(self, year):\n",
    "        if self.start_career > year:\n",
    "            self.start_career = year\n",
    "        if self.end_career < year:\n",
    "            self.end_career = year\n",
    "            \n",
    "    def years_track_record(self):\n",
    "        return self.end_career - self.start_career\n",
    "\n",
    "    def __repr__(self):\n",
    "        return f\"{self.full_name}\"\n",
    "\n",
    "\n",
    "class Genre:\n",
    "    def __init__(self, name):\n",
    "        self.name = name\n",
    "        self.n_movies = 0"
   ]
  },
  {
   "cell_type": "code",
   "execution_count": 3,
   "metadata": {},
   "outputs": [],
   "source": [
    "with open(\"movies.json\", encoding=\"utf8\") as movies_file:\n",
    "    movies = json.load(movies_file)"
   ]
  },
  {
   "cell_type": "code",
   "execution_count": 4,
   "metadata": {},
   "outputs": [],
   "source": [
    "actors_dict = {}\n",
    "genres_dict = {}\n",
    "movies_dict = {}"
   ]
  },
  {
   "cell_type": "code",
   "execution_count": 5,
   "metadata": {},
   "outputs": [],
   "source": [
    "for movie in movies:\n",
    "    cast = []\n",
    "    genres = []\n",
    "    for actor in movie[\"cast\"]:\n",
    "        if actor not in actors_dict:\n",
    "            actors_dict[actor] = Actor(actor, movie[\"year\"])\n",
    "        else:\n",
    "            actors_dict[actor].update_track_record(movie[\"year\"])\n",
    "        cast.append(actors_dict[actor])\n",
    "    for genre in movie[\"genres\"]:\n",
    "        if genre not in genres_dict:\n",
    "            genres_dict[genre] = Genre(genre)\n",
    "        genres.append(genres_dict[genre])\n",
    "    if (movie[\"title\"], movie[\"year\"]) not in movies_dict:\n",
    "        movies_dict[(movie[\"title\"], movie[\"year\"])] = Movie(movie[\"title\"], movie[\"year\"], tuple(cast), genres)\n"
   ]
  },
  {
   "cell_type": "markdown",
   "metadata": {},
   "source": [
    "## Consultas"
   ]
  },
  {
   "cell_type": "markdown",
   "metadata": {},
   "source": [
    "### Encuentre los 5 géneros más populares"
   ]
  },
  {
   "cell_type": "code",
   "execution_count": 6,
   "metadata": {},
   "outputs": [],
   "source": [
    "def popular_genres(genres_dict):\n",
    "    sorted_list_genres = sorted(genres_dict.values(), key=lambda x: x.n_movies, reverse=True)\n",
    "    most_popular_genres = sorted_list_genres[:5]\n",
    "    print(\"Los 5 géneros más populares son:\")\n",
    "    for genre in most_popular_genres:\n",
    "        print(f\"{genre.name} hay {genre.n_movies} películas de este género\")\n"
   ]
  },
  {
   "cell_type": "code",
   "execution_count": 7,
   "metadata": {},
   "outputs": [
    {
     "name": "stdout",
     "output_type": "stream",
     "text": [
      "Los 5 géneros más populares son:\n",
      "Drama hay 8737 películas de este género\n",
      "Comedy hay 7357 películas de este género\n",
      "Western hay 3009 películas de este género\n",
      "Crime hay 1498 películas de este género\n",
      "Horror hay 1166 películas de este género\n"
     ]
    }
   ],
   "source": [
    "popular_genres(genres_dict)"
   ]
  },
  {
   "cell_type": "markdown",
   "metadata": {},
   "source": [
    "### Encuentre los 3 años con más películas estrenadas."
   ]
  },
  {
   "cell_type": "code",
   "execution_count": 8,
   "metadata": {},
   "outputs": [],
   "source": [
    "def years_most_premiers(movies_dict):\n",
    "    premiers_dict = {}\n",
    "    for movie in movies_dict.values():\n",
    "        if movie.year not in premiers_dict:\n",
    "            premiers_dict[movie.year] = 0\n",
    "        premiers_dict[movie.year] += 1\n",
    "    sorted_list_years = sorted(premiers_dict.items(), key=lambda x: x[1], reverse=True)\n",
    "    list_years = sorted_list_years[:3]\n",
    "    print(\"Los 3 años con más películas estrenadas son:\")\n",
    "    for data in list_years:\n",
    "        print(f\"El año {data[0]} con {data[1]} películas producidas\")"
   ]
  },
  {
   "cell_type": "code",
   "execution_count": 9,
   "metadata": {},
   "outputs": [
    {
     "name": "stdout",
     "output_type": "stream",
     "text": [
      "Los 3 años con más películas estrenadas son:\n",
      "El año 1919 con 631 películas producidas\n",
      "El año 1925 con 572 películas producidas\n",
      "El año 1936 con 504 películas producidas\n"
     ]
    }
   ],
   "source": [
    "years_most_premiers(movies_dict)"
   ]
  },
  {
   "cell_type": "markdown",
   "metadata": {},
   "source": [
    "### Encuentre a los 5 actores con la trayectoria más larga, es decir, mayor cantidad de años actuando"
   ]
  },
  {
   "cell_type": "code",
   "execution_count": 10,
   "metadata": {},
   "outputs": [],
   "source": [
    "def longer_track_record(actors_dict):\n",
    "    sorted_list_actors = sorted(actors_dict.values(), key=lambda x: x.years_track_record(), reverse=True)\n",
    "    list_actors = sorted_list_actors[:5]\n",
    "    print(\"Los 5 actores con trayectoria más larga son:\")\n",
    "    for actor in list_actors:\n",
    "        print(f\"{actor.full_name} con {actor.years_track_record()} años de trayectoria\")"
   ]
  },
  {
   "cell_type": "code",
   "execution_count": 11,
   "metadata": {},
   "outputs": [
    {
     "name": "stdout",
     "output_type": "stream",
     "text": [
      "Los 5 actores con trayectoria más larga son:\n",
      ". con 101 años de trayectoria\n",
      "and con 98 años de trayectoria\n",
      "Harrison Ford con 98 años de trayectoria\n",
      "Gloria Stuart con 80 años de trayectoria\n",
      "Lillian Gish con 75 años de trayectoria\n"
     ]
    }
   ],
   "source": [
    "longer_track_record(actors_dict)"
   ]
  },
  {
   "cell_type": "markdown",
   "metadata": {},
   "source": [
    "### Encuentre el reparto de una película (2 o más actores) que se haya repetido completo en otras la mayor cantidad de veces."
   ]
  },
  {
   "cell_type": "code",
   "execution_count": 12,
   "metadata": {},
   "outputs": [],
   "source": [
    "def most_repeated_casts(movies_dict):\n",
    "    cast_dict = {}\n",
    "    for movie in movies_dict.values():\n",
    "        if len(movie.cast) >= 2:\n",
    "            if movie.cast not in cast_dict:\n",
    "                cast_dict[movie.cast] = 0\n",
    "            cast_dict[movie.cast] += 1\n",
    "        else:\n",
    "            continue\n",
    "    max_value = max(cast_dict.items(), key=lambda x: x[1])\n",
    "    print(f\"El reparto de una película que más se ha repetido es {max_value[0]} con {max_value[1]} repeticiones\")"
   ]
  },
  {
   "cell_type": "code",
   "execution_count": 13,
   "metadata": {},
   "outputs": [
    {
     "name": "stdout",
     "output_type": "stream",
     "text": [
      "El reparto de una película que más se ha repetido es (Harold Lloyd, Bebe Daniels) con 44 repeticiones\n"
     ]
    }
   ],
   "source": [
    "most_repeated_casts(movies_dict)"
   ]
  }
 ],
 "metadata": {
  "kernelspec": {
   "display_name": "Python 3",
   "language": "python",
   "name": "python3"
  },
  "language_info": {
   "codemirror_mode": {
    "name": "ipython",
    "version": 3
   },
   "file_extension": ".py",
   "mimetype": "text/x-python",
   "name": "python",
   "nbconvert_exporter": "python",
   "pygments_lexer": "ipython3",
   "version": "3.10.11"
  }
 },
 "nbformat": 4,
 "nbformat_minor": 2
}
