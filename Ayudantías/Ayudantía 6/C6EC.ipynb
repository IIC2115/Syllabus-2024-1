{
 "cells": [
  {
   "cell_type": "markdown",
   "metadata": {},
   "source": [
    "# Ejercicio Complementario Capítulo 6"
   ]
  },
  {
   "cell_type": "markdown",
   "metadata": {},
   "source": [
    "## Objetivo"
   ]
  },
  {
   "cell_type": "markdown",
   "metadata": {},
   "source": [
    "Extraer los nombres y precios de todos los libros de la página web [https://books.toscrape.com](https://books.toscrape.com) utilizando Web Scraping."
   ]
  },
  {
   "cell_type": "markdown",
   "metadata": {},
   "source": [
    "## Importando Librerías"
   ]
  },
  {
   "cell_type": "code",
   "execution_count": 1,
   "metadata": {},
   "outputs": [],
   "source": [
    "from bs4 import BeautifulSoup\n",
    "import requests"
   ]
  },
  {
   "cell_type": "markdown",
   "metadata": {},
   "source": [
    "## Desarrollo"
   ]
  },
  {
   "cell_type": "code",
   "execution_count": 2,
   "metadata": {},
   "outputs": [],
   "source": [
    "URL_BASE = \"https://books.toscrape.com/\""
   ]
  },
  {
   "cell_type": "code",
   "execution_count": 3,
   "metadata": {},
   "outputs": [],
   "source": [
    "request = requests.get(URL_BASE)"
   ]
  },
  {
   "cell_type": "markdown",
   "metadata": {},
   "source": [
    "En primer lugar, se hace una solicitud a la página web y se obtiene el contenido de la misma. Para esto se utiliza la librería `requests`."
   ]
  },
  {
   "cell_type": "markdown",
   "metadata": {},
   "source": [
    "Inspeccionamos que es lo que nos retorna la solicitud a la página web."
   ]
  },
  {
   "cell_type": "code",
   "execution_count": 4,
   "metadata": {},
   "outputs": [
    {
     "name": "stdout",
     "output_type": "stream",
     "text": [
      "<Response [200]>\n"
     ]
    }
   ],
   "source": [
    "print(request)"
   ]
  },
  {
   "cell_type": "markdown",
   "metadata": {},
   "source": [
    "La solicitud a la página web nos retorna un objeto de tipo `Response` que contiene la información de la página web. Tiene elementos como los siguientes:\n",
    "\n",
    "- `text`: Contenido de la respuesta en texto. Como es una página web, este texto contiene el código HTML de la página.\n",
    "- `content`: Contenido de la respuesta en bytes.\n",
    "- `status_code`: Código de estado de la respuesta HTTP."
   ]
  },
  {
   "cell_type": "code",
   "execution_count": 5,
   "metadata": {},
   "outputs": [],
   "source": [
    "#print(request.text)"
   ]
  },
  {
   "cell_type": "code",
   "execution_count": 6,
   "metadata": {},
   "outputs": [],
   "source": [
    "#print(request.content)"
   ]
  },
  {
   "cell_type": "code",
   "execution_count": 7,
   "metadata": {},
   "outputs": [],
   "source": [
    "#print(request.status_code)"
   ]
  },
  {
   "cell_type": "markdown",
   "metadata": {},
   "source": [
    "Utilizando  `BeautifulSoup` se puede parsear el contenido, es decir, analizarlo y extraer la información que se necesita. "
   ]
  },
  {
   "cell_type": "code",
   "execution_count": 8,
   "metadata": {},
   "outputs": [],
   "source": [
    "soup = BeautifulSoup(request.text, \"html.parser\")"
   ]
  },
  {
   "cell_type": "markdown",
   "metadata": {},
   "source": [
    "Una vez que se tiene el contenido parseado, se puede extraer la información que se necesita. En este caso, se necesita extraer la información de los libros de la página web. Para ello se puede hacer uso de los siguientes métodos:\n",
    "\n",
    "- `find()`: Encuentra la primera ocurrencia de un elemento en el contenido parseado.\n",
    "- `find_all()`: Encuentra todas las ocurrencias de un elemento en el contenido parseado. Retorna una lista con los elementos encontrados."
   ]
  },
  {
   "cell_type": "code",
   "execution_count": 9,
   "metadata": {},
   "outputs": [],
   "source": [
    "first_h1 = soup.find(\"h1\")"
   ]
  },
  {
   "cell_type": "code",
   "execution_count": 10,
   "metadata": {},
   "outputs": [
    {
     "name": "stdout",
     "output_type": "stream",
     "text": [
      "<h1>All products</h1>\n"
     ]
    }
   ],
   "source": [
    "print(first_h1)"
   ]
  },
  {
   "cell_type": "code",
   "execution_count": 11,
   "metadata": {},
   "outputs": [
    {
     "name": "stdout",
     "output_type": "stream",
     "text": [
      "All products\n"
     ]
    }
   ],
   "source": [
    "print(first_h1.text)"
   ]
  },
  {
   "cell_type": "code",
   "execution_count": 12,
   "metadata": {},
   "outputs": [],
   "source": [
    "all_articles = soup.find_all(\"article\")"
   ]
  },
  {
   "cell_type": "markdown",
   "metadata": {},
   "source": [
    "Se puede obtener un resultado, o texto más limpio, utilizando el método `get_text()`. Al igual que `text` permite obtener el contenido de un elemento, pero `get_text()` permite obtener el texto limpio, sin etiquetas HTML, además se pueden especificar otras opciones como eliminar los espacios en blanco al inicio y al final del texto, esto mediante el parámetro `strip=True`."
   ]
  },
  {
   "cell_type": "code",
   "execution_count": 13,
   "metadata": {},
   "outputs": [
    {
     "name": "stdout",
     "output_type": "stream",
     "text": [
      "Nombre del libro: A Light in the ...\n",
      "Nombre del libro: Tipping the Velvet\n",
      "Nombre del libro: Soumission\n",
      "Nombre del libro: Sharp Objects\n",
      "Nombre del libro: Sapiens: A Brief History ...\n",
      "Nombre del libro: The Requiem Red\n",
      "Nombre del libro: The Dirty Little Secrets ...\n",
      "Nombre del libro: The Coming Woman: A ...\n",
      "Nombre del libro: The Boys in the ...\n",
      "Nombre del libro: The Black Maria\n",
      "Nombre del libro: Starving Hearts (Triangular Trade ...\n",
      "Nombre del libro: Shakespeare's Sonnets\n",
      "Nombre del libro: Set Me Free\n",
      "Nombre del libro: Scott Pilgrim's Precious Little ...\n",
      "Nombre del libro: Rip it Up and ...\n",
      "Nombre del libro: Our Band Could Be ...\n",
      "Nombre del libro: Olio\n",
      "Nombre del libro: Mesaerion: The Best Science ...\n",
      "Nombre del libro: Libertarianism for Beginners\n",
      "Nombre del libro: It's Only the Himalayas\n"
     ]
    }
   ],
   "source": [
    "for article in all_articles:\n",
    "    print(f\"Nombre del libro: {article.h3.get_text(strip=True)}\")"
   ]
  },
  {
   "cell_type": "markdown",
   "metadata": {},
   "source": [
    "También se puede buscar a través de los atributos de la etiqueta, por ejemplo, si se quiere buscar un elemento que tenga un atributo `class` con un valor específico, se puede hacer de la siguiente manera:"
   ]
  },
  {
   "cell_type": "code",
   "execution_count": 14,
   "metadata": {},
   "outputs": [],
   "source": [
    "all_articles_v2 = soup.find_all(class_=\"product_pod\")"
   ]
  },
  {
   "cell_type": "code",
   "execution_count": 15,
   "metadata": {},
   "outputs": [
    {
     "name": "stdout",
     "output_type": "stream",
     "text": [
      "Nombre del libro: A Light in the ...\n",
      "Nombre del libro: Tipping the Velvet\n",
      "Nombre del libro: Soumission\n",
      "Nombre del libro: Sharp Objects\n",
      "Nombre del libro: Sapiens: A Brief History ...\n",
      "Nombre del libro: The Requiem Red\n",
      "Nombre del libro: The Dirty Little Secrets ...\n",
      "Nombre del libro: The Coming Woman: A ...\n",
      "Nombre del libro: The Boys in the ...\n",
      "Nombre del libro: The Black Maria\n",
      "Nombre del libro: Starving Hearts (Triangular Trade ...\n",
      "Nombre del libro: Shakespeare's Sonnets\n",
      "Nombre del libro: Set Me Free\n",
      "Nombre del libro: Scott Pilgrim's Precious Little ...\n",
      "Nombre del libro: Rip it Up and ...\n",
      "Nombre del libro: Our Band Could Be ...\n",
      "Nombre del libro: Olio\n",
      "Nombre del libro: Mesaerion: The Best Science ...\n",
      "Nombre del libro: Libertarianism for Beginners\n",
      "Nombre del libro: It's Only the Himalayas\n"
     ]
    }
   ],
   "source": [
    "for article in all_articles_v2:\n",
    "    print(f\"Nombre del libro: {article.h3.get_text(strip=True)}\")"
   ]
  },
  {
   "cell_type": "markdown",
   "metadata": {},
   "source": [
    "Se puede realizar una busqueda a más detalle utilizando tanto el nombre de la etiqueta como el atributo de la etiqueta"
   ]
  },
  {
   "cell_type": "code",
   "execution_count": 16,
   "metadata": {},
   "outputs": [],
   "source": [
    "all_articles_v3 = soup.find_all(\"article\", class_=\"product_pod\")"
   ]
  },
  {
   "cell_type": "code",
   "execution_count": 17,
   "metadata": {},
   "outputs": [
    {
     "name": "stdout",
     "output_type": "stream",
     "text": [
      "Nombre del libro: A Light in the ...\n",
      "Nombre del libro: Tipping the Velvet\n",
      "Nombre del libro: Soumission\n",
      "Nombre del libro: Sharp Objects\n",
      "Nombre del libro: Sapiens: A Brief History ...\n",
      "Nombre del libro: The Requiem Red\n",
      "Nombre del libro: The Dirty Little Secrets ...\n",
      "Nombre del libro: The Coming Woman: A ...\n",
      "Nombre del libro: The Boys in the ...\n",
      "Nombre del libro: The Black Maria\n",
      "Nombre del libro: Starving Hearts (Triangular Trade ...\n",
      "Nombre del libro: Shakespeare's Sonnets\n",
      "Nombre del libro: Set Me Free\n",
      "Nombre del libro: Scott Pilgrim's Precious Little ...\n",
      "Nombre del libro: Rip it Up and ...\n",
      "Nombre del libro: Our Band Could Be ...\n",
      "Nombre del libro: Olio\n",
      "Nombre del libro: Mesaerion: The Best Science ...\n",
      "Nombre del libro: Libertarianism for Beginners\n",
      "Nombre del libro: It's Only the Himalayas\n"
     ]
    }
   ],
   "source": [
    "for article in all_articles_v3:\n",
    "    print(f\"Nombre del libro: {article.h3.get_text(strip=True)}\")"
   ]
  },
  {
   "cell_type": "markdown",
   "metadata": {},
   "source": [
    "Ahora que sabemos que se puede filtrar de esta manera, se puede buscar más detalle acerca del libro, por ejemplo el precio"
   ]
  },
  {
   "cell_type": "code",
   "execution_count": 18,
   "metadata": {},
   "outputs": [
    {
     "name": "stdout",
     "output_type": "stream",
     "text": [
      "Nombre del libro: A Light in the ...\n",
      "Precio: £51.77\n",
      "--------------------------------------------------------------------------------\n",
      "Nombre del libro: Tipping the Velvet\n",
      "Precio: £53.74\n",
      "--------------------------------------------------------------------------------\n",
      "Nombre del libro: Soumission\n",
      "Precio: £50.10\n",
      "--------------------------------------------------------------------------------\n",
      "Nombre del libro: Sharp Objects\n",
      "Precio: £47.82\n",
      "--------------------------------------------------------------------------------\n",
      "Nombre del libro: Sapiens: A Brief History ...\n",
      "Precio: £54.23\n",
      "--------------------------------------------------------------------------------\n",
      "Nombre del libro: The Requiem Red\n",
      "Precio: £22.65\n",
      "--------------------------------------------------------------------------------\n",
      "Nombre del libro: The Dirty Little Secrets ...\n",
      "Precio: £33.34\n",
      "--------------------------------------------------------------------------------\n",
      "Nombre del libro: The Coming Woman: A ...\n",
      "Precio: £17.93\n",
      "--------------------------------------------------------------------------------\n",
      "Nombre del libro: The Boys in the ...\n",
      "Precio: £22.60\n",
      "--------------------------------------------------------------------------------\n",
      "Nombre del libro: The Black Maria\n",
      "Precio: £52.15\n",
      "--------------------------------------------------------------------------------\n",
      "Nombre del libro: Starving Hearts (Triangular Trade ...\n",
      "Precio: £13.99\n",
      "--------------------------------------------------------------------------------\n",
      "Nombre del libro: Shakespeare's Sonnets\n",
      "Precio: £20.66\n",
      "--------------------------------------------------------------------------------\n",
      "Nombre del libro: Set Me Free\n",
      "Precio: £17.46\n",
      "--------------------------------------------------------------------------------\n",
      "Nombre del libro: Scott Pilgrim's Precious Little ...\n",
      "Precio: £52.29\n",
      "--------------------------------------------------------------------------------\n",
      "Nombre del libro: Rip it Up and ...\n",
      "Precio: £35.02\n",
      "--------------------------------------------------------------------------------\n",
      "Nombre del libro: Our Band Could Be ...\n",
      "Precio: £57.25\n",
      "--------------------------------------------------------------------------------\n",
      "Nombre del libro: Olio\n",
      "Precio: £23.88\n",
      "--------------------------------------------------------------------------------\n",
      "Nombre del libro: Mesaerion: The Best Science ...\n",
      "Precio: £37.59\n",
      "--------------------------------------------------------------------------------\n",
      "Nombre del libro: Libertarianism for Beginners\n",
      "Precio: £51.33\n",
      "--------------------------------------------------------------------------------\n",
      "Nombre del libro: It's Only the Himalayas\n",
      "Precio: £45.17\n",
      "--------------------------------------------------------------------------------\n"
     ]
    }
   ],
   "source": [
    "for article in all_articles:\n",
    "    print(f\"Nombre del libro: {article.h3.get_text(strip=True)}\")\n",
    "    print(\n",
    "        f\"Precio: {article.find('p', class_='price_color').get_text(strip=True).replace('Â', '')}\"\n",
    "    )\n",
    "    print(\"-\" * 80)"
   ]
  },
  {
   "cell_type": "markdown",
   "metadata": {},
   "source": [
    "Con lo mostrado anteriormente se puede obtener la información de los libros de la página web. Pero solo de la primera página, si nos fijamos al final de esta nos dice que hay otras páginas, de hecho nos indica que en total hay 50 páginas, por ende se debe buscar la manera de también obtener la información de las demás páginas."
   ]
  },
  {
   "cell_type": "markdown",
   "metadata": {},
   "source": [
    "Antes de iniciar con el código revisemos el url de las páginas para ver si hay alguna similitud que nos permita acceder a las demás páginas. Los resultados de la página web son los siguientes:\n",
    "\n",
    "- La primera página tiene el url base: `https://books.toscrape.com`, aunque de hecho el url completo es `https://books.toscrape.com/catalogue/page-1.html`.\n",
    "- La segunda página tiene el url: `https://books.toscrape.com/catalogue/page-2.html`.\n",
    "- La tercera página tiene el url: `https://books.toscrape.com/catalogue/page-3.html`.\n",
    "- Y así sucesivamente.\n",
    "\n",
    "Como se puede observar, el url base es el mismo para todas las páginas, solo cambia el número de la página. Por lo que se puede acceder a las demás páginas cambiando el número de la página en el url."
   ]
  },
  {
   "cell_type": "markdown",
   "metadata": {},
   "source": [
    "Además, al revisar las otras páginas se pudo corroborar que estas tienen la misma estructura que la primera página, por lo que se puede utilizar el mismo código para obtener la información de las demás páginas. Se creará una función para que extraiga sus datos."
   ]
  },
  {
   "cell_type": "code",
   "execution_count": 19,
   "metadata": {},
   "outputs": [],
   "source": [
    "def FetchBooks(url, books):\n",
    "    request = requests.get(url)\n",
    "    soup = BeautifulSoup(request.text, \"html.parser\")\n",
    "    all_articles = soup.find_all(\"article\")\n",
    "    for article in all_articles:\n",
    "        book = {\n",
    "            \"name\": article.h3.get_text(strip=True),\n",
    "            \"precio\": article.find('p', class_='price_color').get_text(strip=True).replace('Â', '')\n",
    "        }\n",
    "        books.append(book)"
   ]
  },
  {
   "cell_type": "markdown",
   "metadata": {},
   "source": [
    "La función `FetchBooks` recibe como parámetros la url y una lista de libros, la url es la url de la página de la cual se quiere extraer la información de los libros, y la lista de libros es una lista en la que se almacenarán los libros extraídos de la página."
   ]
  },
  {
   "cell_type": "markdown",
   "metadata": {},
   "source": [
    "Ahora se procede a extraer los datos de todas las páginas."
   ]
  },
  {
   "cell_type": "code",
   "execution_count": 20,
   "metadata": {},
   "outputs": [],
   "source": [
    "books = []\n",
    "for i in range(1, 51):\n",
    "    FetchBooks(f\"{URL_BASE}/catalogue/page-{i}.html\", books)"
   ]
  },
  {
   "cell_type": "code",
   "execution_count": 21,
   "metadata": {},
   "outputs": [
    {
     "name": "stdout",
     "output_type": "stream",
     "text": [
      "Hay un total de 1000 libros\n"
     ]
    }
   ],
   "source": [
    "print(f\"Hay un total de {len(books)} libros\")"
   ]
  },
  {
   "cell_type": "code",
   "execution_count": 22,
   "metadata": {},
   "outputs": [
    {
     "name": "stdout",
     "output_type": "stream",
     "text": [
      "Nombre del libro: A Light in the ...\n",
      "Precio: £51.77\n",
      "--------------------------------------------------------------------------------\n",
      "Nombre del libro: Tipping the Velvet\n",
      "Precio: £53.74\n",
      "--------------------------------------------------------------------------------\n",
      "Nombre del libro: Soumission\n",
      "Precio: £50.10\n",
      "--------------------------------------------------------------------------------\n",
      "Nombre del libro: Sharp Objects\n",
      "Precio: £47.82\n",
      "--------------------------------------------------------------------------------\n",
      "Nombre del libro: Sapiens: A Brief History ...\n",
      "Precio: £54.23\n",
      "--------------------------------------------------------------------------------\n",
      "Nombre del libro: The Requiem Red\n",
      "Precio: £22.65\n",
      "--------------------------------------------------------------------------------\n",
      "Nombre del libro: The Dirty Little Secrets ...\n",
      "Precio: £33.34\n",
      "--------------------------------------------------------------------------------\n",
      "Nombre del libro: The Coming Woman: A ...\n",
      "Precio: £17.93\n",
      "--------------------------------------------------------------------------------\n",
      "Nombre del libro: The Boys in the ...\n",
      "Precio: £22.60\n",
      "--------------------------------------------------------------------------------\n",
      "Nombre del libro: The Black Maria\n",
      "Precio: £52.15\n",
      "--------------------------------------------------------------------------------\n",
      "Nombre del libro: Starving Hearts (Triangular Trade ...\n",
      "Precio: £13.99\n",
      "--------------------------------------------------------------------------------\n",
      "Nombre del libro: Shakespeare's Sonnets\n",
      "Precio: £20.66\n",
      "--------------------------------------------------------------------------------\n",
      "Nombre del libro: Set Me Free\n",
      "Precio: £17.46\n",
      "--------------------------------------------------------------------------------\n",
      "Nombre del libro: Scott Pilgrim's Precious Little ...\n",
      "Precio: £52.29\n",
      "--------------------------------------------------------------------------------\n",
      "Nombre del libro: Rip it Up and ...\n",
      "Precio: £35.02\n",
      "--------------------------------------------------------------------------------\n"
     ]
    }
   ],
   "source": [
    "for index in range(0, 15):\n",
    "    print(f\"Nombre del libro: {books[index]['name']}\")\n",
    "    print(f\"Precio: {books[index]['precio']}\")\n",
    "    print(\"-\" * 80)"
   ]
  }
 ],
 "metadata": {
  "kernelspec": {
   "display_name": "Python 3",
   "language": "python",
   "name": "python3"
  },
  "language_info": {
   "codemirror_mode": {
    "name": "ipython",
    "version": 3
   },
   "file_extension": ".py",
   "mimetype": "text/x-python",
   "name": "python",
   "nbconvert_exporter": "python",
   "pygments_lexer": "ipython3",
   "version": "3.10.11"
  }
 },
 "nbformat": 4,
 "nbformat_minor": 2
}
