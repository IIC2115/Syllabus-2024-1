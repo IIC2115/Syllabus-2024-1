{
 "cells": [
  {
   "cell_type": "markdown",
   "metadata": {},
   "source": [
    "# Ejercicio Formativo 1 Capítulo 6"
   ]
  },
  {
   "cell_type": "markdown",
   "metadata": {},
   "source": [
    "## Importando Librerías"
   ]
  },
  {
   "cell_type": "code",
   "execution_count": 1,
   "metadata": {},
   "outputs": [],
   "source": [
    "import json\n",
    "import sqlite3"
   ]
  },
  {
   "cell_type": "markdown",
   "metadata": {},
   "source": [
    "## Misión 1: Lectura y exploración de datos"
   ]
  },
  {
   "cell_type": "code",
   "execution_count": 2,
   "metadata": {},
   "outputs": [],
   "source": [
    "with open('laureates.json', encoding = 'utf8') as laureates_file:\n",
    "    laureates = json.load(laureates_file)"
   ]
  },
  {
   "cell_type": "code",
   "execution_count": 3,
   "metadata": {},
   "outputs": [
    {
     "name": "stdout",
     "output_type": "stream",
     "text": [
      "{'id': '1', 'firstname': 'Wilhelm Conrad', 'surname': 'Röntgen', 'born': '1845-03-27', 'died': '1923-02-10', 'bornCountry': 'Prussia (now Germany)', 'bornCountryCode': 'DE', 'bornCity': 'Lennep (now Remscheid)', 'diedCountry': 'Germany', 'diedCountryCode': 'DE', 'diedCity': 'Munich', 'gender': 'male', 'prizes': [{'year': '1901', 'category': 'physics', 'share': '1', 'motivation': '\"in recognition of the extraordinary services he has rendered by the discovery of the remarkable rays subsequently named after him\"', 'affiliations': [{'name': 'Munich University', 'city': 'Munich', 'country': 'Germany'}]}]}\n",
      "{'id': '2', 'firstname': 'Hendrik A.', 'surname': 'Lorentz', 'born': '1853-07-18', 'died': '1928-02-04', 'bornCountry': 'the Netherlands', 'bornCountryCode': 'NL', 'bornCity': 'Arnhem', 'diedCountry': 'the Netherlands', 'diedCountryCode': 'NL', 'gender': 'male', 'prizes': [{'year': '1902', 'category': 'physics', 'share': '2', 'motivation': '\"in recognition of the extraordinary service they rendered by their researches into the influence of magnetism upon radiation phenomena\"', 'affiliations': [{'name': 'Leiden University', 'city': 'Leiden', 'country': 'the Netherlands'}]}]}\n",
      "{'id': '3', 'firstname': 'Pieter', 'surname': 'Zeeman', 'born': '1865-05-25', 'died': '1943-10-09', 'bornCountry': 'the Netherlands', 'bornCountryCode': 'NL', 'bornCity': 'Zonnemaire', 'diedCountry': 'the Netherlands', 'diedCountryCode': 'NL', 'diedCity': 'Amsterdam', 'gender': 'male', 'prizes': [{'year': '1902', 'category': 'physics', 'share': '2', 'motivation': '\"in recognition of the extraordinary service they rendered by their researches into the influence of magnetism upon radiation phenomena\"', 'affiliations': [{'name': 'Amsterdam University', 'city': 'Amsterdam', 'country': 'the Netherlands'}]}]}\n",
      "{'id': '4', 'firstname': 'Henri', 'surname': 'Becquerel', 'born': '1852-12-15', 'died': '1908-08-25', 'bornCountry': 'France', 'bornCountryCode': 'FR', 'bornCity': 'Paris', 'diedCountry': 'France', 'diedCountryCode': 'FR', 'gender': 'male', 'prizes': [{'year': '1903', 'category': 'physics', 'share': '2', 'motivation': '\"in recognition of the extraordinary services he has rendered by his discovery of spontaneous radioactivity\"', 'affiliations': [{'name': 'École Polytechnique', 'city': 'Paris', 'country': 'France'}]}]}\n",
      "{'id': '5', 'firstname': 'Pierre', 'surname': 'Curie', 'born': '1859-05-15', 'died': '1906-04-19', 'bornCountry': 'France', 'bornCountryCode': 'FR', 'bornCity': 'Paris', 'diedCountry': 'France', 'diedCountryCode': 'FR', 'diedCity': 'Paris', 'gender': 'male', 'prizes': [{'year': '1903', 'category': 'physics', 'share': '4', 'motivation': '\"in recognition of the extraordinary services they have rendered by their joint researches on the radiation phenomena discovered by Professor Henri Becquerel\"', 'affiliations': [{'name': 'École municipale de physique et de chimie industrielles (Municipal School of Industrial Physics and Chemistry)', 'city': 'Paris', 'country': 'France'}]}]}\n"
     ]
    }
   ],
   "source": [
    "for index in range(5):\n",
    "    print(laureates[index])"
   ]
  },
  {
   "cell_type": "code",
   "execution_count": 4,
   "metadata": {},
   "outputs": [
    {
     "name": "stdout",
     "output_type": "stream",
     "text": [
      "id: 1\n",
      "firstname: Wilhelm Conrad\n",
      "surname: Röntgen\n",
      "born: 1845-03-27\n",
      "died: 1923-02-10\n",
      "bornCountry: Prussia (now Germany)\n",
      "bornCountryCode: DE\n",
      "bornCity: Lennep (now Remscheid)\n",
      "diedCountry: Germany\n",
      "diedCountryCode: DE\n",
      "diedCity: Munich\n",
      "gender: male\n",
      "prizes: [{'year': '1901', 'category': 'physics', 'share': '1', 'motivation': '\"in recognition of the extraordinary services he has rendered by the discovery of the remarkable rays subsequently named after him\"', 'affiliations': [{'name': 'Munich University', 'city': 'Munich', 'country': 'Germany'}]}]\n"
     ]
    }
   ],
   "source": [
    "firstLaureates = laureates[0]\n",
    "for (key, value) in firstLaureates.items():\n",
    "    print(f\"{key}: {value}\")"
   ]
  },
  {
   "cell_type": "markdown",
   "metadata": {},
   "source": [
    "La información resultante esta organizada en una lista de diccionarios donde cada diccionario corresponde a un ganador de un premio Nobel."
   ]
  },
  {
   "cell_type": "markdown",
   "metadata": {},
   "source": [
    "Al revisar la información de la base de datos, se pudo discernir que no todos los elemento de `laureates`, que son diccionarios, tienen todas las llaves que deberían tener. Para poder trabajar con estos datos de manera más limpia se eliminaron los diccionarios que no tenían todas las llaves."
   ]
  },
  {
   "cell_type": "code",
   "execution_count": 5,
   "metadata": {},
   "outputs": [],
   "source": [
    "allKeys = laureates[0].keys()"
   ]
  },
  {
   "cell_type": "code",
   "execution_count": 6,
   "metadata": {},
   "outputs": [],
   "source": [
    "filterLaureates = list(filter(lambda laureate: laureate.keys() == allKeys, laureates))"
   ]
  },
  {
   "cell_type": "markdown",
   "metadata": {},
   "source": [
    "## Misión 2: Modelación de entidades"
   ]
  },
  {
   "cell_type": "markdown",
   "metadata": {},
   "source": [
    "A partir de la información, se puede distinguir las entidades: Ganadores del premio Nobel, Premios y Afiliación. A continuación se describen los atributos que tendrán cada una de las entidades:\n",
    "\n",
    "- **Ganadores del premio Nobel**: Tiene los siguientes campos:\n",
    "    - `wid`: Identificador único del ganador. Tendrá un campo de tipo INTEGER.\n",
    "    - `firstname`: Nombre del ganador. Tendrá un campo de tipo TEXT.\t\n",
    "    - `surname`: Apellido del ganador. Tendrá un campo de tipo TEXT.\n",
    "    - `born`: Fecha de nacimiento del ganador. Tendrá un campo de tipo DATE.\n",
    "    - `died`: Fecha de muerte del ganador. Tendrá un campo de tipo DATE.\n",
    "    - `bornCountry`: País de nacimiento del ganador. Tendrá un campo de tipo TEXT.\n",
    "    - `bornCountryCode`: Código del país de nacimiento del ganador. Tendrá un campo de tipo TEXT.\n",
    "    - `bornCity`: Ciudad de nacimiento del ganador. Tendrá un campo de tipo TEXT.\n",
    "    - `diedCountry`: País de muerte del ganador. Tendrá un campo de tipo TEXT.\n",
    "    - `diedCountryCode`: Código del país de muerte del ganador. Tendrá un campo de tipo TEXT.\n",
    "    - `diedCity`: Ciudad de muerte del ganador. Tendrá un campo de tipo TEXT.\n",
    "    - `gender`: Género del ganador. Tendrá un campo de tipo TEXT.\n",
    "- **Premios**: Tienes los siguientes campos:\n",
    "    - `pid`: Identificador único del premio. Tendrá un campo de tipo INTEGER.\n",
    "    - `year`: Año en que se otorgó el premio. Tendrá un campo de tipo INTEGER.\n",
    "    - `category`: Categoría del premio. Tendrá un campo de tipo TEXT.\n",
    "    - `share`: Número de ganadores del premio. Tendrá un campo de tipo INTEGER.\n",
    "    - `motivation`: Motivación del premio. Tendrá un campo de tipo TEXT.\n",
    "- **Afiliación**: La afiliación corresponden a la institución o lugar al que estaba asociado el ganador al momento de recibir el premio. Tiene los siguientes campos:\n",
    "    - `aid`: Identificador único de la institución. Tendrá un campo de tipo INTEGER.\n",
    "    - `name`: Nombre de la institución. Tendrá un campo de tipo TEXT.\n",
    "    - `city`: Ciudad de la institución. Tendrá un campo de tipo TEXT.\n",
    "    - `country`: País de la institución. Tendrá un campo de tipo TEXT."
   ]
  },
  {
   "cell_type": "markdown",
   "metadata": {},
   "source": [
    "Para estar definir la cardinalidad de las relaciones, se revisará a más detalle la información obtenida, esto de igual forma se intuye a partir de los nombres pero considere apropiado revisar la información.\n",
    "\n",
    "- Una persona puede tener varios premios?\n",
    "- Una persona puede tener varias afiliaciones?"
   ]
  },
  {
   "cell_type": "code",
   "execution_count": 7,
   "metadata": {},
   "outputs": [],
   "source": [
    "ganadoresVariosPremios = []\n",
    "for laureate in filterLaureates:\n",
    "    if len(laureate[\"prizes\"]) > 1:\n",
    "        ganadoresVariosPremios.append(\n",
    "            {\n",
    "                \"id\": laureate[\"id\"],\n",
    "                \"fullname\": f\"{laureate['firstname']} {laureate['surname']}\",\n",
    "                \"premios\": len(laureate[\"prizes\"])\n",
    "            }\n",
    "        )"
   ]
  },
  {
   "cell_type": "code",
   "execution_count": 8,
   "metadata": {},
   "outputs": [
    {
     "name": "stdout",
     "output_type": "stream",
     "text": [
      "[{'id': '6', 'fullname': 'Marie Curie', 'premios': 2}, {'id': '66', 'fullname': 'John Bardeen', 'premios': 2}, {'id': '217', 'fullname': 'Linus Pauling', 'premios': 2}, {'id': '222', 'fullname': 'Frederick Sanger', 'premios': 2}]\n"
     ]
    }
   ],
   "source": [
    "print(ganadoresVariosPremios)"
   ]
  },
  {
   "cell_type": "code",
   "execution_count": 9,
   "metadata": {},
   "outputs": [],
   "source": [
    "ganadoresVariasAfiliaciones = []\n",
    "for laureate in filterLaureates:\n",
    "    for prize in laureate[\"prizes\"]:\n",
    "        if len(prize[\"affiliations\"]) > 1:\n",
    "            ganadoresVariasAfiliaciones.append(\n",
    "            {\n",
    "                \"id\": laureate[\"id\"],\n",
    "                \"fullname\": f\"{laureate['firstname']} {laureate['surname']}\",\n",
    "                \"afiliaciones\": len(prize[\"affiliations\"])\n",
    "            }\n",
    "        )"
   ]
  },
  {
   "cell_type": "code",
   "execution_count": 10,
   "metadata": {},
   "outputs": [
    {
     "name": "stdout",
     "output_type": "stream",
     "text": [
      "[{'id': '54', 'fullname': 'Hideki Yukawa', 'afiliaciones': 2}, {'id': '62', 'fullname': 'Walther Bothe', 'afiliaciones': 2}, {'id': '71', 'fullname': 'Igor Y. Tamm', 'afiliaciones': 2}, {'id': '114', 'fullname': 'Abdus Salam', 'afiliaciones': 2}, {'id': '142', 'fullname': 'Georges Charpak', 'afiliaciones': 2}, {'id': '189', 'fullname': 'Carl Bosch', 'afiliaciones': 2}, {'id': '190', 'fullname': 'Friedrich Bergius', 'afiliaciones': 2}, {'id': '195', 'fullname': 'Peter Debye', 'afiliaciones': 2}, {'id': '198', 'fullname': 'Richard Kuhn', 'afiliaciones': 2}, {'id': '199', 'fullname': 'Adolf Butenandt', 'afiliaciones': 2}, {'id': '216', 'fullname': 'Hermann Staudinger', 'afiliaciones': 2}, {'id': '220', 'fullname': 'Nikolay Semenov', 'afiliaciones': 2}, {'id': '250', 'fullname': 'Ilya Prigogine', 'afiliaciones': 2}, {'id': '302', 'fullname': 'Paul Ehrlich', 'afiliaciones': 2}, {'id': '328', 'fullname': 'William P. Murphy', 'afiliaciones': 2}, {'id': '348', 'fullname': 'Egas Moniz', 'afiliaciones': 2}, {'id': '355', 'fullname': 'Fritz Lipmann', 'afiliaciones': 2}, {'id': '356', 'fullname': 'John F. Enders', 'afiliaciones': 2}, {'id': '404', 'fullname': 'Christian de Duve', 'afiliaciones': 2}, {'id': '461', 'fullname': 'Günter Blobel', 'afiliaciones': 2}, {'id': '721', 'fullname': 'Il´ja M. Frank', 'afiliaciones': 2}, {'id': '828', 'fullname': 'Toshihide Maskawa', 'afiliaciones': 2}, {'id': '829', 'fullname': 'Osamu Shimomura', 'afiliaciones': 2}, {'id': '831', 'fullname': 'Roger Y. Tsien', 'afiliaciones': 2}, {'id': '842', 'fullname': 'Thomas A. Steitz', 'afiliaciones': 2}, {'id': '846', 'fullname': 'Elinor Ostrom', 'afiliaciones': 2}, {'id': '857', 'fullname': 'Dale T. Mortensen', 'afiliaciones': 2}, {'id': '906', 'fullname': 'Isamu Akasaki', 'afiliaciones': 2}]\n"
     ]
    }
   ],
   "source": [
    "print(ganadoresVariasAfiliaciones)"
   ]
  },
  {
   "cell_type": "markdown",
   "metadata": {},
   "source": [
    "Entonces, se puede concluir que:\n",
    "\n",
    "- Un ganador del premio Nobel tiene asociados uno o varios premios.\n",
    "- Un ganador del premio Nobel puede tener una o varias afiliaciones."
   ]
  },
  {
   "cell_type": "markdown",
   "metadata": {},
   "source": [
    "## Misión 3: Creación de tablas"
   ]
  },
  {
   "cell_type": "markdown",
   "metadata": {},
   "source": [
    "Para crear la base de datos se usa un código similar al que se vio en clase, pero con las tablas y campos un poco diferentes."
   ]
  },
  {
   "cell_type": "code",
   "execution_count": 11,
   "metadata": {},
   "outputs": [],
   "source": [
    "connection = sqlite3.connect('laureates.db')\n",
    "cursor = connection.cursor()"
   ]
  },
  {
   "cell_type": "code",
   "execution_count": 12,
   "metadata": {},
   "outputs": [
    {
     "data": {
      "text/plain": [
       "<sqlite3.Cursor at 0x260a76695c0>"
      ]
     },
     "execution_count": 12,
     "metadata": {},
     "output_type": "execute_result"
    }
   ],
   "source": [
    "cursor.execute(\n",
    "    \"CREATE TABLE IF NOT EXISTS Winners(wid INTEGER PRIMARY KEY, firstname TEXT, surname TEXT, born DATE, died DATE, bornCountry TEXT, bornCountryCode TEXT, bornCity TEXT, diedCountry TEXT, diedCountryCode TEXT, diedCity TEXT, gender TEXT)\"\n",
    ")\n",
    "cursor.execute(\n",
    "    \"CREATE TABLE IF NOT EXISTS Prizes(pid INTEGER PRIMARY KEY, year INTEGER, category TEXT, share INTEGER, motivation TEXT)\"\n",
    ")\n",
    "cursor.execute(\n",
    "    \"CREATE TABLE IF NOT EXISTS Affiliations(aid INTEGER PRIMARY KEY, name TEXT, city TEXT, country TEXT)\"\n",
    ")"
   ]
  },
  {
   "cell_type": "markdown",
   "metadata": {},
   "source": [
    "Un cambio a resaltar es que para crear la tabla se agrego `IF NOT EXISTS` para que si la tabla ya existe no se cree de nuevo."
   ]
  },
  {
   "cell_type": "markdown",
   "metadata": {},
   "source": [
    "## Misión 4: Creación de tablas de relación entre entidades"
   ]
  },
  {
   "cell_type": "markdown",
   "metadata": {},
   "source": [
    "En el enunciado se nos decía que para las relaciones entre las entidades que tuvieran una cardinalidad mayor a 1 se debía crear una tabla de relación. En este caso, se creará una tabla de relación entre los ganadores del premio Nobel y los premios, ya que un ganador puede tener varios premios. Y de forma análoga, se creará una tabla de relación entre los ganadores del premio Nobel y las afiliaciones, ya que un ganador puede tener varias afiliaciones."
   ]
  },
  {
   "cell_type": "markdown",
   "metadata": {},
   "source": [
    "La manera de crear estas tablas de relación es similar a la creación de las tablas de las entidades, pero con la diferencia de que se deben agregar los campos que hacen referencia a las tablas que se están relacionando, en nuestro caso, `wid` y `pid` para la tabla de relación entre ganadores y premios, y `wid` y `aid` para la tabla de relación entre ganadores y afiliaciones."
   ]
  },
  {
   "cell_type": "code",
   "execution_count": 13,
   "metadata": {},
   "outputs": [
    {
     "data": {
      "text/plain": [
       "<sqlite3.Cursor at 0x260a76695c0>"
      ]
     },
     "execution_count": 13,
     "metadata": {},
     "output_type": "execute_result"
    }
   ],
   "source": [
    "cursor.execute(\n",
    "    \"CREATE TABLE IF NOT EXISTS WinnersPrizes(winner_id INTEGER, prize_id INTEGER, FOREIGN KEY (winner_id) REFERENCES Winners, FOREIGN KEY (prize_id) REFERENCES Prizes)\"\n",
    ")\n",
    "cursor.execute(\n",
    "    \"CREATE TABLE IF NOT EXISTS WinnersAffiliations(winner_id INTEGER, affiliation_id INTEGER, FOREIGN KEY (winner_id) REFERENCES Winners, FOREIGN KEY (affiliation_id) REFERENCES Affiliations)\"\n",
    ")"
   ]
  },
  {
   "cell_type": "markdown",
   "metadata": {},
   "source": [
    "Finalmente, se hace un `commit` para guardar los cambios en la base de datos y se cierra la conexión."
   ]
  },
  {
   "cell_type": "code",
   "execution_count": 14,
   "metadata": {},
   "outputs": [],
   "source": [
    "connection.commit()\n",
    "connection.close()"
   ]
  },
  {
   "cell_type": "markdown",
   "metadata": {},
   "source": [
    "Revisamos si efectivamente se creo:"
   ]
  },
  {
   "cell_type": "code",
   "execution_count": 15,
   "metadata": {},
   "outputs": [
    {
     "name": "stdout",
     "output_type": "stream",
     "text": [
      "Tablas:\n",
      "\n",
      "Winners\n",
      "[(0, 'wid', 'INTEGER', 0, None, 1), (1, 'firstname', 'TEXT', 0, None, 0), (2, 'surname', 'TEXT', 0, None, 0), (3, 'born', 'DATE', 0, None, 0), (4, 'died', 'DATE', 0, None, 0), (5, 'bornCountry', 'TEXT', 0, None, 0), (6, 'bornCountryCode', 'TEXT', 0, None, 0), (7, 'bornCity', 'TEXT', 0, None, 0), (8, 'diedCountry', 'TEXT', 0, None, 0), (9, 'diedCountryCode', 'TEXT', 0, None, 0), (10, 'diedCity', 'TEXT', 0, None, 0), (11, 'gender', 'TEXT', 0, None, 0)]\n",
      "\n",
      "Prizes\n",
      "[(0, 'pid', 'INTEGER', 0, None, 1), (1, 'year', 'INTEGER', 0, None, 0), (2, 'category', 'TEXT', 0, None, 0), (3, 'share', 'INTEGER', 0, None, 0), (4, 'motivation', 'TEXT', 0, None, 0)]\n",
      "\n",
      "Affiliations\n",
      "[(0, 'aid', 'INTEGER', 0, None, 1), (1, 'name', 'TEXT', 0, None, 0), (2, 'city', 'TEXT', 0, None, 0), (3, 'country', 'TEXT', 0, None, 0)]\n",
      "\n",
      "WinnersPrizes\n",
      "[(0, 'winner_id', 'INTEGER', 0, None, 0), (1, 'prize_id', 'INTEGER', 0, None, 0)]\n",
      "\n",
      "WinnersAffiliations\n",
      "[(0, 'winner_id', 'INTEGER', 0, None, 0), (1, 'affiliation_id', 'INTEGER', 0, None, 0)]\n",
      "\n"
     ]
    }
   ],
   "source": [
    "connection = sqlite3.connect('laureates.db')\n",
    "cursor = connection.cursor()\n",
    "\n",
    "cursor.execute(\"SELECT name FROM sqlite_master WHERE type='table';\")\n",
    "print(\"Tablas:\\n\")\n",
    "for table in cursor.fetchall():\n",
    "    print(table[0])\n",
    "    cursor.execute(f'PRAGMA table_info([{table[0]}])')\n",
    "    print(cursor.fetchall())\n",
    "    print()\n",
    "connection.close()"
   ]
  },
  {
   "cell_type": "markdown",
   "metadata": {},
   "source": [
    "Como se puede observar se crearon las tablas con los campos que fueron especificados previamente."
   ]
  },
  {
   "cell_type": "markdown",
   "metadata": {},
   "source": [
    "## Misión 5: Carga de datos en las tablas"
   ]
  },
  {
   "cell_type": "markdown",
   "metadata": {},
   "source": [
    "En primer lugar, se crean diccionarios que almacenarán la información de las entidades y se inicializan los ids de cada entidad en 1."
   ]
  },
  {
   "cell_type": "code",
   "execution_count": 16,
   "metadata": {},
   "outputs": [],
   "source": [
    "affiliations = {}\n",
    "winners = {}\n",
    "prizes = {}\n",
    "aid = 1\n",
    "wid = 1\n",
    "pid = 1"
   ]
  },
  {
   "cell_type": "markdown",
   "metadata": {},
   "source": [
    "Previamente para los ganadores del premio Nobel, se eliminaron los diccionarios que no tenían todas las llaves, ahora se guardarán todas las llaves que debiesen tener los dicccionarios de premios y afiliacionespara realizar un filtro similar."
   ]
  },
  {
   "cell_type": "code",
   "execution_count": 17,
   "metadata": {},
   "outputs": [],
   "source": [
    "allKeysPrizes = filterLaureates[0][\"prizes\"][0].keys()"
   ]
  },
  {
   "cell_type": "code",
   "execution_count": 18,
   "metadata": {},
   "outputs": [],
   "source": [
    "allKeysAffiliations = filterLaureates[0][\"prizes\"][0][\"affiliations\"][0].keys()"
   ]
  },
  {
   "cell_type": "code",
   "execution_count": 19,
   "metadata": {},
   "outputs": [
    {
     "name": "stdout",
     "output_type": "stream",
     "text": [
      "dict_keys(['year', 'category', 'share', 'motivation', 'affiliations'])\n"
     ]
    }
   ],
   "source": [
    "print(allKeysPrizes)"
   ]
  },
  {
   "cell_type": "code",
   "execution_count": 20,
   "metadata": {},
   "outputs": [
    {
     "name": "stdout",
     "output_type": "stream",
     "text": [
      "dict_keys(['name', 'city', 'country'])\n"
     ]
    }
   ],
   "source": [
    "print(allKeysAffiliations)"
   ]
  },
  {
   "cell_type": "markdown",
   "metadata": {},
   "source": [
    "Extraemos la información de los diccionarios y la cargamos en las tablas correspondientes."
   ]
  },
  {
   "cell_type": "code",
   "execution_count": 21,
   "metadata": {},
   "outputs": [],
   "source": [
    "for laureate in filterLaureates:\n",
    "    winner = (\n",
    "        laureate[\"firstname\"],\n",
    "        laureate[\"surname\"],\n",
    "        laureate[\"born\"],\n",
    "        laureate[\"died\"],\n",
    "        laureate[\"bornCountry\"],\n",
    "        laureate[\"bornCountryCode\"],\n",
    "        laureate[\"bornCity\"],\n",
    "        laureate[\"diedCountry\"],\n",
    "        laureate[\"diedCountryCode\"],\n",
    "        laureate[\"diedCity\"],\n",
    "        laureate[\"gender\"],\n",
    "    )\n",
    "    if winner not in winners:\n",
    "        winners[winner] = wid\n",
    "        wid += 1\n",
    "        \n",
    "        for prize in laureate[\"prizes\"]:\n",
    "            if prize.keys() == allKeysPrizes:\n",
    "                newPrize = (\n",
    "                    prize[\"year\"],\n",
    "                    prize[\"category\"],\n",
    "                    prize[\"share\"],\n",
    "                    prize[\"motivation\"],\n",
    "                )\n",
    "                if newPrize not in prizes:\n",
    "                    prizes[newPrize] = pid\n",
    "                    pid += 1\n",
    "                    \n",
    "                for affiliation in prize[\"affiliations\"]:\n",
    "                    if isinstance(affiliation, dict) and affiliation.keys() == allKeysAffiliations:\n",
    "                        newAffiliation = (\n",
    "                            affiliation[\"name\"],\n",
    "                            affiliation[\"city\"],\n",
    "                            affiliation[\"country\"],\n",
    "                        )\n",
    "                        if newAffiliation not in affiliations:\n",
    "                            affiliations[newAffiliation] = aid\n",
    "                            aid += 1"
   ]
  },
  {
   "cell_type": "markdown",
   "metadata": {},
   "source": [
    "Desglozamos el código para que sea más entendible:"
   ]
  },
  {
   "cell_type": "markdown",
   "metadata": {},
   "source": [
    "```python\n",
    "for laureate in filterLaureates:\n",
    "    winner = (\n",
    "        laureate[\"firstname\"],\n",
    "        laureate[\"surname\"],\n",
    "        laureate[\"born\"],\n",
    "        laureate[\"died\"],\n",
    "        laureate[\"bornCountry\"],\n",
    "        laureate[\"bornCountryCode\"],\n",
    "        laureate[\"bornCity\"],\n",
    "        laureate[\"diedCountry\"],\n",
    "        laureate[\"diedCountryCode\"],\n",
    "        laureate[\"diedCity\"],\n",
    "        laureate[\"gender\"],\n",
    "    )\n",
    "    if winner not in winners:\n",
    "        winners[winner] = wid\n",
    "        wid += 1\n",
    "```"
   ]
  },
  {
   "cell_type": "markdown",
   "metadata": {},
   "source": [
    "En este segmento lo que se hace es iterar todos los diccionarios de ganadores del premio Nobel que fueron filtrados en la misión 1, estos tendrán toda la información para todas las entidades. Luego por cada diccionario se crea una tupla con la información que se necesita para la tabla de ganadores del premio Nobel, si esta tupla no está en el diccionario `winners`, se agrega con el id correspondiente. \n",
    "\n",
    "¿Por qué se hace esto? Para evitar que se repitan los datos en la tabla. En el código visto en clase, se realizaba una acción similar, con esto me refiero a que se usaba como llave el valor de la tupla y como valor el id, para evitar que se repitieran los datos, como en esta ocasión el valor en sí tiene muchos atributos es necesario hacer una tupla con todos los atributos para representar el valor correctamente y revisar si se repite o no.\n",
    "\n",
    "Además, el hecho de guardar en tuplas servirá para realizar la inserción a la base de datos de manera más sencilla.\n",
    "\n"
   ]
  },
  {
   "cell_type": "markdown",
   "metadata": {},
   "source": [
    "```python\n",
    "for prize in laureate[\"prizes\"]:\n",
    "    if prize.keys() == allKeysPrizes:\n",
    "        newPrize = (\n",
    "            prize[\"year\"],\n",
    "            prize[\"category\"],\n",
    "            prize[\"share\"],\n",
    "            prize[\"motivation\"],\n",
    "        )\n",
    "        if newPrize not in prizes:\n",
    "            prizes[newPrize] = pid\n",
    "            pid += 1\n",
    "```"
   ]
  },
  {
   "cell_type": "markdown",
   "metadata": {},
   "source": [
    "En esta parte del código se hace algo similar a lo anterior, pero en este caso se itera sobre los premios de cada ganador del premio Nobel, se revisar si los premios poseen todas las llaves necesarias (esto es para evitar insertar valores nulos), se crea una tupla con la información necesaria para la tabla de premios, si esta tupla no está en el diccionario `prizes`, se agrega con el id correspondiente."
   ]
  },
  {
   "cell_type": "markdown",
   "metadata": {},
   "source": [
    "```python\n",
    "for affiliation in prize[\"affiliations\"]:\n",
    "    if isinstance(affiliation, dict) and affiliation.keys() == allKeysAffiliations:\n",
    "        newAffiliation = (\n",
    "            affiliation[\"name\"],\n",
    "            affiliation[\"city\"],\n",
    "            affiliation[\"country\"],\n",
    "        )\n",
    "        if newAffiliation not in affiliations:\n",
    "            affiliations[newAffiliation] = aid\n",
    "            aid += 1\n",
    "```"
   ]
  },
  {
   "cell_type": "markdown",
   "metadata": {},
   "source": [
    "Por último, en este segmento se realiza un procedimiento equivalente pero para las afiliaciones, algunos puntos a destacar son los siguientes:\n",
    "\n",
    "- Se revisa si las afiliaciones del premio incluso si este ya fue ingresado en el diccionario de los premios, esto es porque si bien puede ser el mismo premio, se interpreto que las afiliaciones hacían referencia a las instituciones a las que pertenecían los ganadores al momento de recibir el premio, por lo que no necesariamente tener el mismo premio implica tener las mismas afiliaciones.\n",
    "\n",
    "- Se agrega una condición más para revisar si la afiliación es un diccionario, esto es porque en la información se encontraron afiliaciones que no eran diccionarios, por lo que se agrega esta condición para evitar errores."
   ]
  },
  {
   "cell_type": "markdown",
   "metadata": {},
   "source": [
    "Un punto importante a señalar en esta parte, es que se estan considerando instancias distintas de premios y afiliaciones si algunos de sus valores son distintos, es decir, puede que hayan premios o afiliaciones que tengan los mismos valores en algunos campos pero si tienen un campo distinto se consideran como instancias distintas. Esto es más que nada debido a la interpretación de los datos, ya que se consideró que si un campo era distinto, entonces se trataba de una instancia distinta."
   ]
  },
  {
   "cell_type": "markdown",
   "metadata": {},
   "source": [
    "Ahora se revisa nuevamente la información para crear los diccionarios con las relaciones."
   ]
  },
  {
   "cell_type": "code",
   "execution_count": 22,
   "metadata": {},
   "outputs": [],
   "source": [
    "winnersPrizes = []\n",
    "winnersAffiliations = []"
   ]
  },
  {
   "cell_type": "code",
   "execution_count": 23,
   "metadata": {},
   "outputs": [],
   "source": [
    "for laureate in filterLaureates:\n",
    "    keyWinner = (\n",
    "        laureate[\"firstname\"],\n",
    "        laureate[\"surname\"],\n",
    "        laureate[\"born\"],\n",
    "        laureate[\"died\"],\n",
    "        laureate[\"bornCountry\"],\n",
    "        laureate[\"bornCountryCode\"],\n",
    "        laureate[\"bornCity\"],\n",
    "        laureate[\"diedCountry\"],\n",
    "        laureate[\"diedCountryCode\"],\n",
    "        laureate[\"diedCity\"],\n",
    "        laureate[\"gender\"],\n",
    "    )\n",
    "    for prize in laureate[\"prizes\"]:\n",
    "        if prize.keys() == allKeysPrizes:\n",
    "            keyPrize = (\n",
    "                prize[\"year\"],\n",
    "                prize[\"category\"],\n",
    "                prize[\"share\"],\n",
    "                prize[\"motivation\"],\n",
    "            )\n",
    "            winnersPrizes.append((winners[keyWinner], prizes[keyPrize]))\n",
    "            for affiliation in prize[\"affiliations\"]:\n",
    "                if isinstance(affiliation, dict) and affiliation.keys() == allKeysAffiliations:\n",
    "                    keyAffiliation = (\n",
    "                        affiliation[\"name\"],\n",
    "                        affiliation[\"city\"],\n",
    "                        affiliation[\"country\"],\n",
    "                    )\n",
    "                    winnersAffiliations.append((winners[keyWinner], affiliations[keyAffiliation]))"
   ]
  },
  {
   "cell_type": "markdown",
   "metadata": {},
   "source": [
    "Nuevamente desglozamos el código para que sea más entendible:"
   ]
  },
  {
   "cell_type": "markdown",
   "metadata": {},
   "source": [
    "```python\n",
    "for laureate in filterLaureates:\n",
    "    keyWinner = (\n",
    "        laureate[\"firstname\"],\n",
    "        laureate[\"surname\"],\n",
    "        laureate[\"born\"],\n",
    "        laureate[\"died\"],\n",
    "        laureate[\"bornCountry\"],\n",
    "        laureate[\"bornCountryCode\"],\n",
    "        laureate[\"bornCity\"],\n",
    "        laureate[\"diedCountry\"],\n",
    "        laureate[\"diedCountryCode\"],\n",
    "        laureate[\"diedCity\"],\n",
    "        laureate[\"gender\"],\n",
    "    )\n",
    "```"
   ]
  },
  {
   "cell_type": "markdown",
   "metadata": {},
   "source": [
    "Al igual que en el caso anterior, se iteran los diccionarios de ganadores del premio Nobel que fueron filtrados en la misión 1 y se crea una tupla con los datos, esta vendría siendo la llave para el diccionario de winners."
   ]
  },
  {
   "cell_type": "markdown",
   "metadata": {},
   "source": [
    "```python\n",
    "for prize in laureate[\"prizes\"]:\n",
    "    if prize.keys() == allKeysPrizes:\n",
    "        keyPrize = (\n",
    "            prize[\"year\"],\n",
    "            prize[\"category\"],\n",
    "            prize[\"share\"],\n",
    "            prize[\"motivation\"],\n",
    "        )\n",
    "        winnersPrizes.append((winners[keyWinner], prizes[keyPrize]))\n",
    "```"
   ]
  },
  {
   "cell_type": "markdown",
   "metadata": {},
   "source": [
    "En este segmento se itera sobre los premios de cada ganador del premio Nobel, se revisa si los premios poseen todas las llaves necesarias, luego se crea una tupla con los datos del premio que se esta iterando, esta sería la llave para el diccionario de prizes, luego se agrega una tupla con los ids de los ganadores y los premios a la lista `winnersPrizes`."
   ]
  },
  {
   "cell_type": "markdown",
   "metadata": {},
   "source": [
    "```python\n",
    "for affiliation in prize[\"affiliations\"]:\n",
    "    if isinstance(affiliation, dict) and affiliation.keys() == allKeysAffiliations:\n",
    "        keyAffiliation = (\n",
    "            affiliation[\"name\"],\n",
    "            affiliation[\"city\"],\n",
    "            affiliation[\"country\"],\n",
    "        )\n",
    "        winnersAffiliations.append((winners[keyWinner], affiliations[keyAffiliation]))\n",
    "```"
   ]
  },
  {
   "cell_type": "markdown",
   "metadata": {},
   "source": [
    "Por último, se realiza un procedimiento similar al anterior pero para las afiliaciones, se itera sobre las afiliaciones de cada premio, se revisa si las afiliaciones son diccionarios y si poseen todas las llaves necesarias, luego se crea una tupla con los datos de la afiliación que se esta iterando, esta sería la llave para el diccionario de affiliations, luego se agrega una tupla con los ids de los ganadores y las afiliaciones a la lista `winnersAffiliations`."
   ]
  },
  {
   "cell_type": "markdown",
   "metadata": {},
   "source": [
    "Con esto tendríamos toda la información de las entidades en estructuras de datos que nos permitirán realizar la inserción a la base de datos de manera más sencilla. A continuación, se imprimen los resultados: (se dejo comentado para que en GitHub no se muestre la información)"
   ]
  },
  {
   "cell_type": "code",
   "execution_count": 24,
   "metadata": {},
   "outputs": [],
   "source": [
    "#print(winners)"
   ]
  },
  {
   "cell_type": "code",
   "execution_count": 25,
   "metadata": {},
   "outputs": [],
   "source": [
    "#print(prizes)"
   ]
  },
  {
   "cell_type": "code",
   "execution_count": 26,
   "metadata": {},
   "outputs": [],
   "source": [
    "#print(affiliations)"
   ]
  },
  {
   "cell_type": "code",
   "execution_count": 27,
   "metadata": {},
   "outputs": [],
   "source": [
    "#print(winnersPrizes)"
   ]
  },
  {
   "cell_type": "code",
   "execution_count": 28,
   "metadata": {},
   "outputs": [],
   "source": [
    "#print(winnersAffiliations)"
   ]
  },
  {
   "cell_type": "markdown",
   "metadata": {},
   "source": [
    "Insertamos la información en la base de datos."
   ]
  },
  {
   "cell_type": "code",
   "execution_count": 29,
   "metadata": {},
   "outputs": [],
   "source": [
    "connection = sqlite3.connect('laureates.db')\n",
    "cursor = connection.cursor()\n",
    "\n",
    "for winner, wid in winners.items():\n",
    "    cursor.execute(\n",
    "        \"INSERT INTO Winners(wid, firstname, surname, born, died, bornCountry, bornCountryCode, bornCity, diedCountry, diedCountryCode, diedCity, gender) VALUES (?, ?, ?, ?, ?, ?, ?, ?, ?, ?, ?, ?)\",\n",
    "        (wid, *winner)\n",
    "    )\n",
    "\n",
    "for prize, pid in prizes.items():\n",
    "    cursor.execute(\n",
    "        \"INSERT INTO Prizes(pid, year, category, share, motivation) VALUES (?, ?, ?, ?, ?)\",\n",
    "        (pid, *prize)\n",
    "    )\n",
    "\n",
    "for affiliation, aid in affiliations.items():\n",
    "    cursor.execute(\n",
    "        \"INSERT INTO Affiliations(aid, name, city, country) VALUES (?, ?, ?, ?)\",\n",
    "        (aid, *affiliation)\n",
    "    )\n",
    "\n",
    "for winner_id, prize_id in winnersPrizes:\n",
    "    cursor.execute(\n",
    "        \"INSERT INTO WinnersPrizes(winner_id, prize_id) VALUES (?, ?)\",\n",
    "        (winner_id, prize_id)\n",
    "    )\n",
    "\n",
    "for winner_id, affiliation_id in winnersAffiliations:\n",
    "    cursor.execute(\n",
    "        \"INSERT INTO WinnersAffiliations(winner_id, affiliation_id) VALUES (?, ?)\",\n",
    "        (winner_id, affiliation_id)\n",
    "    )\n",
    "\n",
    "connection.commit()\n",
    "connection.close()"
   ]
  },
  {
   "cell_type": "markdown",
   "metadata": {},
   "source": [
    "Ahora se desglosa el código para que sea más entendible:"
   ]
  },
  {
   "cell_type": "markdown",
   "metadata": {},
   "source": [
    "```python\n",
    "for winner, wid in winners.items():\n",
    "    cursor.execute(\n",
    "        \"INSERT INTO Winners(wid, firstname, surname, born, died, bornCountry, bornCountryCode, bornCity, diedCountry, diedCountryCode, diedCity, gender) VALUES (?, ?, ?, ?, ?, ?, ?, ?, ?, ?, ?, ?)\",\n",
    "        (wid, *winner)\n",
    "    )\n",
    "```"
   ]
  },
  {
   "cell_type": "markdown",
   "metadata": {},
   "source": [
    "Se iteran los elementos del diccionario de ganadores, se obtiene el id y la tupla con los datos del ganador, recordar que `items()` nos entrega la llave y el valor del diccionario, y que la llave eran los datos de la entidad mientras que el valor era el id. Luego se crea una tupla con el id y los datos del ganador, y se inserta en la tabla de ganadores del premio Nobel. La parte de `*winner` es para desempaquetar la tupla y pasar los valores como argumentos."
   ]
  },
  {
   "cell_type": "markdown",
   "metadata": {},
   "source": [
    "```python\n",
    "for winner_id, prize_id in winnersPrizes:\n",
    "    cursor.execute(\n",
    "        \"INSERT INTO WinnersPrizes(winner_id, prize_id) VALUES (?, ?)\",\n",
    "        (winner_id, prize_id)\n",
    "    )\n",
    "```"
   ]
  },
  {
   "cell_type": "markdown",
   "metadata": {},
   "source": [
    "En este segmento lo que se hace es iterar sobre la lista `winnersPrizes` que contiene tuplas con los ids de los ganadores y los premios, luego se insertan estos datos en la tabla de relación entre ganadores y premios. Este procedimiento se realiza de manera similar para la tabla de relación entre ganadores y afiliaciones."
   ]
  }
 ],
 "metadata": {
  "kernelspec": {
   "display_name": "Python 3",
   "language": "python",
   "name": "python3"
  },
  "language_info": {
   "codemirror_mode": {
    "name": "ipython",
    "version": 3
   },
   "file_extension": ".py",
   "mimetype": "text/x-python",
   "name": "python",
   "nbconvert_exporter": "python",
   "pygments_lexer": "ipython3",
   "version": "3.10.11"
  }
 },
 "nbformat": 4,
 "nbformat_minor": 2
}
