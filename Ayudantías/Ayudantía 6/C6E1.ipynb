{
 "cells": [
  {
   "cell_type": "markdown",
   "metadata": {},
   "source": [
    "# Ejercicio Formativo 1 Capítulo 6"
   ]
  },
  {
   "cell_type": "markdown",
   "metadata": {},
   "source": [
    "## Importando Librerías"
   ]
  },
  {
   "cell_type": "code",
   "execution_count": 1,
   "metadata": {},
   "outputs": [],
   "source": [
    "import json\n",
    "import sqlite3"
   ]
  },
  {
   "cell_type": "markdown",
   "metadata": {},
   "source": [
    "## Misión 1: Lectura y exploración de datos"
   ]
  },
  {
   "cell_type": "code",
   "execution_count": 2,
   "metadata": {},
   "outputs": [],
   "source": [
    "with open('laureates.json', encoding = 'utf8') as laureates_file:\n",
    "    laureates = json.load(laureates_file)"
   ]
  },
  {
   "cell_type": "code",
   "execution_count": 3,
   "metadata": {},
   "outputs": [
    {
     "name": "stdout",
     "output_type": "stream",
     "text": [
      "{'id': '1', 'firstname': 'Wilhelm Conrad', 'surname': 'Röntgen', 'born': '1845-03-27', 'died': '1923-02-10', 'bornCountry': 'Prussia (now Germany)', 'bornCountryCode': 'DE', 'bornCity': 'Lennep (now Remscheid)', 'diedCountry': 'Germany', 'diedCountryCode': 'DE', 'diedCity': 'Munich', 'gender': 'male', 'prizes': [{'year': '1901', 'category': 'physics', 'share': '1', 'motivation': '\"in recognition of the extraordinary services he has rendered by the discovery of the remarkable rays subsequently named after him\"', 'affiliations': [{'name': 'Munich University', 'city': 'Munich', 'country': 'Germany'}]}]}\n",
      "{'id': '2', 'firstname': 'Hendrik A.', 'surname': 'Lorentz', 'born': '1853-07-18', 'died': '1928-02-04', 'bornCountry': 'the Netherlands', 'bornCountryCode': 'NL', 'bornCity': 'Arnhem', 'diedCountry': 'the Netherlands', 'diedCountryCode': 'NL', 'gender': 'male', 'prizes': [{'year': '1902', 'category': 'physics', 'share': '2', 'motivation': '\"in recognition of the extraordinary service they rendered by their researches into the influence of magnetism upon radiation phenomena\"', 'affiliations': [{'name': 'Leiden University', 'city': 'Leiden', 'country': 'the Netherlands'}]}]}\n",
      "{'id': '3', 'firstname': 'Pieter', 'surname': 'Zeeman', 'born': '1865-05-25', 'died': '1943-10-09', 'bornCountry': 'the Netherlands', 'bornCountryCode': 'NL', 'bornCity': 'Zonnemaire', 'diedCountry': 'the Netherlands', 'diedCountryCode': 'NL', 'diedCity': 'Amsterdam', 'gender': 'male', 'prizes': [{'year': '1902', 'category': 'physics', 'share': '2', 'motivation': '\"in recognition of the extraordinary service they rendered by their researches into the influence of magnetism upon radiation phenomena\"', 'affiliations': [{'name': 'Amsterdam University', 'city': 'Amsterdam', 'country': 'the Netherlands'}]}]}\n",
      "{'id': '4', 'firstname': 'Henri', 'surname': 'Becquerel', 'born': '1852-12-15', 'died': '1908-08-25', 'bornCountry': 'France', 'bornCountryCode': 'FR', 'bornCity': 'Paris', 'diedCountry': 'France', 'diedCountryCode': 'FR', 'gender': 'male', 'prizes': [{'year': '1903', 'category': 'physics', 'share': '2', 'motivation': '\"in recognition of the extraordinary services he has rendered by his discovery of spontaneous radioactivity\"', 'affiliations': [{'name': 'École Polytechnique', 'city': 'Paris', 'country': 'France'}]}]}\n",
      "{'id': '5', 'firstname': 'Pierre', 'surname': 'Curie', 'born': '1859-05-15', 'died': '1906-04-19', 'bornCountry': 'France', 'bornCountryCode': 'FR', 'bornCity': 'Paris', 'diedCountry': 'France', 'diedCountryCode': 'FR', 'diedCity': 'Paris', 'gender': 'male', 'prizes': [{'year': '1903', 'category': 'physics', 'share': '4', 'motivation': '\"in recognition of the extraordinary services they have rendered by their joint researches on the radiation phenomena discovered by Professor Henri Becquerel\"', 'affiliations': [{'name': 'École municipale de physique et de chimie industrielles (Municipal School of Industrial Physics and Chemistry)', 'city': 'Paris', 'country': 'France'}]}]}\n"
     ]
    }
   ],
   "source": [
    "for index in range(5):\n",
    "    print(laureates[index])"
   ]
  },
  {
   "cell_type": "code",
   "execution_count": 4,
   "metadata": {},
   "outputs": [
    {
     "name": "stdout",
     "output_type": "stream",
     "text": [
      "id: 1\n",
      "firstname: Wilhelm Conrad\n",
      "surname: Röntgen\n",
      "born: 1845-03-27\n",
      "died: 1923-02-10\n",
      "bornCountry: Prussia (now Germany)\n",
      "bornCountryCode: DE\n",
      "bornCity: Lennep (now Remscheid)\n",
      "diedCountry: Germany\n",
      "diedCountryCode: DE\n",
      "diedCity: Munich\n",
      "gender: male\n",
      "prizes: [{'year': '1901', 'category': 'physics', 'share': '1', 'motivation': '\"in recognition of the extraordinary services he has rendered by the discovery of the remarkable rays subsequently named after him\"', 'affiliations': [{'name': 'Munich University', 'city': 'Munich', 'country': 'Germany'}]}]\n"
     ]
    }
   ],
   "source": [
    "firstLaureates = laureates[0]\n",
    "for (key, value) in firstLaureates.items():\n",
    "    print(f\"{key}: {value}\")"
   ]
  },
  {
   "cell_type": "markdown",
   "metadata": {},
   "source": [
    "La información resultante esta organizada en una lista de diccionarios donde cada diccionario corresponde a un ganador de un premio Nobel."
   ]
  },
  {
   "cell_type": "markdown",
   "metadata": {},
   "source": [
    "Al revisar la información de la base de datos, se pudo discernir que no todos los elemento de `laureates`, que son diccionarios, tienen todas las llaves que deberían tener. Para poder trabajar con estos datos de manera más limpia se eliminaron los diccionarios que no tenían todas las llaves."
   ]
  },
  {
   "cell_type": "code",
   "execution_count": 5,
   "metadata": {},
   "outputs": [],
   "source": [
    "allKeys = laureates[0].keys()"
   ]
  },
  {
   "cell_type": "code",
   "execution_count": 6,
   "metadata": {},
   "outputs": [],
   "source": [
    "filterLaureates = list(filter(lambda laureate: laureate.keys() == allKeys, laureates))"
   ]
  },
  {
   "cell_type": "markdown",
   "metadata": {},
   "source": [
    "## Misión 2: Modelación de entidades"
   ]
  },
  {
   "cell_type": "markdown",
   "metadata": {},
   "source": [
    "Se pueden distinguir las siguientes entidades:\n",
    "\n",
    "- **Ganadores del premio Nobel**: Tiene los siguientes campos:\n",
    "    - `id`: Identificador único del ganador.\n",
    "    - `firstname`: Nombre del ganador.\n",
    "    - `surname`: Apellido del ganador.\n",
    "    - `born`: Fecha de nacimiento del ganador.\n",
    "    - `died`: Fecha de muerte del ganador.\n",
    "    - `bornCountry`: País de nacimiento del ganador.\n",
    "    - `bornCountryCode`: Código del país de nacimiento del ganador.\n",
    "    - `bornCity`: Ciudad de nacimiento del ganador.\n",
    "    - `diedCountry`: País de muerte del ganador.\n",
    "    - `diedCountryCode`: Código del país de muerte del ganador.\n",
    "    - `diedCity`: Ciudad de muerte del ganador.\n",
    "    - `gender`: Género del ganador.\n",
    "    - `prizes`: Lista de premios ganados por el ganador.\n",
    "- **Premios**: Tienes los siguientes campos:\n",
    "    - `year`: Año en que se otorgó el premio.\n",
    "    - `category`: Categoría del premio.\n",
    "    - `share`: Número de ganadores del premio.\n",
    "    - `motivation`: Motivación del premio.\n",
    "    - `affiliations`: Lista de afiliaciones de los ganadores.\n",
    "- **Afiliación**: La afiliación corresponden a la institución o lugar al que estaba asociado el ganador al momento de recibir el premio. Tiene los siguientes campos:\n",
    "    - `name`: Nombre de la institución.\n",
    "    - `city`: Ciudad de la institución.\n",
    "    - `country`: País de la institución."
   ]
  },
  {
   "cell_type": "markdown",
   "metadata": {},
   "source": [
    "Para estar definir la cardinalidad de las relaciones, se revisará a más detalle la información obtenida. Lo que se busca saber es lo siguiente:\n",
    "\n",
    "- Una persona puede tener varios premios?\n",
    "- Una persona puede tener varias afiliaciones?"
   ]
  },
  {
   "cell_type": "code",
   "execution_count": 7,
   "metadata": {},
   "outputs": [],
   "source": [
    "ganadoresVariosPremios = []\n",
    "for laureate in filterLaureates:\n",
    "    if len(laureate[\"prizes\"]) > 1:\n",
    "        ganadoresVariosPremios.append(\n",
    "            {\n",
    "                \"id\": laureate[\"id\"],\n",
    "                \"fullname\": f\"{laureate['firstname']} {laureate['surname']}\",\n",
    "                \"premios\": len(laureate[\"prizes\"])\n",
    "            }\n",
    "        )"
   ]
  },
  {
   "cell_type": "code",
   "execution_count": 8,
   "metadata": {},
   "outputs": [
    {
     "name": "stdout",
     "output_type": "stream",
     "text": [
      "[{'id': '6', 'fullname': 'Marie Curie', 'premios': 2}, {'id': '66', 'fullname': 'John Bardeen', 'premios': 2}, {'id': '217', 'fullname': 'Linus Pauling', 'premios': 2}, {'id': '222', 'fullname': 'Frederick Sanger', 'premios': 2}]\n"
     ]
    }
   ],
   "source": [
    "print(ganadoresVariosPremios)"
   ]
  },
  {
   "cell_type": "code",
   "execution_count": 9,
   "metadata": {},
   "outputs": [],
   "source": [
    "ganadoresVariasAfiliaciones = []\n",
    "for laureate in filterLaureates:\n",
    "    for prize in laureate[\"prizes\"]:\n",
    "        if len(prize[\"affiliations\"]) > 1:\n",
    "            ganadoresVariasAfiliaciones.append(\n",
    "            {\n",
    "                \"id\": laureate[\"id\"],\n",
    "                \"fullname\": f\"{laureate['firstname']} {laureate['surname']}\",\n",
    "                \"afiliaciones\": len(prize[\"affiliations\"])\n",
    "            }\n",
    "        )"
   ]
  },
  {
   "cell_type": "code",
   "execution_count": 10,
   "metadata": {},
   "outputs": [
    {
     "name": "stdout",
     "output_type": "stream",
     "text": [
      "[{'id': '54', 'fullname': 'Hideki Yukawa', 'afiliaciones': 2}, {'id': '62', 'fullname': 'Walther Bothe', 'afiliaciones': 2}, {'id': '71', 'fullname': 'Igor Y. Tamm', 'afiliaciones': 2}, {'id': '114', 'fullname': 'Abdus Salam', 'afiliaciones': 2}, {'id': '142', 'fullname': 'Georges Charpak', 'afiliaciones': 2}, {'id': '189', 'fullname': 'Carl Bosch', 'afiliaciones': 2}, {'id': '190', 'fullname': 'Friedrich Bergius', 'afiliaciones': 2}, {'id': '195', 'fullname': 'Peter Debye', 'afiliaciones': 2}, {'id': '198', 'fullname': 'Richard Kuhn', 'afiliaciones': 2}, {'id': '199', 'fullname': 'Adolf Butenandt', 'afiliaciones': 2}, {'id': '216', 'fullname': 'Hermann Staudinger', 'afiliaciones': 2}, {'id': '220', 'fullname': 'Nikolay Semenov', 'afiliaciones': 2}, {'id': '250', 'fullname': 'Ilya Prigogine', 'afiliaciones': 2}, {'id': '302', 'fullname': 'Paul Ehrlich', 'afiliaciones': 2}, {'id': '328', 'fullname': 'William P. Murphy', 'afiliaciones': 2}, {'id': '348', 'fullname': 'Egas Moniz', 'afiliaciones': 2}, {'id': '355', 'fullname': 'Fritz Lipmann', 'afiliaciones': 2}, {'id': '356', 'fullname': 'John F. Enders', 'afiliaciones': 2}, {'id': '404', 'fullname': 'Christian de Duve', 'afiliaciones': 2}, {'id': '461', 'fullname': 'Günter Blobel', 'afiliaciones': 2}, {'id': '721', 'fullname': 'Il´ja M. Frank', 'afiliaciones': 2}, {'id': '828', 'fullname': 'Toshihide Maskawa', 'afiliaciones': 2}, {'id': '829', 'fullname': 'Osamu Shimomura', 'afiliaciones': 2}, {'id': '831', 'fullname': 'Roger Y. Tsien', 'afiliaciones': 2}, {'id': '842', 'fullname': 'Thomas A. Steitz', 'afiliaciones': 2}, {'id': '846', 'fullname': 'Elinor Ostrom', 'afiliaciones': 2}, {'id': '857', 'fullname': 'Dale T. Mortensen', 'afiliaciones': 2}, {'id': '906', 'fullname': 'Isamu Akasaki', 'afiliaciones': 2}]\n"
     ]
    }
   ],
   "source": [
    "print(ganadoresVariasAfiliaciones)"
   ]
  },
  {
   "cell_type": "markdown",
   "metadata": {},
   "source": [
    "Cardinalidades:\n",
    "\n",
    "- Un ganador del premio Nobel tiene asociados uno o varios premios.\n",
    "- Un ganador del premio Nobel puede tener una o varias afiliaciones."
   ]
  },
  {
   "cell_type": "markdown",
   "metadata": {},
   "source": [
    "## Misión 3: Creación de tablas"
   ]
  },
  {
   "cell_type": "code",
   "execution_count": 11,
   "metadata": {},
   "outputs": [],
   "source": [
    "connection = sqlite3.connect('laureates.db')\n",
    "cursor = connection.cursor()"
   ]
  },
  {
   "cell_type": "code",
   "execution_count": 12,
   "metadata": {},
   "outputs": [
    {
     "data": {
      "text/plain": [
       "<sqlite3.Cursor at 0x288141d95c0>"
      ]
     },
     "execution_count": 12,
     "metadata": {},
     "output_type": "execute_result"
    }
   ],
   "source": [
    "cursor.execute(\n",
    "    \"CREATE TABLE IF NOT EXISTS Winners(wid INTEGER PRIMARY KEY, firstname TEXT, surname TEXT, born DATE, died DATE, bornCountry TEXT, bornCountryCode TEXT, bornCity TEXT, diedCountry TEXT, diedCountryCode TEXT, diedCity TEXT, gender TEXT)\"\n",
    ")\n",
    "cursor.execute(\n",
    "    \"CREATE TABLE IF NOT EXISTS Prizes(pid INTEGER PRIMARY KEY, year INTEGER, category TEXT, share INTEGER, motivation TEXT)\"\n",
    ")\n",
    "cursor.execute(\n",
    "    \"CREATE TABLE IF NOT EXISTS Affiliations(aid INTEGER PRIMARY KEY, name TEXT, city TEXT, country TEXT)\"\n",
    ")"
   ]
  },
  {
   "cell_type": "markdown",
   "metadata": {},
   "source": [
    "## Misión 4: Creación de tablas de relación entre entidades"
   ]
  },
  {
   "cell_type": "code",
   "execution_count": 13,
   "metadata": {},
   "outputs": [
    {
     "data": {
      "text/plain": [
       "<sqlite3.Cursor at 0x288141d95c0>"
      ]
     },
     "execution_count": 13,
     "metadata": {},
     "output_type": "execute_result"
    }
   ],
   "source": [
    "cursor.execute(\n",
    "    \"CREATE TABLE IF NOT EXISTS WinnersPrizes(winner_id INTEGER, prize_id INTEGER, FOREIGN KEY (winner_id) REFERENCES Winners, FOREIGN KEY (prize_id) REFERENCES Prizes)\"\n",
    ")\n",
    "cursor.execute(\n",
    "    \"CREATE TABLE IF NOT EXISTS WinnersAffiliations(winner_id INTEGER, affiliation_id INTEGER, FOREIGN KEY (winner_id) REFERENCES Winners, FOREIGN KEY (affiliation_id) REFERENCES Affiliations)\"\n",
    ")"
   ]
  },
  {
   "cell_type": "code",
   "execution_count": 14,
   "metadata": {},
   "outputs": [],
   "source": [
    "connection.commit()\n",
    "connection.close()"
   ]
  },
  {
   "cell_type": "markdown",
   "metadata": {},
   "source": [
    "Revisamos si efectivamente se creo:"
   ]
  },
  {
   "cell_type": "code",
   "execution_count": 15,
   "metadata": {},
   "outputs": [
    {
     "name": "stdout",
     "output_type": "stream",
     "text": [
      "Tablas:\n",
      "\n",
      "Winners\n",
      "[(0, 'wid', 'INTEGER', 0, None, 1), (1, 'firstname', 'TEXT', 0, None, 0), (2, 'surname', 'TEXT', 0, None, 0), (3, 'born', 'DATE', 0, None, 0), (4, 'died', 'DATE', 0, None, 0), (5, 'bornCountry', 'TEXT', 0, None, 0), (6, 'bornCountryCode', 'TEXT', 0, None, 0), (7, 'bornCity', 'TEXT', 0, None, 0), (8, 'diedCountry', 'TEXT', 0, None, 0), (9, 'diedCountryCode', 'TEXT', 0, None, 0), (10, 'diedCity', 'TEXT', 0, None, 0), (11, 'gender', 'TEXT', 0, None, 0)]\n",
      "\n",
      "Prizes\n",
      "[(0, 'pid', 'INTEGER', 0, None, 1), (1, 'year', 'INTEGER', 0, None, 0), (2, 'category', 'TEXT', 0, None, 0), (3, 'share', 'INTEGER', 0, None, 0), (4, 'motivation', 'TEXT', 0, None, 0)]\n",
      "\n",
      "Affiliations\n",
      "[(0, 'aid', 'INTEGER', 0, None, 1), (1, 'name', 'TEXT', 0, None, 0), (2, 'city', 'TEXT', 0, None, 0), (3, 'country', 'TEXT', 0, None, 0)]\n",
      "\n",
      "WinnersPrizes\n",
      "[(0, 'winner_id', 'INTEGER', 0, None, 0), (1, 'prize_id', 'INTEGER', 0, None, 0)]\n",
      "\n",
      "WinnersAffiliations\n",
      "[(0, 'winner_id', 'INTEGER', 0, None, 0), (1, 'affiliation_id', 'INTEGER', 0, None, 0)]\n",
      "\n"
     ]
    }
   ],
   "source": [
    "connection = sqlite3.connect('laureates.db')\n",
    "cursor = connection.cursor()\n",
    "\n",
    "cursor.execute(\"SELECT name FROM sqlite_master WHERE type='table';\")\n",
    "print(\"Tablas:\\n\")\n",
    "for table in cursor.fetchall():\n",
    "    print(table[0])\n",
    "    cursor.execute(f'PRAGMA table_info([{table[0]}])')\n",
    "    print(cursor.fetchall())\n",
    "    print()\n",
    "connection.close()"
   ]
  },
  {
   "cell_type": "markdown",
   "metadata": {},
   "source": [
    "## Misión 5: Carga de datos en las tablas"
   ]
  },
  {
   "cell_type": "code",
   "execution_count": 16,
   "metadata": {},
   "outputs": [],
   "source": [
    "affiliations = {}\n",
    "winners = {}\n",
    "prizes = {}\n",
    "aid = 1\n",
    "wid = 1\n",
    "pid = 1"
   ]
  },
  {
   "cell_type": "code",
   "execution_count": 17,
   "metadata": {},
   "outputs": [],
   "source": [
    "allKeysPrizes = filterLaureates[0][\"prizes\"][0].keys()"
   ]
  },
  {
   "cell_type": "code",
   "execution_count": 18,
   "metadata": {},
   "outputs": [],
   "source": [
    "allKeysAffiliations = filterLaureates[0][\"prizes\"][0][\"affiliations\"][0].keys()"
   ]
  },
  {
   "cell_type": "code",
   "execution_count": 19,
   "metadata": {},
   "outputs": [
    {
     "name": "stdout",
     "output_type": "stream",
     "text": [
      "dict_keys(['year', 'category', 'share', 'motivation', 'affiliations'])\n"
     ]
    }
   ],
   "source": [
    "print(allKeysPrizes)"
   ]
  },
  {
   "cell_type": "code",
   "execution_count": 20,
   "metadata": {},
   "outputs": [
    {
     "name": "stdout",
     "output_type": "stream",
     "text": [
      "dict_keys(['name', 'city', 'country'])\n"
     ]
    }
   ],
   "source": [
    "print(allKeysAffiliations)"
   ]
  },
  {
   "cell_type": "markdown",
   "metadata": {},
   "source": [
    "Extraemos la información de los diccionarios y la cargamos en las tablas correspondientes."
   ]
  },
  {
   "cell_type": "code",
   "execution_count": 21,
   "metadata": {},
   "outputs": [],
   "source": [
    "for laureate in filterLaureates:\n",
    "    winner = (\n",
    "        laureate[\"firstname\"],\n",
    "        laureate[\"surname\"],\n",
    "        laureate[\"born\"],\n",
    "        laureate[\"died\"],\n",
    "        laureate[\"bornCountry\"],\n",
    "        laureate[\"bornCountryCode\"],\n",
    "        laureate[\"bornCity\"],\n",
    "        laureate[\"diedCountry\"],\n",
    "        laureate[\"diedCountryCode\"],\n",
    "        laureate[\"diedCity\"],\n",
    "        laureate[\"gender\"],\n",
    "    )\n",
    "    if winner not in winners:\n",
    "        winners[winner] = wid\n",
    "        wid += 1\n",
    "        \n",
    "        for prize in laureate[\"prizes\"]:\n",
    "            if prize.keys() == allKeysPrizes:\n",
    "                newPrize = (\n",
    "                    prize[\"year\"],\n",
    "                    prize[\"category\"],\n",
    "                    prize[\"share\"],\n",
    "                    prize[\"motivation\"],\n",
    "                )\n",
    "                if newPrize not in prizes:\n",
    "                    prizes[newPrize] = pid\n",
    "                    pid += 1\n",
    "                    \n",
    "                for affiliation in prize[\"affiliations\"]:\n",
    "                    if isinstance(affiliation, dict) and affiliation.keys() == allKeysAffiliations:\n",
    "                        newAffiliation = (\n",
    "                            affiliation[\"name\"],\n",
    "                            affiliation[\"city\"],\n",
    "                            affiliation[\"country\"],\n",
    "                        )\n",
    "                        if newAffiliation not in affiliations:\n",
    "                            affiliations[newAffiliation] = aid\n",
    "                            aid += 1"
   ]
  },
  {
   "cell_type": "markdown",
   "metadata": {},
   "source": [
    "Ahora se revisa nuevamente la información para crear los diccionarios con las relaciones."
   ]
  },
  {
   "cell_type": "code",
   "execution_count": 22,
   "metadata": {},
   "outputs": [],
   "source": [
    "winnersPrizes = []\n",
    "winnersAffiliations = []"
   ]
  },
  {
   "cell_type": "code",
   "execution_count": 23,
   "metadata": {},
   "outputs": [],
   "source": [
    "for laureate in filterLaureates:\n",
    "    keyWinner = (\n",
    "        laureate[\"firstname\"],\n",
    "        laureate[\"surname\"],\n",
    "        laureate[\"born\"],\n",
    "        laureate[\"died\"],\n",
    "        laureate[\"bornCountry\"],\n",
    "        laureate[\"bornCountryCode\"],\n",
    "        laureate[\"bornCity\"],\n",
    "        laureate[\"diedCountry\"],\n",
    "        laureate[\"diedCountryCode\"],\n",
    "        laureate[\"diedCity\"],\n",
    "        laureate[\"gender\"],\n",
    "    )\n",
    "    for prize in laureate[\"prizes\"]:\n",
    "        if prize.keys() == allKeysPrizes:\n",
    "            keyPrize = (\n",
    "                prize[\"year\"],\n",
    "                prize[\"category\"],\n",
    "                prize[\"share\"],\n",
    "                prize[\"motivation\"],\n",
    "            )\n",
    "            if keyWinner in winners and keyPrize in prizes:\n",
    "                winnersPrizes.append((winners[keyWinner], prizes[keyPrize]))\n",
    "            for affiliation in prize[\"affiliations\"]:\n",
    "                if isinstance(affiliation, dict) and affiliation.keys() == allKeysAffiliations:\n",
    "                    keyAffiliation = (\n",
    "                        affiliation[\"name\"],\n",
    "                        affiliation[\"city\"],\n",
    "                        affiliation[\"country\"],\n",
    "                    )\n",
    "                    if keyWinner in winners and keyAffiliation in affiliations:\n",
    "                        winnersAffiliations.append((winners[keyWinner], affiliations[keyAffiliation]))"
   ]
  },
  {
   "cell_type": "code",
   "execution_count": 24,
   "metadata": {},
   "outputs": [],
   "source": [
    "#print(winners)"
   ]
  },
  {
   "cell_type": "code",
   "execution_count": 25,
   "metadata": {},
   "outputs": [],
   "source": [
    "#print(prizes)"
   ]
  },
  {
   "cell_type": "code",
   "execution_count": 26,
   "metadata": {},
   "outputs": [],
   "source": [
    "#print(affiliations)"
   ]
  },
  {
   "cell_type": "code",
   "execution_count": 27,
   "metadata": {},
   "outputs": [],
   "source": [
    "#print(winnersPrizes)"
   ]
  },
  {
   "cell_type": "code",
   "execution_count": 28,
   "metadata": {},
   "outputs": [],
   "source": [
    "#print(winnersAffiliations)"
   ]
  },
  {
   "cell_type": "markdown",
   "metadata": {},
   "source": [
    "Insertamos la información en la base de datos."
   ]
  },
  {
   "cell_type": "code",
   "execution_count": 29,
   "metadata": {},
   "outputs": [],
   "source": [
    "connection = sqlite3.connect('laureates.db')\n",
    "cursor = connection.cursor()\n",
    "\n",
    "for winner, wid in winners.items():\n",
    "    cursor.execute(\n",
    "        \"INSERT INTO Winners(wid, firstname, surname, born, died, bornCountry, bornCountryCode, bornCity, diedCountry, diedCountryCode, diedCity, gender) VALUES (?, ?, ?, ?, ?, ?, ?, ?, ?, ?, ?, ?)\",\n",
    "        (wid, *winner)\n",
    "    )\n",
    "\n",
    "for prize, pid in prizes.items():\n",
    "    cursor.execute(\n",
    "        \"INSERT INTO Prizes(pid, year, category, share, motivation) VALUES (?, ?, ?, ?, ?)\",\n",
    "        (pid, *prize)\n",
    "    )\n",
    "\n",
    "for affiliation, aid in affiliations.items():\n",
    "    cursor.execute(\n",
    "        \"INSERT INTO Affiliations(aid, name, city, country) VALUES (?, ?, ?, ?)\",\n",
    "        (aid, *affiliation)\n",
    "    )\n",
    "\n",
    "for winner_id, prize_id in winnersPrizes:\n",
    "    cursor.execute(\n",
    "        \"INSERT INTO WinnersPrizes(winner_id, prize_id) VALUES (?, ?)\",\n",
    "        (winner_id, prize_id)\n",
    "    )\n",
    "\n",
    "for winner_id, affiliation_id in winnersAffiliations:\n",
    "    cursor.execute(\n",
    "        \"INSERT INTO WinnersAffiliations(winner_id, affiliation_id) VALUES (?, ?)\",\n",
    "        (winner_id, affiliation_id)\n",
    "    )\n",
    "\n",
    "connection.commit()\n",
    "connection.close()"
   ]
  }
 ],
 "metadata": {
  "kernelspec": {
   "display_name": "Python 3",
   "language": "python",
   "name": "python3"
  },
  "language_info": {
   "codemirror_mode": {
    "name": "ipython",
    "version": 3
   },
   "file_extension": ".py",
   "mimetype": "text/x-python",
   "name": "python",
   "nbconvert_exporter": "python",
   "pygments_lexer": "ipython3",
   "version": "3.10.11"
  }
 },
 "nbformat": 4,
 "nbformat_minor": 2
}
