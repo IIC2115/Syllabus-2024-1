{
 "cells": [
  {
   "cell_type": "markdown",
   "metadata": {},
   "source": [
    "# Ejercicio Formativo 2 Capítulo 6\n"
   ]
  },
  {
   "cell_type": "markdown",
   "metadata": {},
   "source": [
    "## Importando Librerías\n"
   ]
  },
  {
   "cell_type": "code",
   "execution_count": 1,
   "metadata": {},
   "outputs": [],
   "source": [
    "import json\n",
    "import sqlite3"
   ]
  },
  {
   "cell_type": "markdown",
   "metadata": {},
   "source": [
    "## Misión 1: Modelación de entidades\n"
   ]
  },
  {
   "cell_type": "code",
   "execution_count": 2,
   "metadata": {},
   "outputs": [],
   "source": [
    "with open(\"football_results.json\", encoding=\"utf8\") as football_results_file:\n",
    "    football_results = json.load(football_results_file)"
   ]
  },
  {
   "cell_type": "code",
   "execution_count": 3,
   "metadata": {},
   "outputs": [
    {
     "name": "stdout",
     "output_type": "stream",
     "text": [
      "{'league': 'Bundesliga', 'season': 2014, 'date': '2014-08-22 19:30:00', 'team': 'Bayern Munich', 'h_a': 'h', 'result': 'w', 'pts': 3, 'goals_scored': 2, 'goals_missed': 1, 'deep_passes': 5, 'deep_passes_allowed': 4, 'ppda': 9.625, 'oppda': 21.85}\n",
      "{'league': 'Bundesliga', 'season': 2014, 'date': '2014-08-30 17:30:00', 'team': 'Bayern Munich', 'h_a': 'a', 'result': 'd', 'pts': 1, 'goals_scored': 1, 'goals_missed': 1, 'deep_passes': 10, 'deep_passes_allowed': 1, 'ppda': 4.7560975609756095, 'oppda': 17.695652173913043}\n",
      "{'league': 'Bundesliga', 'season': 2014, 'date': '2014-09-13 14:30:00', 'team': 'Bayern Munich', 'h_a': 'h', 'result': 'w', 'pts': 3, 'goals_scored': 2, 'goals_missed': 0, 'deep_passes': 13, 'deep_passes_allowed': 3, 'ppda': 5.0606060606060606, 'oppda': 16.96153846153846}\n",
      "{'league': 'Bundesliga', 'season': 2014, 'date': '2014-09-20 14:30:00', 'team': 'Bayern Munich', 'h_a': 'a', 'result': 'd', 'pts': 1, 'goals_scored': 0, 'goals_missed': 0, 'deep_passes': 6, 'deep_passes_allowed': 2, 'ppda': 4.423076923076923, 'oppda': 9.4468085106383}\n",
      "{'league': 'Bundesliga', 'season': 2014, 'date': '2014-09-23 19:00:00', 'team': 'Bayern Munich', 'h_a': 'h', 'result': 'w', 'pts': 3, 'goals_scored': 4, 'goals_missed': 0, 'deep_passes': 23, 'deep_passes_allowed': 2, 'ppda': 4.25, 'oppda': 44.8}\n"
     ]
    }
   ],
   "source": [
    "for index in range(5):\n",
    "    print(football_results[index])"
   ]
  },
  {
   "cell_type": "markdown",
   "metadata": {},
   "source": [
    "Se modelarán tres entidades:\n",
    "\n",
    "- **Leagues**: Representa una liga. Tiene los siguientes campos:\n",
    "    - `lid`: Identificador único de la liga. Tendra un campo del tipo INTEGER.\n",
    "    - `name`: Nombre de la liga. Tendra un campo del tipo TEXT.\n",
    "- **Teams**: Representa un equipo. Tiene los siguientes campos:\n",
    "    - `tid`: Identificador único del equipo. Tendra un campo del tipo INTEGER.\n",
    "    - `name`: Nombre del equipo. Tendra un campo del tipo TEXT.\n",
    "- **Games**: Representa un partido. Tiene los siguientes campos:\n",
    "    - `gid`: Identificador único del partido. Tendra un campo del tipo INTEGER.\n",
    "    - `league_id`: Identificador de la liga a la que pertenece el partido. Tendra un campo del tipo INTEGER.\n",
    "    - `season`: Temporada en la que se jugó el partido. Tendra un campo del tipo INTEGER.\n",
    "    - `date`: Fecha en la que se jugó el partido. Tendra un campo del tipo DATE.\n",
    "    - `team_id`: Identificador del equipo que jugó el partido. Tendra un campo del tipo INTEGER.\n",
    "    - `h_a`: Indica si el equipo es local (h) o visitante (a). Tendra un campo del tipo TEXT.\n",
    "    - `result`: Resultado del partido. Tendra un campo del tipo TEXT.\n",
    "    - `pts`: Puntos obtenidos por el equipo. Tendra un campo del tipo INTEGER.\n",
    "    - `goals_scored`: Goles anotados por el equipo analizado. Tendra un campo del tipo INTEGER.\n",
    "    - `goals_missed`: Goles recibidos por el equipo analizado. Tendra un campo del tipo INTEGER.\n",
    "    - `deep_passes`: Pases exitosos realizados por el equipo analizado en los  últimos 20 metros de la cancha (pases profundos). Tendra un campo del tipo INTEGER.\n",
    "    - `deep_passes_allowed`: pases profundos exitosos realizados por el contrincante. Tendra un campo del tipo INTEGER.\n",
    "    - `ppda`: Indice de presión defensiva. Tendra un campo del tipo FLOAT.\n",
    "    - `oppda`: Indice de presión defensiva del equipo contrincante. Tendra un campo del tipo FLOAT."
   ]
  },
  {
   "cell_type": "markdown",
   "metadata": {},
   "source": [
    "Ahora se procederá a crear las tablas"
   ]
  },
  {
   "cell_type": "code",
   "execution_count": 4,
   "metadata": {},
   "outputs": [],
   "source": [
    "connection = sqlite3.connect(\"football_results.db\")\n",
    "cursor = connection.cursor()"
   ]
  },
  {
   "cell_type": "code",
   "execution_count": 5,
   "metadata": {},
   "outputs": [
    {
     "data": {
      "text/plain": [
       "<sqlite3.Cursor at 0x151fd0bb0c0>"
      ]
     },
     "execution_count": 5,
     "metadata": {},
     "output_type": "execute_result"
    }
   ],
   "source": [
    "cursor.execute(\"CREATE TABLE IF NOT EXISTS Leagues(lid INTEGER PRIMARY KEY, name TEXT)\")\n",
    "cursor.execute(\"CREATE TABLE IF NOT EXISTS Teams(tid INTEGER PRIMARY KEY, name TEXT)\")\n",
    "cursor.execute(\n",
    "    \"CREATE TABLE IF NOT EXISTS Games(gid INTEGER PRIMARY KEY, league_id INTEGER, season INTEGER, date DATE, team_id INTEGER, h_a TEXT, result TEXT, pts INTEGER, goals_scored INTEGER, goals_missed INTEGER, deep_passes INTEGER, deep_passes_allowed INTEGER, ppda FLOAT, oppda FLOAT, FOREIGN KEY(league_id) REFERENCES Leagues, FOREIGN KEY(team_id) REFERENCES Teams)\"\n",
    ")"
   ]
  },
  {
   "cell_type": "markdown",
   "metadata": {},
   "source": [
    "Al igual que para el ejercicio anterior, se creará una base de datos en SQLite y se crearán las tablas correspondientes. La diferencia en este ejercicio es que hay algunos campos que hacen referencia a otras tablas. Por ejemplo, el campo `league_id` de la tabla `Games` hace referencia al campo `lid` de la tabla `Leagues`. Para esto, se debe crear una llave foránea que haga referencia a la tabla `Leagues`. Lo mismo se debe hacer para el campo `team_id` de la tabla `Games`, que hace referencia al campo `tid` de la tabla `Teams`. Por ello se añade el campo `FOREIGN KEY` en la creación de la tabla `Games`."
   ]
  },
  {
   "cell_type": "code",
   "execution_count": 6,
   "metadata": {},
   "outputs": [],
   "source": [
    "connection.commit()\n",
    "connection.close()"
   ]
  },
  {
   "cell_type": "markdown",
   "metadata": {},
   "source": [
    "## Misión 2: Carga de datos\n"
   ]
  },
  {
   "cell_type": "code",
   "execution_count": 7,
   "metadata": {},
   "outputs": [],
   "source": [
    "connection = sqlite3.connect(\"football_results.db\")\n",
    "cursor = connection.cursor()\n",
    "\n",
    "lid = 1\n",
    "tid = 1\n",
    "leagues = {}\n",
    "teams = {}\n",
    "\n",
    "for game in football_results:\n",
    "    league_name = game[\"league\"]\n",
    "    if league_name not in leagues:\n",
    "        cursor.execute(\"INSERT INTO Leagues(name) VALUES(?)\", (league_name,))\n",
    "        leagues[league_name] = lid\n",
    "        lid += 1\n",
    "\n",
    "    team_name = game[\"team\"]\n",
    "    if team_name not in teams:\n",
    "        cursor.execute(\"INSERT INTO Teams(name) VALUES(?)\", (team_name,))\n",
    "        teams[team_name] = tid\n",
    "        tid += 1\n",
    "\n",
    "for game in football_results:\n",
    "    league_name = game[\"league\"]\n",
    "    team_name = game[\"team\"]\n",
    "    season = game[\"season\"]\n",
    "    date = game[\"date\"]\n",
    "    h_a = game[\"h_a\"]\n",
    "    result = game[\"result\"]\n",
    "    pts = game[\"pts\"]\n",
    "    goals_scored = game[\"goals_scored\"]\n",
    "    goals_missed = game[\"goals_missed\"]\n",
    "    deep_passes = game[\"deep_passes\"]\n",
    "    deep_passes_allowed = game[\"deep_passes_allowed\"]\n",
    "    ppda = game[\"ppda\"]\n",
    "    oppda = game[\"oppda\"]\n",
    "    data = (\n",
    "        leagues[league_name],\n",
    "        season,\n",
    "        date,\n",
    "        teams[team_name],\n",
    "        h_a,\n",
    "        result,\n",
    "        pts,\n",
    "        goals_scored,\n",
    "        goals_missed,\n",
    "        deep_passes,\n",
    "        deep_passes_allowed,\n",
    "        ppda,\n",
    "        oppda,\n",
    "    )\n",
    "\n",
    "    cursor.execute(\n",
    "        \"INSERT INTO Games(league_id, season, date, team_id, h_a, result, pts, goals_scored, goals_missed, deep_passes, deep_passes_allowed, ppda, oppda) VALUES(?,?,?,?,?,?,?,?,?,?,?,?,?)\",\n",
    "        data,\n",
    "    )\n",
    "\n",
    "connection.commit()\n",
    "connection.close()"
   ]
  },
  {
   "cell_type": "markdown",
   "metadata": {},
   "source": [
    "En primer lugar se crean los diccionarios para las entidades `Leagues` y `Teams`, además se inicializan los identificadores de las entidades en 1."
   ]
  },
  {
   "cell_type": "markdown",
   "metadata": {},
   "source": [
    "Desglozamos el código para hacerlo más entendible:"
   ]
  },
  {
   "cell_type": "markdown",
   "metadata": {},
   "source": [
    "```python\n",
    "for game in football_results:\n",
    "    league_name = game[\"league\"]\n",
    "    if league_name not in leagues:\n",
    "        cursor.execute(\"INSERT INTO Leagues(name) VALUES(?)\", (league_name,))\n",
    "        leagues[league_name] = lid\n",
    "        lid += 1\n",
    "\n",
    "    team_name = game[\"team\"]\n",
    "    if team_name not in teams:\n",
    "        cursor.execute(\"INSERT INTO Teams(name) VALUES(?)\", (team_name,))\n",
    "        teams[team_name] = tid\n",
    "        tid += 1\n",
    "```"
   ]
  },
  {
   "cell_type": "markdown",
   "metadata": {},
   "source": [
    "Lo que hace este segmento de código es recorrer la lista `football_results` y por cada partido, se verifica si la liga del partido ya se encuentra en el diccionario `leagues`. Si no se encuentra, se inserta la liga en la tabla `Leagues` y se añade al diccionario `leagues`. Lo mismo se hace para los equipos, verificando si el equipo ya se encuentra en el diccionario `teams`. Si no se encuentra, se inserta el equipo en la tabla `Teams` y se añade al diccionario `teams`. Recordar que por tabla se refiere a la base de datos.\n"
   ]
  },
  {
   "cell_type": "markdown",
   "metadata": {},
   "source": [
    "```python\n",
    "for game in football_results:\n",
    "    league_name = game[\"league\"]\n",
    "    team_name = game[\"team\"]\n",
    "    season = game[\"season\"]\n",
    "    date = game[\"date\"]\n",
    "    h_a = game[\"h_a\"]\n",
    "    result = game[\"result\"]\n",
    "    pts = game[\"pts\"]\n",
    "    goals_scored = game[\"goals_scored\"]\n",
    "    goals_missed = game[\"goals_missed\"]\n",
    "    deep_passes = game[\"deep_passes\"]\n",
    "    deep_passes_allowed = game[\"deep_passes_allowed\"]\n",
    "    ppda = game[\"ppda\"]\n",
    "    oppda = game[\"oppda\"]\n",
    "    data = (\n",
    "        leagues[league_name],\n",
    "        season,\n",
    "        date,\n",
    "        teams[team_name],\n",
    "        h_a,\n",
    "        result,\n",
    "        pts,\n",
    "        goals_scored,\n",
    "        goals_missed,\n",
    "        deep_passes,\n",
    "        deep_passes_allowed,\n",
    "        ppda,\n",
    "        oppda,\n",
    "    )\n",
    "\n",
    "    cursor.execute(\n",
    "        \"INSERT INTO Games(league_id, season, date, team_id, h_a, result, pts, goals_scored, goals_missed, deep_passes, deep_passes_allowed, ppda, oppda) VALUES(?,?,?,?,?,?,?,?,?,?,?,?,?)\",\n",
    "        data,\n",
    "    )\n",
    "```"
   ]
  },
  {
   "cell_type": "markdown",
   "metadata": {},
   "source": [
    "Para esta parte del código nuevamente se iterará sobre la lista `football_results` y por cada partido se obtienen los datos necesarios para insertar en la tabla `Games`. Se obtienen los identificadores de la liga y del equipo del partido, que se encuentran en los diccionarios `leagues` y `teams`, respectivamente. Luego se insertan los datos en la tabla `Games`."
   ]
  },
  {
   "cell_type": "markdown",
   "metadata": {},
   "source": [
    "Como se pudo observar en este ejercicio y en el ejercicio anterior, para realizar las operaciones de creación de tablas e inserción de datos se utiliza generalmente el mismo patrón de código, lo que cambia es principalmente la estructura de las tablas y los datos a insertar, lo cual esta determinado por el problema a resolver y la interpretación de los datos. También se recalca que la manera de insertar los datos queda al criterio de cada uno, ya que por ejemplo en mi caso se realizaron varias iteraciones para insertar los datos, pero esto no es una regla, se puede insertar los datos de una sola vez si se desea."
   ]
  }
 ],
 "metadata": {
  "kernelspec": {
   "display_name": "Python 3",
   "language": "python",
   "name": "python3"
  },
  "language_info": {
   "codemirror_mode": {
    "name": "ipython",
    "version": 3
   },
   "file_extension": ".py",
   "mimetype": "text/x-python",
   "name": "python",
   "nbconvert_exporter": "python",
   "pygments_lexer": "ipython3",
   "version": "3.10.11"
  }
 },
 "nbformat": 4,
 "nbformat_minor": 2
}
